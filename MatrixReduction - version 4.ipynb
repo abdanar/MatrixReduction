{
 "cells": [
  {
   "cell_type": "markdown",
   "id": "f243fb99-810c-46f2-8d1c-419c8cecf606",
   "metadata": {},
   "source": [
    "The transfer function for the causal LTI system with a realization $(A, B, C, D)$ is given by\n",
    "\\begin{equation*}\n",
    "    H(s) = C(sI_{n} - A)^{-1}B.\n",
    "\\end{equation*}\n",
    "Notice that $H(s) = Cv(s)$, where $v(s)$ is the solution of a parametrized linear coercive model\n",
    "\\begin{equation}\n",
    "    a(v, w; s) = l(w),\n",
    "\\end{equation}\n",
    "where $a(v, w; s) = w^{*}(sI_{n} - A)v$ and $l(w) = w^{*}B$. In other words, we replace the matrix computation of $(sI_{n} - A)^{-1}B$ with a parametrized model (1). However, if one wants to apply this to the Iterative rational Krylov algorithm (IRKA), then the following matrix computations must be done to construct the projection matrices $V$ and $W$:\n",
    "\\begin{equation*}\n",
    "    (-\\mu_{i}I_{n} - A)^{-1}B\\hat{b}_{i}, \\quad \\text{and} \\quad (-\\mu_{i}I_{n} - A)^{-*}C^{T}\\hat{c}_{i} \\quad \\text{for } i = 1,\\ldots,r,\n",
    "\\end{equation*}\n",
    "where $-\\mu_{i}, \\hat{c}_{i}, \\hat{b}_{i}$ are some initial interpolation data and $0 < r \\leq n$ is the desired order of approximating ROM. So, we have decided to solve two parametrized linear coercive models to construct projection matrices $V$ and $W$:\n",
    "\\begin{equation}\n",
    "    a_{1}(v_{1}, w; s) = l_{1}(w) \\quad \\text{and} \\quad a_{2}(v_{2}, w; s) = l_{2}(w),\n",
    "\\end{equation}\n",
    "where $a_{1}(v_{1}, w; s) = w^{*}(sI_{n} - A)v_{1}$ and $l_{1}(w) = w^{*}B$, and $a_{2}(v_{2}, w; s) = w^{*}(sI_{n} - A)^{*}v_{2}$ and $l_{2}(w) = w^{*}C^{T}$, and solutions to these parametrized linear coercive models are\n",
    "\\begin{equation*}\n",
    "    v_{1}(s) = (sI_{n} - A)^{-1}B \\quad \\text{and} \\quad v_{2}(s) = (sI_{n} - A)^{-*}C^{T}.\n",
    "\\end{equation*}\n",
    "Therefore, knowing $v_{1}(\\mu_{i})$ and $v_{2}(\\mu_{i})$ for $i = 1, \\ldots, r$ will suffice for constructing the projection matrices $V$ and $W$. Also, note that these two FOMs are parameter-separable, i.e.,\n",
    "\\begin{equation*}\n",
    "    a_{1}(v_{1},w;s) = w^{*}(sI_{n} - A)v_{1} = sw^{*}I_{n}v_{1} - w^{*}Av_{1}  \\quad  a_{2}(v_{2},w;s) = w^{*}(sI_{n} - A)^{*}v_{2} = \\overline{s}w^{*}I_{n}v_{2} - w^{*}A^{*}v_{2}.\n",
    "\\end{equation*}"
   ]
  },
  {
   "cell_type": "code",
   "execution_count": 6,
   "id": "b2d1bcb5-cc0e-4fea-857a-a99f7cb1031c",
   "metadata": {},
   "outputs": [],
   "source": [
    "import numpy as np\n",
    "import matplotlib.pyplot as plt\n",
    "from numpy.linalg import inv, norm\n",
    "from pymor.basic import *\n",
    "from pymor.models.basic import StationaryModel\n",
    "from pymor.operators.constructions import LincombOperator\n",
    "from pymor.operators.numpy import NumpyMatrixOperator\n",
    "from pymor.parameters.functionals import ProjectionParameterFunctional, ConjugateParameterFunctional\n",
    "from pymor.vectorarrays.numpy import NumpyVectorSpace"
   ]
  },
  {
   "cell_type": "markdown",
   "id": "6592df60-f621-4eb5-a723-c180b2ba1879",
   "metadata": {},
   "source": [
    "### Constructing a stationary model\n",
    "Let us construct a stationary model of the following parametrized linear coercive model using `pyMOR`:\n",
    "\\begin{equation}\n",
    "    a(v, w; s) = l(w),\n",
    "\\end{equation}\n",
    "where $a(v, w; s) = w^{*}(sI_{n} - A)v$ and $l(w) = w^{*}B$."
   ]
  },
  {
   "cell_type": "code",
   "execution_count": 13,
   "id": "6e5a5d02-f4fb-4418-9e71-25a089a3ec0d",
   "metadata": {},
   "outputs": [],
   "source": [
    "def MatrixModel(A, B):\n",
    "\n",
    "    '''\n",
    "    This function create a stationary model of the following linear coercive model derived for the given two matrices A and B:\n",
    "    \n",
    "        a(v, w; s) =w^{*}(sI_{n} - A)v and l(w) = w^{*}B.\n",
    "    '''\n",
    "\n",
    "    # Define NumpyMatrixOperators\n",
    "    if isinstance(A, np.ndarray) and isinstance(B, np.ndarray):\n",
    "        dim = A.shape[0]\n",
    "        A_op = NumpyMatrixOperator(A)\n",
    "        B_op = NumpyMatrixOperator(B) # B.shape = (-,1) \n",
    "    else:\n",
    "        dim = to_matrix(A).shape[0]\n",
    "        A_op = A\n",
    "        B_op = B \n",
    "\n",
    "    I_op = NumpyMatrixOperator(np.eye(dim))\n",
    "\n",
    "    # Define parameter functional for 's'\n",
    "    s_param = ProjectionParameterFunctional('s', 1)\n",
    "\n",
    "    # Define bilinear form a(v, w; s) = w^* (sI - A)v\n",
    "    a_op = LincombOperator([I_op, A_op], [s_param, -1])\n",
    "\n",
    "    # Define linear functional l(w) = w^*B\n",
    "    l_op = B_op\n",
    "\n",
    "    # Define the StationaryModel\n",
    "    model = StationaryModel(operator = a_op, rhs = l_op)\n",
    "\n",
    "    return model"
   ]
  },
  {
   "cell_type": "markdown",
   "id": "b2815a64-3885-48f9-ba8c-ac4d582a96b2",
   "metadata": {},
   "source": [
    "### Examples\n",
    "Notice that to make this process more convenient, we provide two options for input matrices. If one has the matrices as `NumPy` arrays, they can import them directly without changing their type to work with `pyMOR`. Additionally, if one wants to input matrices from existing `pyMOR` models, this can also be done directly. To demonstrate this, we provide two examples: one with random matrices that we construct ourselves, and the other with matrices imported from the `penzl_example` in `pymor.models.examples`.\n"
   ]
  },
  {
   "cell_type": "code",
   "execution_count": 14,
   "id": "9a187f88-ab03-4c8b-af30-2cb5e9400190",
   "metadata": {},
   "outputs": [
    {
     "data": {
      "text/plain": [
       "StationaryModel(\n",
       "    LincombOperator(\n",
       "        (NumpyMatrixOperator(<20x20 dense>), NumpyMatrixOperator(<20x20 dense>)),\n",
       "        (ProjectionParameterFunctional('s', index=0), -1)),\n",
       "    NumpyMatrixOperator(<20x1 dense>),\n",
       "    output_functional=ZeroOperator(NumpyVectorSpace(0), NumpyVectorSpace(20)),\n",
       "    products={},\n",
       "    output_d_mu_use_adjoint=True)"
      ]
     },
     "execution_count": 14,
     "metadata": {},
     "output_type": "execute_result"
    }
   ],
   "source": [
    "# Stationary model constructed using random numpy arrays\n",
    "\n",
    "# Randomly generated arrays\n",
    "np.random.seed(127)\n",
    "matrixA = np.random.rand(20, 20) # A is 20x20 matrix\n",
    "matrixB = np.random.rand(20).reshape(20,1) # B is 20x1 vector\n",
    "\n",
    "model_numpy = MatrixModel(A = matrixA, B = matrixB)\n",
    "model_numpy"
   ]
  },
  {
   "cell_type": "code",
   "execution_count": 15,
   "id": "b936a0a6-c7ce-481f-acb3-2ab87e82799a",
   "metadata": {},
   "outputs": [
    {
     "data": {
      "application/vnd.jupyter.widget-view+json": {
       "model_id": "03368188fee24c099e89c5b713d61217",
       "version_major": 2,
       "version_minor": 0
      },
      "text/plain": [
       "Accordion(children=(HTML(value='', layout=Layout(height='16em', width='100%')),), titles=('Log Output',))"
      ]
     },
     "metadata": {},
     "output_type": "display_data"
    },
    {
     "name": "stdout",
     "output_type": "stream",
     "text": [
      "The solution to the linear coercive model is \n",
      " [[ 1.10896524  1.96032033  0.02339715  0.52739001 -0.35238441 -1.85189312\n",
      "  -0.11570617 -0.4575037   0.55493919 -0.96350068  1.01490125  0.05632634\n",
      "   0.23435721 -0.72291187  0.47195613 -1.1582535  -0.48791287  0.20426283\n",
      "  -0.56944887 -0.30429143]].\n",
      "The exact value of the matrix computation (1.4I - A)^{-1}B is \n",
      " [[ 1.10896524  1.96032033  0.02339715  0.52739001 -0.35238441 -1.85189312\n",
      "  -0.11570617 -0.4575037   0.55493919 -0.96350068  1.01490125  0.05632634\n",
      "   0.23435721 -0.72291187  0.47195613 -1.1582535  -0.48791287  0.20426283\n",
      "  -0.56944887 -0.30429143]].\n",
      "The L-infinity error is 2.4424906541753444e-15.\n"
     ]
    }
   ],
   "source": [
    "# Set parameter for evaluation\n",
    "parameter = {'s': 1.4}  # s = 1.4\n",
    "\n",
    "# Solve the model\n",
    "solution = model_numpy.solve(parameter).to_numpy()\n",
    "\n",
    "# Exact matrix computation\n",
    "exact = (inv(parameter['s']*np.eye(20) - matrixA)@matrixB).reshape(1, 20)\n",
    "\n",
    "# A comparison between the model's result and the exact matrix computation\n",
    "print(f'The solution to the linear coercive model is \\n {solution}.')\n",
    "print(f'The exact value of the matrix computation ({parameter[\"s\"]}I - A)^{{-1}}B is \\n {exact}.')\n",
    "print(f'The L-infinity error is {np.max(abs(exact - solution))}.')"
   ]
  },
  {
   "cell_type": "code",
   "execution_count": 16,
   "id": "6fedee36-5de9-41a0-b802-5df69b135ab7",
   "metadata": {
    "scrolled": true
   },
   "outputs": [
    {
     "data": {
      "text/plain": [
       "StationaryModel(\n",
       "    LincombOperator(\n",
       "        (NumpyMatrixOperator(<1006x1006 dense>), NumpyMatrixOperator(<1006x1006 sparse, 1012 nnz>)),\n",
       "        (ProjectionParameterFunctional('s', index=0), -1)),\n",
       "    NumpyMatrixOperator(<1006x1 dense>),\n",
       "    output_functional=ZeroOperator(NumpyVectorSpace(0), NumpyVectorSpace(1006)),\n",
       "    products={},\n",
       "    output_d_mu_use_adjoint=True)"
      ]
     },
     "execution_count": 16,
     "metadata": {},
     "output_type": "execute_result"
    }
   ],
   "source": [
    "# Stationary model constructed using matrices obtained from penzl example\n",
    "from pymor.models.examples import penzl_example\n",
    "\n",
    "penzl = penzl_example()\n",
    "\n",
    "model_penzl = MatrixModel(penzl.A, penzl.B)\n",
    "model_penzl"
   ]
  },
  {
   "cell_type": "code",
   "execution_count": 17,
   "id": "e89aa89f-bc33-474a-8676-0c8f844e48a6",
   "metadata": {},
   "outputs": [
    {
     "data": {
      "application/vnd.jupyter.widget-view+json": {
       "model_id": "514268fdaed3490486ad2a92f5faadf5",
       "version_major": 2,
       "version_minor": 0
      },
      "text/plain": [
       "Accordion(children=(HTML(value='', layout=Layout(height='16em', width='100%')),), titles=('Log Output',))"
      ]
     },
     "metadata": {},
     "output_type": "display_data"
    },
    {
     "name": "stdout",
     "output_type": "stream",
     "text": [
      "The solution to the linear coercive model is \n",
      " [[ 0.10004002+2.00080032e-03j -0.10004002+2.00080032e-03j\n",
      "   0.050005  +5.00050005e-04j ...  0.001003  -2.01204612e-06j\n",
      "   0.001002  -2.00801600e-06j  0.001001  -2.00399798e-06j]].\n",
      "The exact value of the matrix computation ((-1+2j)I - A)^{-1}B is \n",
      " [[ 0.10004002+2.00080032e-03j -0.10004002+2.00080032e-03j\n",
      "   0.050005  +5.00050005e-04j ...  0.001003  -2.01204612e-06j\n",
      "   0.001002  -2.00801600e-06j  0.001001  -2.00399798e-06j]].\n",
      "The L-infinity error is 2.7755575615628914e-17.\n"
     ]
    }
   ],
   "source": [
    "from pymor.algorithms.to_matrix import to_matrix\n",
    "\n",
    "# Set parameter for evaluation\n",
    "parameter = {'s': -1 + 2*1j}  # s = - 1 + 2i\n",
    "\n",
    "# Solve the model\n",
    "solution = model_penzl.solve(parameter).to_numpy()\n",
    "\n",
    "# Exact matrix computation\n",
    "matrixA = to_matrix(penzl.A).toarray()\n",
    "matrixB = to_matrix(penzl.B)\n",
    "\n",
    "exact = (inv(parameter['s']*np.eye(penzl.order) - matrixA)@matrixB).reshape(1, penzl.order)\n",
    "\n",
    "# A comparison between the model's result and the exact matrix computation\n",
    "print(f'The solution to the linear coercive model is \\n {solution}.')\n",
    "print(f'The exact value of the matrix computation ({parameter[\"s\"]}I - A)^{{-1}}B is \\n {exact}.')\n",
    "print(f'The L-infinity error is {np.max(abs(exact - solution))}.')"
   ]
  },
  {
   "cell_type": "markdown",
   "id": "6c4524c1-8f04-477e-ae98-8d0833a2d987",
   "metadata": {},
   "source": [
    "## Reduced Basis Methods\n",
    "\n",
    "As an example, we will use `penzl_example` from `pymor.models.examples` to construct a reduced basis using the reduced basis methods available in `pyMOR`."
   ]
  },
  {
   "cell_type": "code",
   "execution_count": 18,
   "id": "7d507872-5ef7-45d3-bd79-b41e3d0cff35",
   "metadata": {},
   "outputs": [],
   "source": [
    "from pymor.models.examples import penzl_example\n",
    "\n",
    "penzl = penzl_example()\n",
    "model_penzl = MatrixModel(penzl.A, penzl.B)"
   ]
  },
  {
   "cell_type": "markdown",
   "id": "698bffee-4de6-4e31-8a3f-52807cd936a1",
   "metadata": {},
   "source": [
    "### POD-Galerkin Method"
   ]
  },
  {
   "cell_type": "code",
   "execution_count": 19,
   "id": "d1790e6b-5614-4256-b6dc-af50775d4d3d",
   "metadata": {},
   "outputs": [
    {
     "data": {
      "application/vnd.jupyter.widget-view+json": {
       "model_id": "7010668d6f5c4e68867ff2452ba488a5",
       "version_major": 2,
       "version_minor": 0
      },
      "text/plain": [
       "Accordion(children=(HTML(value='', layout=Layout(height='16em', width='100%')),), titles=('Log Output',))"
      ]
     },
     "metadata": {},
     "output_type": "display_data"
    },
    {
     "name": "stdout",
     "output_type": "stream",
     "text": [
      "An 1006 by 50 snapshot matrix is \n",
      " [[ 0.10795764  0.10229748  0.1059361  ...  0.10341161  0.10639759\n",
      "   0.10192041]\n",
      " [-0.09050818 -0.09759174 -0.09325683 ... -0.09633788 -0.0926534\n",
      "  -0.09800283]\n",
      " [ 0.05209736  0.05058154  0.05153912 ...  0.05086938  0.05166463\n",
      "   0.05048504]\n",
      " ...\n",
      " [ 0.00099424  0.00100065  0.00099665 ...  0.00099946  0.00099611\n",
      "   0.00100104]\n",
      " [ 0.00099325  0.00099965  0.00099565 ...  0.00099846  0.00099512\n",
      "   0.00100004]\n",
      " [ 0.00099227  0.00099865  0.00099466 ...  0.00099747  0.00099413\n",
      "   0.00099904]]\n"
     ]
    }
   ],
   "source": [
    "# Define a parameter space\n",
    "parameter_space = model_penzl.parameters.space(0.01, 10.)\n",
    "\n",
    "# Define a training set\n",
    "training_set = parameter_space.sample_randomly(50)\n",
    "\n",
    "# Compute FOM solutions for the parameters in the training set\n",
    "solution_snapshots = model_penzl.solution_space.empty()\n",
    "for s in training_set:\n",
    "    solution_snapshots.append(model_penzl.solve(s))\n",
    "\n",
    "# Snapshot matrix S\n",
    "snapshot_matrix = solution_snapshots.to_numpy().T\n",
    "print(f'An {snapshot_matrix.shape[0]} by {snapshot_matrix.shape[1]} snapshot matrix is \\n {snapshot_matrix}')"
   ]
  },
  {
   "cell_type": "code",
   "execution_count": 20,
   "id": "a7156f42-ddfa-408e-844d-d1d8d4c85c73",
   "metadata": {},
   "outputs": [
    {
     "name": "stdout",
     "output_type": "stream",
     "text": [
      "The reduced basis (containing the first 20 left singular vectors (POD modes) of the snapshot matrix as its columns) is \n",
      " [[-0.2009941  -0.32142291  0.38144638 ...  0.00451314  0.00371383\n",
      "   0.00647155]\n",
      " [ 0.17989271  0.23895701 -0.15761531 ...  0.00517843  0.03855544\n",
      "   0.03331416]\n",
      " [-0.0981402  -0.15195438  0.16934013 ...  0.0009013  -0.35255086\n",
      "  -0.32131615]\n",
      " ...\n",
      " [-0.00190681 -0.00280865  0.00275779 ...  0.00278503  0.0005141\n",
      "   0.01340263]\n",
      " [-0.00190491 -0.00280587  0.00275514 ... -0.00518794  0.00437371\n",
      "   0.00844985]\n",
      " [-0.00190301 -0.00280311  0.00275249 ...  0.00494473  0.00435284\n",
      "   0.01099005]]\n"
     ]
    }
   ],
   "source": [
    "# Finding the Singular Value Decomposition (SVD) of the snapshot matrix -> S = UΣV^T\n",
    "U, D, Vt = np.linalg.svd(snapshot_matrix, full_matrices = True) # using 'pod_basis, pod_singular_values = pod(solution_snapshots)' gives wrong result (pod_basis._len != 10 (5 != 10)); that's why we don't use it here. \n",
    "\n",
    "# Activate below to automatically select the number of modes based on the energy criterion\n",
    "## The number of modes m should be chosen based on the energy criterion, which ensures that a sufficient portion of the system's total energy (or variance) is captured by the first m modes.\n",
    "#cumulative_energy = np.cumsum(D**2) / np.sum(D**2)\n",
    "\n",
    "##Select the number of modes m to capture at least 95% of the energy\n",
    "#threshold = 0.95  # 95% of the total energy\n",
    "#m = np.argmax(cumulative_energy >= threshold) + 1\n",
    "\n",
    "m = 20 # this is also a reduction order\n",
    "\n",
    "if m > min(snapshot_matrix.shape):\n",
    "    raise ValueError(\"m cannot exceed the rank of the snapshot matrix.\")\n",
    "\n",
    "# The reduced basis (POD basis)\n",
    "pod_basis_numpy = U[:,:m]\n",
    "print(f'The reduced basis (containing the first {m} left singular vectors (POD modes) of the snapshot matrix as its columns) is \\n {pod_basis_numpy}')"
   ]
  },
  {
   "cell_type": "code",
   "execution_count": 21,
   "id": "6e2d4cd6-a81c-4825-86df-ba27c8ae6363",
   "metadata": {},
   "outputs": [
    {
     "data": {
      "application/vnd.jupyter.widget-view+json": {
       "model_id": "36fbe2d757b2418f82d9a6c2205decc7",
       "version_major": 2,
       "version_minor": 0
      },
      "text/plain": [
       "Accordion(children=(HTML(value='', layout=Layout(height='16em', width='100%')),), titles=('Log Output',))"
      ]
     },
     "metadata": {},
     "output_type": "display_data"
    },
    {
     "data": {
      "text/plain": [
       "StationaryModel(\n",
       "    LincombOperator(\n",
       "        (NumpyMatrixOperator(<20x20 dense>), NumpyMatrixOperator(<20x20 dense>)),\n",
       "        (ProjectionParameterFunctional('s', index=0), -1)),\n",
       "    NumpyMatrixOperator(<20x1 dense>),\n",
       "    output_functional=ZeroOperator(NumpyVectorSpace(0), NumpyVectorSpace(20)),\n",
       "    products={},\n",
       "    output_d_mu_use_adjoint=True,\n",
       "    name='StationaryModel_reduced')"
      ]
     },
     "execution_count": 21,
     "metadata": {},
     "output_type": "execute_result"
    }
   ],
   "source": [
    "from pymor.reductors.basic import StationaryRBReductor\n",
    "\n",
    "# Convert NumPy array into VectorArray \n",
    "'''\n",
    "The two lines below are the correct way to convert a NumPy reduced basis array into a VectorArray. However, the 'StationaryRBReductor' raises an error because \n",
    "'pod_basis in model_penzl.solution_space' is set to False. This happens because 'pod_basis.dim' is not equal to 'model_penzl.solution_space.dim'. This is \n",
    "expected since pod_basis.dim equals m (the number of modes, which can vary and is not fixed), whereas model_penzl.solution_space.dim is a fixed integer.\n",
    "'''\n",
    "#space = NumpyVectorSpace(m)\n",
    "#pod_basis = space.make_array(pod_basis_numpy)\n",
    "\n",
    "space = NumpyVectorSpace(model_penzl.order)\n",
    "pod_basis = space.make_array(pod_basis_numpy.T) #This is actually transpose of POD-RB basis\n",
    "\n",
    "# POD-Galerkin RB method\n",
    "pod_reductor = StationaryRBReductor(model_penzl, RB = pod_basis) \n",
    "pod_rom = pod_reductor.reduce()\n",
    "pod_rom"
   ]
  },
  {
   "cell_type": "code",
   "execution_count": 22,
   "id": "9eaeba71-9b3d-4120-a2c2-719e91897e16",
   "metadata": {},
   "outputs": [
    {
     "name": "stdout",
     "output_type": "stream",
     "text": [
      "The reconstructed reduced solution matrix (with rows representing the reconstructed reduced solutions for different parameter values) is \n",
      " [[ 0.10661807 -0.09236029  0.05172498 ...  0.00099585  0.00099486\n",
      "   0.00099387]\n",
      " [ 0.10264519 -0.09720682  0.05067092 ...  0.00100028  0.00099928\n",
      "   0.00099828]\n",
      " [ 0.10618374 -0.09293469  0.05160634 ...  0.00099636  0.00099537\n",
      "   0.00099438]\n",
      " ...\n",
      " [ 0.10657913 -0.09241229  0.0517143  ...  0.0009959   0.00099491\n",
      "   0.00099392]\n",
      " [ 0.10152993 -0.09842176  0.05038557 ...  0.00100145  0.00100045\n",
      "   0.00099945]\n",
      " [ 0.10661928 -0.09235867  0.05172531 ...  0.00099585  0.00099486\n",
      "   0.00099387]]\n"
     ]
    }
   ],
   "source": [
    "import time\n",
    "\n",
    "# Start timing\n",
    "start_time_reduce = time.time()\n",
    "\n",
    "# Define a parameter space\n",
    "parameter_space = model_penzl.parameters.space(0.01, 10.)\n",
    "\n",
    "# Define a validation set\n",
    "r = 100\n",
    "validation_set = parameter_space.sample_randomly(r)\n",
    "\n",
    "# Solution array containing r many reduced samples\n",
    "reduced_solution = pod_rom.solution_space.empty()\n",
    "for s in validation_set:\n",
    "    reduced_solution.append(pod_rom.solve(s))\n",
    "\n",
    "# End timing\n",
    "end_time_reduce = time.time()\n",
    "\n",
    "# Compute and print the elapsed time\n",
    "elapsed_time_reduce = end_time_reduce - start_time_reduce\n",
    "\n",
    "# Reconstruct high-dimensional vector from reduced vector (necessary for error analysis)\n",
    "reduced_solution_reconstruct = pod_reductor.reconstruct(reduced_solution)\n",
    "\n",
    "print(f'The reconstructed reduced solution matrix (with rows representing the reconstructed reduced solutions for different parameter values) is \\n {reduced_solution_reconstruct}')"
   ]
  },
  {
   "cell_type": "code",
   "execution_count": 23,
   "id": "6b753586-0ccd-456d-8d6c-528e5b9c98ad",
   "metadata": {},
   "outputs": [],
   "source": [
    "## Exact matrix computation\n",
    "\n",
    "# Start timing\n",
    "start_time_exact = time.time()\n",
    "\n",
    "matrixA = to_matrix(penzl.A).toarray()\n",
    "matrixB = to_matrix(penzl.B)\n",
    "\n",
    "# Create a NumPy array containing parameters\n",
    "s_values = np.array([s['s'] for s in validation_set]) \n",
    "\n",
    "# Identity matrix of appropriate size\n",
    "identity = np.eye(penzl.order)\n",
    "\n",
    "exact_solution = np.vstack([(np.linalg.inv(s * identity - matrixA) @ matrixB).flatten() for s in s_values])\n",
    "\n",
    "# End timing\n",
    "end_time_exact = time.time()\n",
    "\n",
    "# Compute and print the elapsed time\n",
    "elapsed_time_exact = end_time_exact - start_time_exact"
   ]
  },
  {
   "cell_type": "code",
   "execution_count": 24,
   "id": "bee71931-6949-45a9-83b5-95518bea1b09",
   "metadata": {},
   "outputs": [
    {
     "data": {
      "application/vnd.jupyter.widget-view+json": {
       "model_id": "9881f2c6d5c742d7a1f8c83a58de7f66",
       "version_major": 2,
       "version_minor": 0
      },
      "text/plain": [
       "Accordion(children=(HTML(value='', layout=Layout(height='16em', width='100%')),), titles=('Log Output',))"
      ]
     },
     "metadata": {},
     "output_type": "display_data"
    },
    {
     "name": "stdout",
     "output_type": "stream",
     "text": [
      "-------------------- Look below to check if things are going well ------------------------------\n",
      "[The L-infinity norm] The best is 6.38378239159465e-16 and worst is 9.259593092281193e-12.\n",
      "[The L-2 norm] The best is 1.0327278101211723e-15 and worst is 2.131053390335926e-11.\n",
      "-------------------- Linf and L2 norms (array) of error vectors ------------------------------\n",
      "The L-infinity norm of (Exact solution - ROM solution) is [6.93889390e-16 2.33146835e-15 9.71445147e-16 7.49400542e-16\n",
      " 8.88178420e-16 8.60422844e-16 7.63278329e-16 7.63278329e-16\n",
      " 9.71445147e-16 8.32667268e-16 6.38378239e-16 2.99760217e-15\n",
      " 2.49800181e-15 2.99760217e-15 7.63278329e-16 1.22124533e-15\n",
      " 7.21644966e-16 7.77156117e-16 1.47104551e-15 7.35522754e-16\n",
      " 7.35522754e-16 1.49880108e-15 1.30451205e-15 1.69309011e-15\n",
      " 2.38697950e-15 2.55351296e-15 6.93889390e-16 1.05471187e-15\n",
      " 1.05471187e-15 7.35522754e-16 8.32667268e-16 7.21644966e-16\n",
      " 7.07767178e-16 1.02695630e-15 1.05471187e-15 6.93889390e-16\n",
      " 8.04911693e-16 6.52256027e-16 2.60902411e-15 7.35522754e-16\n",
      " 7.77156117e-16 2.49800181e-15 8.04911693e-16 7.49400542e-16\n",
      " 5.12517806e-12 9.99200722e-16 7.21644966e-16 1.49880108e-15\n",
      " 9.43689571e-16 9.43689571e-16 1.36002321e-15 6.80011603e-16\n",
      " 7.63278329e-16 2.99760217e-15 6.80011603e-16 6.93889390e-16\n",
      " 1.27675648e-15 6.93889390e-16 3.16413562e-15 6.38378239e-16\n",
      " 7.49400542e-16 7.49400542e-16 2.99760217e-15 7.07767178e-16\n",
      " 1.11761989e-12 1.55431223e-15 2.33146835e-15 7.49400542e-16\n",
      " 1.72084569e-15 6.52256027e-16 7.07767178e-16 5.51794721e-13\n",
      " 9.25959309e-12 1.00558450e-13 8.32667268e-16 6.93889390e-16\n",
      " 1.83186799e-15 7.21644966e-16 4.96269692e-14 6.80011603e-16\n",
      " 7.21644966e-16 7.35522754e-16 7.77156117e-16 7.49400542e-16\n",
      " 3.65610320e-13 2.05391260e-15 2.44249065e-15 8.60422844e-16\n",
      " 6.52256027e-16 7.77156117e-16 7.07767178e-16 2.38697950e-15\n",
      " 7.35522754e-16 1.83186799e-15 1.55431223e-15 7.07767178e-16\n",
      " 6.93889390e-16 8.04911693e-16 7.07489622e-14 7.21644966e-16].\n",
      "The L-infinity norm of (FOM solution - ROM solution) is [6.93889390e-16 2.33146835e-15 9.71445147e-16 7.49400542e-16\n",
      " 8.88178420e-16 8.60422844e-16 7.63278329e-16 7.63278329e-16\n",
      " 9.71445147e-16 8.32667268e-16 6.38378239e-16 2.99760217e-15\n",
      " 2.49800181e-15 2.99760217e-15 7.63278329e-16 1.22124533e-15\n",
      " 7.21644966e-16 7.77156117e-16 1.47104551e-15 7.35522754e-16\n",
      " 7.35522754e-16 1.49880108e-15 1.30451205e-15 1.69309011e-15\n",
      " 2.38697950e-15 2.55351296e-15 6.93889390e-16 1.05471187e-15\n",
      " 1.05471187e-15 7.35522754e-16 8.32667268e-16 7.21644966e-16\n",
      " 7.07767178e-16 1.02695630e-15 1.05471187e-15 6.93889390e-16\n",
      " 8.04911693e-16 6.52256027e-16 2.60902411e-15 7.35522754e-16\n",
      " 7.77156117e-16 2.49800181e-15 8.04911693e-16 7.49400542e-16\n",
      " 5.12517806e-12 9.99200722e-16 7.21644966e-16 1.49880108e-15\n",
      " 9.43689571e-16 9.43689571e-16 1.36002321e-15 6.80011603e-16\n",
      " 7.63278329e-16 2.99760217e-15 6.80011603e-16 6.93889390e-16\n",
      " 1.27675648e-15 6.93889390e-16 3.16413562e-15 6.38378239e-16\n",
      " 7.49400542e-16 7.49400542e-16 2.99760217e-15 7.07767178e-16\n",
      " 1.11761989e-12 1.55431223e-15 2.33146835e-15 7.49400542e-16\n",
      " 1.72084569e-15 6.52256027e-16 7.07767178e-16 5.51794721e-13\n",
      " 9.25959309e-12 1.00558450e-13 8.32667268e-16 6.93889390e-16\n",
      " 1.83186799e-15 7.21644966e-16 4.96269692e-14 6.80011603e-16\n",
      " 7.21644966e-16 7.35522754e-16 7.77156117e-16 7.49400542e-16\n",
      " 3.65610320e-13 2.05391260e-15 2.44249065e-15 8.60422844e-16\n",
      " 6.52256027e-16 7.77156117e-16 7.07767178e-16 2.38697950e-15\n",
      " 7.35522754e-16 1.83186799e-15 1.55431223e-15 7.07767178e-16\n",
      " 6.93889390e-16 8.04911693e-16 7.07489622e-14 7.21644966e-16].\n",
      "The L-2 norm of (Exact solution - ROM solution) is [1.32392701e-15 3.51104232e-15 1.63702912e-15 1.46049957e-15\n",
      " 1.72630889e-15 1.61951849e-15 1.30045569e-15 1.23726342e-15\n",
      " 1.66471780e-15 1.53098478e-15 1.04366247e-15 4.59039334e-15\n",
      " 4.10833481e-15 4.93948713e-15 1.34176191e-15 2.01880262e-15\n",
      " 1.24850663e-15 1.40917016e-15 2.22450277e-15 1.19809897e-15\n",
      " 1.29013090e-15 2.43814415e-15 2.10756315e-15 2.55816706e-15\n",
      " 3.69912667e-15 3.94668270e-15 1.12460258e-15 1.87467447e-15\n",
      " 1.92155721e-15 1.27892928e-15 1.52151849e-15 1.14870941e-15\n",
      " 1.25745293e-15 1.74976162e-15 1.96145322e-15 1.31435496e-15\n",
      " 1.40395715e-15 1.03272781e-15 4.27020976e-15 1.22390224e-15\n",
      " 1.43311282e-15 4.11151389e-15 1.44103283e-15 1.28753985e-15\n",
      " 1.17755507e-11 1.84630345e-15 1.24187775e-15 2.39783123e-15\n",
      " 1.73568651e-15 1.69780839e-15 2.27167949e-15 1.11861265e-15\n",
      " 1.25253464e-15 4.62374103e-15 1.71813912e-15 1.13709615e-15\n",
      " 2.22102436e-15 1.13474988e-15 4.83386942e-15 1.82164867e-15\n",
      " 1.39569691e-15 1.37312708e-15 4.96289408e-15 1.12471436e-15\n",
      " 2.56240840e-12 2.61297104e-15 3.80247783e-15 1.29830081e-15\n",
      " 2.93048131e-15 1.05619661e-15 1.30261368e-15 1.26545570e-12\n",
      " 2.13105339e-11 2.32106998e-13 1.51486615e-15 1.19559236e-15\n",
      " 2.84985162e-15 1.16747107e-15 1.15867774e-13 1.14557797e-15\n",
      " 1.13179860e-15 1.27632352e-15 1.36580536e-15 1.25639133e-15\n",
      " 8.38918882e-13 3.15060598e-15 4.06765445e-15 1.54340534e-15\n",
      " 1.22298820e-15 1.43404739e-15 1.13611610e-15 3.67506122e-15\n",
      " 1.28373013e-15 3.01406008e-15 2.53249450e-15 1.25296516e-15\n",
      " 1.18710630e-15 1.46930189e-15 1.64060461e-13 1.34224709e-15].\n",
      "The L-2 norm of (FOM solution - ROM solution) is [1.31993873e-15 3.51041831e-15 1.63562777e-15 1.46031825e-15\n",
      " 1.72535336e-15 1.61948505e-15 1.30024278e-15 1.23724882e-15\n",
      " 1.66474672e-15 1.52922654e-15 1.04360480e-15 4.59095971e-15\n",
      " 4.10834506e-15 4.93993185e-15 1.33975088e-15 2.01874300e-15\n",
      " 1.24858375e-15 1.40905057e-15 2.22563881e-15 1.20011167e-15\n",
      " 1.28813738e-15 2.43816636e-15 2.10631485e-15 2.55905856e-15\n",
      " 3.69867596e-15 3.94717065e-15 1.12215956e-15 1.87483820e-15\n",
      " 1.92162925e-15 1.27612619e-15 1.52187050e-15 1.14798615e-15\n",
      " 1.25778793e-15 1.74977194e-15 1.96223857e-15 1.31688476e-15\n",
      " 1.40445005e-15 1.03570153e-15 4.26895941e-15 1.22329723e-15\n",
      " 1.43102829e-15 4.11157830e-15 1.44085323e-15 1.28523797e-15\n",
      " 1.17755506e-11 1.84516870e-15 1.24170327e-15 2.39749738e-15\n",
      " 1.73429548e-15 1.69654239e-15 2.27042599e-15 1.11865032e-15\n",
      " 1.25437843e-15 4.62371890e-15 1.71764864e-15 1.13707497e-15\n",
      " 2.21878494e-15 1.13238721e-15 4.83353075e-15 1.82464613e-15\n",
      " 1.39364278e-15 1.37321474e-15 4.96251085e-15 1.12724262e-15\n",
      " 2.56240861e-12 2.61204955e-15 3.80229580e-15 1.29890794e-15\n",
      " 2.92893853e-15 1.05389198e-15 1.30052823e-15 1.26545610e-12\n",
      " 2.13105353e-11 2.32105390e-13 1.51480258e-15 1.19361743e-15\n",
      " 2.85011559e-15 1.16524191e-15 1.15867668e-13 1.14786106e-15\n",
      " 1.13009567e-15 1.27609715e-15 1.36379889e-15 1.25390268e-15\n",
      " 8.38919844e-13 3.14989527e-15 4.06761302e-15 1.54343264e-15\n",
      " 1.22593244e-15 1.43238026e-15 1.13863490e-15 3.67404081e-15\n",
      " 1.28373013e-15 3.01504435e-15 2.53219980e-15 1.25301800e-15\n",
      " 1.18972962e-15 1.46935104e-15 1.64061213e-13 1.34425438e-15].\n"
     ]
    }
   ],
   "source": [
    "## Error analysis\n",
    "\n",
    "# Start timing\n",
    "start_time_full = time.time()\n",
    "\n",
    "# FOM solution\n",
    "full_solution = model_penzl.solution_space.empty()\n",
    "for s in validation_set:\n",
    "    full_solution.append(model_penzl.solve(s))\n",
    "    \n",
    "# End timing\n",
    "end_time_full = time.time()\n",
    "\n",
    "# Compute and print the elapsed time\n",
    "elapsed_time_full = end_time_full - start_time_full\n",
    "\n",
    "# Convert FOM solution into NumPy array\n",
    "full_solution_numpy = full_solution.to_numpy()\n",
    "\n",
    "# ROM solution\n",
    "reduced_solution_reconstruct_numpy = reduced_solution_reconstruct.to_numpy()\n",
    "\n",
    "# Norms for each training data - > output is an array\n",
    "error_exact = exact_solution - reduced_solution_reconstruct_numpy\n",
    "error_fom = full_solution_numpy - reduced_solution_reconstruct_numpy\n",
    "num_rows = error_exact.shape[0]\n",
    "linfnorm_exact = np.zeros(num_rows)\n",
    "l2norm_exact = np.zeros(num_rows)\n",
    "linfnorm_fom = np.zeros(num_rows)\n",
    "l2norm_fom = np.zeros(num_rows)\n",
    "for row_number in range(num_rows):\n",
    "    linfnorm_exact[row_number] = np.linalg.norm(error_exact[row_number], np.inf)\n",
    "    l2norm_exact[row_number] = np.linalg.norm(error_exact[row_number], 2)  \n",
    "    linfnorm_fom[row_number] = np.linalg.norm(error_fom[row_number], np.inf)\n",
    "    l2norm_fom[row_number] = np.linalg.norm(error_fom[row_number], 2)  \n",
    "\n",
    "# Printing error results\n",
    "print('-'*20 + ' Look below to check if things are going well '+'-'*30)\n",
    "print(f'[The L-infinity norm] The best is {min(linfnorm_exact)} and worst is {max(linfnorm_exact)}.')\n",
    "print(f'[The L-2 norm] The best is {min(l2norm_exact)} and worst is {max(l2norm_exact)}.')\n",
    "print('-'*20 + ' Linf and L2 norms (array) of error vectors '+'-'*30)\n",
    "print(f'The L-infinity norm of (Exact solution - ROM solution) is {linfnorm_exact}.')\n",
    "print(f'The L-infinity norm of (FOM solution - ROM solution) is {linfnorm_fom}.')\n",
    "print(f'The L-2 norm of (Exact solution - ROM solution) is {l2norm_exact}.')\n",
    "print(f'The L-2 norm of (FOM solution - ROM solution) is {l2norm_fom}.')"
   ]
  },
  {
   "cell_type": "code",
   "execution_count": 25,
   "id": "30716b2d-ebc2-4e08-8447-a608587a6fcd",
   "metadata": {},
   "outputs": [
    {
     "name": "stdout",
     "output_type": "stream",
     "text": [
      "Total computation time of POD-Galerkin ROM: 0.1075425148 seconds.\n",
      "Total computation time of FOM: 113.4819478989 seconds.\n",
      "Total computation time of Exact: 146.1120996475 seconds.\n"
     ]
    }
   ],
   "source": [
    "# Computational time analysis (execution time analysis)\n",
    "print(f'Total computation time of POD-Galerkin ROM: {elapsed_time_reduce:.10f} seconds.')\n",
    "print(f'Total computation time of FOM: {elapsed_time_full:.10f} seconds.')\n",
    "print(f'Total computation time of Exact: {elapsed_time_exact:.10f} seconds.')"
   ]
  },
  {
   "cell_type": "markdown",
   "id": "62eb7e70-10ec-4dfc-a4ec-d2b1e2cfb632",
   "metadata": {},
   "source": [
    "## Summary of POD-Galerkin Method"
   ]
  },
  {
   "cell_type": "code",
   "execution_count": 26,
   "id": "6ca0f94f-36b2-4ca5-9061-415655e4e449",
   "metadata": {},
   "outputs": [],
   "source": [
    "def MatrixReductor(A, B, training_set, validation_set, reduced_order: int, reconstruct: bool = False):\n",
    "\n",
    "    # Construct Matrix induced StationaryModel\n",
    "    model_penzl = MatrixModel(A, B)\n",
    "\n",
    "    # Compute FOM solutions for the parameters in the training set\n",
    "    solution_snapshots = model_penzl.solution_space.empty()\n",
    "    for s in training_set:\n",
    "        solution_snapshots.append(model_penzl.solve(s))\n",
    "\n",
    "    # Snapshot matrix S\n",
    "    snapshot_matrix = solution_snapshots.to_numpy().T\n",
    "\n",
    "    # Finding the Singular Value Decomposition (SVD) of the snapshot matrix -> S = UΣV^T\n",
    "    U, D, Vt = np.linalg.svd(snapshot_matrix, full_matrices = True)\n",
    "\n",
    "    if reduced_order > min(snapshot_matrix.shape):\n",
    "        raise ValueError(\"'reduced_order' cannot exceed the rank of the snapshot matrix.\")\n",
    "\n",
    "    # The reduced basis (POD basis)\n",
    "    pod_basis_numpy = U[:,:reduced_order]\n",
    "\n",
    "    # Convert NumPy array into VectorArray \n",
    "    space = NumpyVectorSpace(model_penzl.order)\n",
    "    pod_basis = space.make_array(pod_basis_numpy.T) #This is actually transpose of POD-RB basis\n",
    "\n",
    "    # POD-Galerkin RB method\n",
    "    pod_reductor = StationaryRBReductor(model_penzl, RB = pod_basis) \n",
    "    pod_rom = pod_reductor.reduce()\n",
    "\n",
    "    # Solution array containing r many reduced samples\n",
    "    reduced_solution = pod_rom.solution_space.empty()\n",
    "    for s in validation_set:\n",
    "        reduced_solution.append(pod_rom.solve(s))\n",
    "\n",
    "    reduced_solution_reconstruct = pod_reductor.reconstruct(reduced_solution)\n",
    "\n",
    "    if reconstruct is True:\n",
    "        return reduced_solution_reconstruct\n",
    "    else:\n",
    "        return [reduced_solution, pod_reductor]"
   ]
  },
  {
   "cell_type": "markdown",
   "id": "0673d8d6-cf7d-41b9-a8a4-3d8b3a5e5738",
   "metadata": {},
   "source": [
    "### Examples (with both real and complex parameters)"
   ]
  },
  {
   "cell_type": "markdown",
   "id": "f90e55c3-391f-474d-ad9b-047969659976",
   "metadata": {},
   "source": [
    "#### Real-valued training and validation set\n",
    "In this subsection, we will examine the Matrix Reduction method using a real-valued training set and validation set for real parameters. As an example, we will use `penzl_example` from `pymor.models.examples`."
   ]
  },
  {
   "cell_type": "code",
   "execution_count": 27,
   "id": "70a0e3ee-4712-4fac-9cac-8f5be76f54a0",
   "metadata": {},
   "outputs": [
    {
     "data": {
      "application/vnd.jupyter.widget-view+json": {
       "model_id": "fd1fe443088345c8988f64d210418938",
       "version_major": 2,
       "version_minor": 0
      },
      "text/plain": [
       "Accordion(children=(HTML(value='', layout=Layout(height='16em', width='100%')),), titles=('Log Output',))"
      ]
     },
     "metadata": {},
     "output_type": "display_data"
    },
    {
     "data": {
      "text/plain": [
       "NumpyVectorArray(\n",
       "    NumpyVectorSpace(1006),\n",
       "    [[ 0.10482177 -0.09466065  0.0512402  ...  0.00099791  0.00099692\n",
       "       0.00099592]\n",
       "     [ 0.1030796  -0.09671783  0.05078316 ...  0.00099982  0.00099882\n",
       "       0.00099782]\n",
       "     [ 0.10638257 -0.09267324  0.05166053 ...  0.00099613  0.00099514\n",
       "       0.00099415]\n",
       "     ...\n",
       "     [ 0.10637254 -0.0926865   0.05165779 ...  0.00099614  0.00099515\n",
       "       0.00099416]\n",
       "     [ 0.10852394 -0.08968562  0.05225805 ...  0.00099354  0.00099255\n",
       "       0.00099157]\n",
       "     [ 0.1042096  -0.09540175  0.05107826 ...  0.00099859  0.00099759\n",
       "       0.0009966 ]],\n",
       "    _len=100)"
      ]
     },
     "execution_count": 27,
     "metadata": {},
     "output_type": "execute_result"
    }
   ],
   "source": [
    "from pymor.models.examples import penzl_example\n",
    "\n",
    "penzl = penzl_example()\n",
    "model_penzl = MatrixModel(penzl.A, penzl.B)\n",
    "\n",
    "A = penzl.A\n",
    "B = penzl.B\n",
    "parameter_space = model_penzl.parameters.space(0.01, 10.)\n",
    "training_set = parameter_space.sample_randomly(30)\n",
    "validation_set = parameter_space.sample_randomly(100)\n",
    "\n",
    "[reduced_solution, pod_reductor] = MatrixReductor(A, B, training_set, validation_set, reduced_order = 20) # reduced_order must be less than or equal to len(training_set)\n",
    "\n",
    "# Reconstruct high-dimensional vector from reduced vector\n",
    "reduced_solution_reconstruct = pod_reductor.reconstruct(reduced_solution)\n",
    "\n",
    "# One may also get reconstructed vector as 'reduced_solution_reconstruct = MatrixReductor(A, B, dim, training_set, validation_set, reduced_order = 15, reconstruct = True)'\n",
    "\n",
    "# Reconstructed high-dimensional NumPy array (necessary for error analysis)\n",
    "reduced_solution_reconstruct_numpy = reduced_solution_reconstruct.to_numpy()\n",
    "#reduced_solution_reconstruct_numpy\n",
    "reduced_solution_reconstruct"
   ]
  },
  {
   "cell_type": "code",
   "execution_count": 29,
   "id": "cf3c33fc-e9aa-40be-beb8-f2442f88c33e",
   "metadata": {},
   "outputs": [
    {
     "data": {
      "application/vnd.jupyter.widget-view+json": {
       "model_id": "8f7ce6f0b9d44dae9536aa24b1dc0d8e",
       "version_major": 2,
       "version_minor": 0
      },
      "text/plain": [
       "Accordion(children=(HTML(value='', layout=Layout(height='16em', width='100%')),), titles=('Log Output',))"
      ]
     },
     "metadata": {},
     "output_type": "display_data"
    }
   ],
   "source": [
    "# Converting matrices to numpy arrays\n",
    "matrixA = to_matrix(penzl.A).toarray()\n",
    "matrixB = to_matrix(penzl.B)\n",
    "\n",
    "# Create a NumPy array containing parameters\n",
    "s_values = np.array([s['s'] for s in validation_set]) \n",
    "\n",
    "# Identity matrix of appropriate size\n",
    "identity = np.eye(penzl.order)\n",
    "\n",
    "# Exact solution\n",
    "exact_solution = np.vstack([(np.linalg.inv(s * identity - matrixA) @ matrixB).flatten() for s in s_values])\n",
    "\n",
    "# Data for an error plot\n",
    "order_list = np.arange(1, 21)\n",
    "linf_list = np.zeros(20)\n",
    "l2_list = np.zeros(20)\n",
    "for i in range(20):\n",
    "    [reduced_solution, pod_reductor] = MatrixReductor(A, B, training_set, validation_set, reduced_order = i)\n",
    "    reduced_solution_reconstruct = pod_reductor.reconstruct(reduced_solution)\n",
    "    reduced_solution_reconstruct_numpy = reduced_solution_reconstruct.to_numpy()\n",
    "    linf_list[i] = np.linalg.norm(exact_solution - reduced_solution_reconstruct_numpy, np.inf)\n",
    "    l2_list[i] = np.linalg.norm(exact_solution - reduced_solution_reconstruct_numpy, 2)"
   ]
  },
  {
   "cell_type": "code",
   "execution_count": 31,
   "id": "5b9c59c6-bdf9-40f8-b962-21b329d0d019",
   "metadata": {
    "scrolled": true
   },
   "outputs": [
    {
     "data": {
      "image/png": "[encoded data removed]",
      "text/plain": [
       "<Figure size 1200x800 with 1 Axes>"
      ]
     },
     "metadata": {},
     "output_type": "display_data"
    }
   ],
   "source": [
    "# Error norm plot\n",
    "fig, ax = plt.subplots(figsize=(12, 8), dpi=100)\n",
    "ax.semilogy(order_list[6:], linf_list[6:], label = r\"$L^\\infty$ Norm\", color='red', lw = 0.8, marker = 'x')\n",
    "ax.semilogy(order_list[6:], l2_list[6:], label = r\"$L^2$ Norm\", color='blue', lw = 0.8, marker = 'x')\n",
    "ax.set_title(\"Error norms\")\n",
    "ax.set_xlabel(\"Reduced order\")\n",
    "ax.legend()\n",
    "\n",
    "# Show the plot\n",
    "plt.show()"
   ]
  },
  {
   "cell_type": "markdown",
   "id": "56fc9c12-716b-47c0-9866-587966bd264f",
   "metadata": {},
   "source": [
    "#### Complex-valued training and validation set (A Vital Step for IRKA)\n",
    "In this subsection, we will examine the Matrix Reduction method using a complex-valued training set and validation set for complex parameters. For the IRKA method, we need to compute matrices at complex-valued interpolation points, and we will check if it works for complex parameters as well. As an example, we will use `penzl_example` from `pymor.models.examples`."
   ]
  },
  {
   "cell_type": "code",
   "execution_count": 37,
   "id": "bba4cdd3-1127-4191-bc96-ecb169a3109b",
   "metadata": {},
   "outputs": [
    {
     "name": "stdout",
     "output_type": "stream",
     "text": [
      "An complex-valued training set is [Mu({'s': array([4.28624161+6.43466469j])}), Mu({'s': array([9.52533425+9.61102997j])}), Mu({'s': array([0.40413248+3.09545042j])}), Mu({'s': array([6.95604811+1.65692938j])}), Mu({'s': array([2.4055544+2.40322761j])}), Mu({'s': array([2.15133018+9.56735241j])}), Mu({'s': array([5.89649134+3.32157517j])}), Mu({'s': array([1.84352796+5.93149287j])}), Mu({'s': array([4.87623093+4.63782035j])}), Mu({'s': array([3.1563162+4.54541328j])}), Mu({'s': array([8.11308709+4.12130748j])}), Mu({'s': array([8.54268724+3.49547371j])}), Mu({'s': array([2.5184112+3.31789134j])}), Mu({'s': array([9.06456558+4.62353999j])}), Mu({'s': array([3.49732694+6.92449289j])}), Mu({'s': array([6.85946798+1.43002101j])}), Mu({'s': array([8.54326573+4.45213879j])}), Mu({'s': array([1.78604773+7.72336203j])}), Mu({'s': array([7.17017878+3.09677068j])}), Mu({'s': array([1.62623723+1.00721564j])}), Mu({'s': array([7.13751668+0.19853822j])}), Mu({'s': array([3.06120109+1.91085523j])}), Mu({'s': array([7.38523826+0.68435347j])}), Mu({'s': array([1.73434295+3.72178453j])}), Mu({'s': array([5.40669844+4.05613549j])}), Mu({'s': array([8.86653949+4.41494628j])}), Mu({'s': array([3.11444138+9.00312888j])}), Mu({'s': array([7.4720322+5.54540918j])}), Mu({'s': array([0.3722392+5.29842476j])}), Mu({'s': array([0.13900183+7.79432274j])}), Mu({'s': array([7.10607279+8.5972858j])}), Mu({'s': array([8.51662761+0.39975453j])}), Mu({'s': array([6.40207438+5.55914121j])}), Mu({'s': array([3.41344512+1.62536868j])}), Mu({'s': array([7.51927573+4.4082298j])}), Mu({'s': array([8.61157297+4.70755012j])}), Mu({'s': array([3.07778421+4.46496799j])}), Mu({'s': array([4.5418439+1.58606821j])}), Mu({'s': array([4.22400904+6.70562517j])}), Mu({'s': array([7.69616976+0.03680767j])})].\n",
      "An complex-valued validation set is [Mu({'s': array([4.97477899+9.35738766j])}), Mu({'s': array([11.13720225+0.08283181j])}), Mu({'s': array([0.17143658+12.14037513j])}), Mu({'s': array([12.36774826+2.98093461j])}), Mu({'s': array([7.16078376+6.5446082j])}), Mu({'s': array([13.26263275+2.27526954j])}), Mu({'s': array([8.56304878+13.37037315j])}), Mu({'s': array([2.13878416+9.59251765j])}), Mu({'s': array([13.44730896+5.40641851j])}), Mu({'s': array([5.06465047+9.58087603j])}), Mu({'s': array([5.70977003+7.4246214j])}), Mu({'s': array([3.62566303+6.92087266j])}), Mu({'s': array([0.00805945+14.28543739j])}), Mu({'s': array([5.31724358+12.04078665j])}), Mu({'s': array([4.34184845+10.39325377j])}), Mu({'s': array([5.81929475+11.80945119j])}), Mu({'s': array([3.04525499+0.91535779j])}), Mu({'s': array([5.38946215+13.35485746j])}), Mu({'s': array([0.23627207+0.39827106j])}), Mu({'s': array([12.46009884+6.29513629j])}), Mu({'s': array([4.26031176+1.9072249j])}), Mu({'s': array([4.9464263+10.89959612j])}), Mu({'s': array([13.55307928+4.02649193j])}), Mu({'s': array([14.01795437+10.26047511j])}), Mu({'s': array([11.72135364+0.51589349j])}), Mu({'s': array([7.64244726+1.68107924j])}), Mu({'s': array([12.56534914+4.90585495j])}), Mu({'s': array([10.06553807+11.9453193j])}), Mu({'s': array([11.88493841+11.02388293j])}), Mu({'s': array([9.48652563+10.73705952j])}), Mu({'s': array([6.47991684+9.89330167j])}), Mu({'s': array([5.53932767+7.48803037j])}), Mu({'s': array([2.76313059+6.0905935j])}), Mu({'s': array([11.40095735+10.53404119j])}), Mu({'s': array([5.39402501+9.93169629j])}), Mu({'s': array([8.84912663+13.73935386j])}), Mu({'s': array([6.63913385+13.56607326j])}), Mu({'s': array([8.81909052+2.34933629j])}), Mu({'s': array([1.32792314+1.27321457j])}), Mu({'s': array([12.11979801+11.67854935j])}), Mu({'s': array([6.24936802+4.99743882j])}), Mu({'s': array([7.82120079+7.87022465j])}), Mu({'s': array([3.82687533+14.36918554j])}), Mu({'s': array([6.03997425+3.76621106j])}), Mu({'s': array([4.38842875+9.35674956j])}), Mu({'s': array([8.42810457+11.19632532j])}), Mu({'s': array([1.1188218+5.39968742j])}), Mu({'s': array([14.97425579+14.35754447j])}), Mu({'s': array([8.24196511+6.42989599j])}), Mu({'s': array([9.37251664+11.81629221j])}), Mu({'s': array([10.74071302+14.2930411j])}), Mu({'s': array([7.21591117+9.0825881j])}), Mu({'s': array([4.61543801+0.16764452j])}), Mu({'s': array([10.5448564+5.75254239j])}), Mu({'s': array([6.2781419+6.67030832j])}), Mu({'s': array([11.7048537+9.45289091j])}), Mu({'s': array([7.90900985+3.36268491j])}), Mu({'s': array([12.25505132+14.01920398j])}), Mu({'s': array([12.38424965+14.06112027j])}), Mu({'s': array([10.11781972+2.59958542j])}), Mu({'s': array([4.10594384+14.48489149j])}), Mu({'s': array([7.48752431+1.02940626j])}), Mu({'s': array([13.15554251+0.27971746j])}), Mu({'s': array([4.0913057+6.78176506j])}), Mu({'s': array([13.26228263+7.19076089j])}), Mu({'s': array([14.53957241+1.75830613j])}), Mu({'s': array([10.23279541+9.32977972j])}), Mu({'s': array([8.70519632+8.44407342j])}), Mu({'s': array([4.1409503+4.50026819j])}), Mu({'s': array([11.01450971+7.22557055j])}), Mu({'s': array([14.35677847+8.81349253j])}), Mu({'s': array([11.07442936+9.93032598j])}), Mu({'s': array([2.15998412+12.77021987j])}), Mu({'s': array([2.77913646+11.4996052j])}), Mu({'s': array([11.69078003+10.77566725j])}), Mu({'s': array([3.29518856+6.31608375j])}), Mu({'s': array([4.45038751+0.75171948j])}), Mu({'s': array([7.490368+12.46045045j])}), Mu({'s': array([13.08033012+1.26278241j])}), Mu({'s': array([10.10495354+14.79444084j])}), Mu({'s': array([11.54713428+10.11355654j])}), Mu({'s': array([14.31817587+13.72883983j])}), Mu({'s': array([12.81740731+5.70831482j])}), Mu({'s': array([1.51244825+9.02954023j])}), Mu({'s': array([2.15066097+5.04881789j])}), Mu({'s': array([4.58763584+0.09088166j])}), Mu({'s': array([5.38328415+5.5582595j])}), Mu({'s': array([10.58478774+0.97747107j])}), Mu({'s': array([9.50584176+3.78320711j])}), Mu({'s': array([10.7167213+10.56945051j])}), Mu({'s': array([11.19597791+1.13556334j])}), Mu({'s': array([6.52458063+12.70922406j])}), Mu({'s': array([9.39473397+4.9007878j])}), Mu({'s': array([12.12079662+8.71142416j])}), Mu({'s': array([5.24425707+14.82509907j])}), Mu({'s': array([9.46860922+3.51839932j])}), Mu({'s': array([6.33389458+10.61997897j])}), Mu({'s': array([7.42016451+7.79518199j])}), Mu({'s': array([0.66034471+10.03904289j])}), Mu({'s': array([12.16138676+1.65052531j])})].\n"
     ]
    }
   ],
   "source": [
    "from pymor.parameters.base import Mu\n",
    "\n",
    "# Create a complex-valued training set\n",
    "card_training_set = 40\n",
    "complex_parameters = 10*np.random.random_sample((card_training_set,)) + 10*1j*np.random.random_sample((card_training_set,))\n",
    "imaginary_training_set = []\n",
    "for i in range(card_training_set):\n",
    "    imaginary_training_set.append(Mu({'s': np.array(complex_parameters[i])}))\n",
    "\n",
    "# Create a complex-valued validation set\n",
    "card_validation_set = 100\n",
    "complex_parameters_validation = 15*np.random.random_sample((card_validation_set,)) + 15*1j*np.random.random_sample((card_validation_set,))\n",
    "imaginary_validation_set = []\n",
    "for k in range(100):\n",
    "    imaginary_validation_set.append(Mu({'s': np.array(complex_parameters_validation[k])}))\n",
    "print(f'An complex-valued training set is {imaginary_training_set}.')\n",
    "print(f'An complex-valued validation set is {imaginary_validation_set}.')"
   ]
  },
  {
   "cell_type": "code",
   "execution_count": 38,
   "id": "82171b89-7d68-46b5-939a-8706b8fc0d9b",
   "metadata": {},
   "outputs": [
    {
     "data": {
      "application/vnd.jupyter.widget-view+json": {
       "model_id": "44cf605d177c4f9e956e1a2e5d072869",
       "version_major": 2,
       "version_minor": 0
      },
      "text/plain": [
       "Accordion(children=(HTML(value='', layout=Layout(height='16em', width='100%')),), titles=('Log Output',))"
      ]
     },
     "metadata": {},
     "output_type": "display_data"
    },
    {
     "data": {
      "text/plain": [
       "NumpyVectorArray(\n",
       "    NumpyVectorSpace(1006),\n",
       "    [[ 0.10661951+8.20777175e-03j -0.09439775+1.04671974e-02j\n",
       "       0.0515667 +2.19804645e-03j ...  0.00099695-9.30115318e-06j\n",
       "       0.00099595-9.28263536e-06j  0.00099496-9.26417278e-06j]\n",
       "     [ 0.11050936+5.97318902e-05j -0.08658731+9.87866781e-05j\n",
       "       0.05283971+1.79856067e-05j ...  0.00099095-8.13386006e-08j\n",
       "       0.00098996-8.11776357e-08j  0.00098899-8.10171481e-08j]\n",
       "     [ 0.1027053 +1.20238142e-02j -0.10025661+1.26096604e-02j\n",
       "       0.05047927+3.01018720e-03j ...  0.00100168-1.21830939e-05j\n",
       "       0.00100068-1.21587233e-05j  0.00099968-1.21344257e-05j]\n",
       "     ...\n",
       "     [ 0.10839388+6.36580704e-03j -0.09136928+8.98551171e-03j\n",
       "       0.05209767+1.77736918e-03j ...  0.00099455-7.71089823e-06j\n",
       "       0.00099356-7.69558335e-06j  0.00099258-7.68031404e-06j]\n",
       "     [ 0.10269971+9.79267084e-03j -0.09927792+1.04726601e-02j\n",
       "       0.05054101+2.47370132e-03j ...  0.00100124-1.00649777e-05j\n",
       "       0.00100024-1.00448530e-05j  0.00099924-1.00247886e-05j]\n",
       "     [ 0.11126926+1.14753518e-03j -0.08537436+1.98755877e-03j\n",
       "       0.05306455+3.53488012e-04j ...  0.00098994-1.61748217e-06j\n",
       "       0.00098896-1.61428450e-06j  0.00098798-1.61109631e-06j]],\n",
       "    _len=100)"
      ]
     },
     "execution_count": 38,
     "metadata": {},
     "output_type": "execute_result"
    }
   ],
   "source": [
    "from pymor.models.examples import penzl_example\n",
    "\n",
    "penzl = penzl_example()\n",
    "model_penzl = MatrixModel(penzl.A, penzl.B)\n",
    "\n",
    "A = penzl.A\n",
    "B = penzl.B\n",
    "\n",
    "# Reduced solution\n",
    "reduced_order = 20\n",
    "[reduced_solution, pod_reductor] = MatrixReductor(A, B, imaginary_training_set, imaginary_validation_set, reduced_order = reduced_order)\n",
    "\n",
    "# Reconstruct high-dimensional vector from reduced vector\n",
    "reduced_solution_reconstruct = pod_reductor.reconstruct(reduced_solution)\n",
    "\n",
    "# Reconstructed high-dimensional NumPy array (necessary for error analysis)\n",
    "reduced_solution_reconstruct_numpy = reduced_solution_reconstruct.to_numpy()\n",
    "#reduced_solution_reconstruct_numpy\n",
    "reduced_solution_reconstruct"
   ]
  },
  {
   "cell_type": "code",
   "execution_count": 39,
   "id": "93a2912e-f423-4da6-a51c-84e7f3c7fbe0",
   "metadata": {},
   "outputs": [
    {
     "data": {
      "application/vnd.jupyter.widget-view+json": {
       "model_id": "4859a380331e41959059af3bc43306a7",
       "version_major": 2,
       "version_minor": 0
      },
      "text/plain": [
       "Accordion(children=(HTML(value='', layout=Layout(height='16em', width='100%')),), titles=('Log Output',))"
      ]
     },
     "metadata": {},
     "output_type": "display_data"
    }
   ],
   "source": [
    "# Converting matrices to numpy arrays\n",
    "matrixA = to_matrix(penzl.A).toarray()\n",
    "matrixB = to_matrix(penzl.B)\n",
    "\n",
    "# Create a NumPy array containing parameters\n",
    "s_values = np.array([s['s'] for s in imaginary_validation_set]) \n",
    "\n",
    "# Identity matrix of appropriate size\n",
    "identity = np.eye(penzl.order)\n",
    "\n",
    "# Exact solution\n",
    "exact_solution = np.vstack([(np.linalg.inv(s * identity - matrixA) @ matrixB).flatten() for s in s_values])\n",
    "\n",
    "# Data\n",
    "reduced_order_error = 20\n",
    "order_list = np.arange(1, reduced_order_error + 1)\n",
    "linf_list = np.zeros(reduced_order_error)\n",
    "l2_list = np.zeros(reduced_order_error)\n",
    "for i in range(reduced_order_error):\n",
    "    [reduced_solution, pod_reductor] = MatrixReductor(A, B, imaginary_training_set, imaginary_validation_set, reduced_order = i)\n",
    "    reduced_solution_reconstruct = pod_reductor.reconstruct(reduced_solution)\n",
    "    reduced_solution_reconstruct_numpy = reduced_solution_reconstruct.to_numpy()\n",
    "    linf_list[i] = np.linalg.norm(exact_solution - reduced_solution_reconstruct_numpy, np.inf)\n",
    "    l2_list[i] = np.linalg.norm(exact_solution - reduced_solution_reconstruct_numpy, 2)"
   ]
  },
  {
   "cell_type": "markdown",
   "id": "d1516880-6c03-45bc-ba6f-2a0d26017c87",
   "metadata": {},
   "source": [
    "### Hooray!🎉 It also seems to handle complex parameters"
   ]
  },
  {
   "cell_type": "code",
   "execution_count": 40,
   "id": "89c47b8a-77ca-4ae2-b44a-ce5243cc652f",
   "metadata": {},
   "outputs": [
    {
     "data": {
      "image/png": "[encoded data removed]",
      "text/plain": [
       "<Figure size 1200x800 with 1 Axes>"
      ]
     },
     "metadata": {},
     "output_type": "display_data"
    }
   ],
   "source": [
    "# Error norm plot\n",
    "fig, ax = plt.subplots(figsize=(12, 8), dpi=100)\n",
    "ax.semilogy(order_list[8:], linf_list[8:], label = r\"$L^\\infty$ Norm\", color='red', lw = 0.8, marker = 'x')\n",
    "ax.semilogy(order_list[8:], l2_list[8:], label = r\"$L^2$ Norm\", color='blue', lw = 0.8, marker = 'x')\n",
    "ax.set_title(\"Error norms\")\n",
    "ax.set_xlabel(\"Reduced order\")\n",
    "ax.legend()\n",
    "\n",
    "# Show the plot\n",
    "plt.show()"
   ]
  },
  {
   "cell_type": "markdown",
   "id": "35d3bf6d-ea16-4d91-8a0c-2c0c2b82e3ab",
   "metadata": {},
   "source": [
    "### Implementation of Matrix Reduction to IRKA (Single Input Single Output)\n",
    "Consider some initial interpolation data $-\\mu_{i}, \\hat{c}_{i}, \\hat{b}_{i}$ for $0 < r \\leq n$. Here, we construct the projection matrices $V$ and $W$ as follows:\n",
    "\n",
    "\\begin{equation*}\n",
    "    V = [(-\\mu_{1}I_{n} - A)^{-1}B\\hat{b}_{1} \\quad (-\\mu_{2}I_{n} - A)^{-1}B\\hat{b}_{2} \\quad \\cdots \\quad (-\\mu_{r}I_{n} - A)^{-1}B\\hat{b}_{r}], \\quad \\text{and} \\quad W = [(-\\mu_{1}I_{n} - A)^{-*}C^{T}\\hat{c}_{1} \\quad (-\\mu_{2}I_{n} - A)^{-*}C^{T}\\hat{c}_{2}\\quad \\cdots \\quad (-\\mu_{r}I_{n} - A)^{-*}C^{T}\\hat{c}_{r}] \\quad \\text{for } i = 1,\\ldots,r,\n",
    "\\end{equation*}\n",
    "where $r$ is the desired order of approximating ROM. "
   ]
  },
  {
   "cell_type": "markdown",
   "id": "653fd380-cbd8-46e3-852d-37ee87a28bda",
   "metadata": {},
   "source": [
    "# Defining Functions for Matrix Reduction in IRKA\n",
    "\n",
    "Here, we will revisit and refine everything we have covered so far. Notice that we have written a `MatrixModel` function and a `MatrixReductor` only for the first linear coercive model. However, we need these functions for both models. Below, we explicitly redefine these functions for both cases. Additionally, we introduce a new function called `ProjectionMatrices`, which provides the projection matrices $V$ and $W$ required for IRKA. This function will streamline the process, making it sufficient to call it directly for use in IRKA.\n"
   ]
  },
  {
   "cell_type": "code",
   "execution_count": 29,
   "id": "8bdf39f6-f0bd-4480-9044-924d86b532da",
   "metadata": {},
   "outputs": [],
   "source": [
    "def MatrixModel(A, B, C):\n",
    "    '''\n",
    "    This function creates stationary models for the following linear coercive models derived for the given three matrices A, B, and C:\n",
    "    \n",
    "        a_1(v, w; s) = w*(sI_n - A)v and l_1(w) = w*B\n",
    "        a_2(v, w; s) = w*(sI_n - A)*v and l_2(w) = w*C^T.\n",
    "\n",
    "    Inputs:\n",
    "    ------------------------------------------------\n",
    "    A - matrix -> NumPy array or NumpyMatrixOperator\n",
    "    B - vector -> NumPy array or NumpyMatrixOperator\n",
    "    C - vector -> NumPy array or NumpyMatrixOperator\n",
    "    ------------------------------------------------\n",
    "    Outputs:\n",
    "    ------------------------------------------------\n",
    "    model_V - Stationary Model of linear coercive model w*(sI_n - A)v = w*B -> StationaryModel\n",
    "    model_W - Stationary Model of linear coercive model w*(sI_n - A)*v -> StationaryModel\n",
    "    '''\n",
    "\n",
    "    # Define operators (and also a dimension of a model)\n",
    "    if isinstance(A, np.ndarray):\n",
    "        dim = A.shape[0]\n",
    "        A_op = NumpyMatrixOperator(A)\n",
    "    else:\n",
    "        dim = to_matrix(A).shape[0]\n",
    "        A_op = A\n",
    "\n",
    "    if isinstance(B, np.ndarray):\n",
    "        B_op = NumpyMatrixOperator(B) \n",
    "    else:\n",
    "        B_op = B  \n",
    "\n",
    "    if isinstance(C, np.ndarray):\n",
    "        C_op = NumpyMatrixOperator(C.T)  \n",
    "    else:\n",
    "        C_op = C.H  # C is real, so adjoint is transpose\n",
    "\n",
    "    I_op = NumpyMatrixOperator(np.eye(dim))\n",
    "    \n",
    "    # Define parameter functional for 's'\n",
    "    s_param = ProjectionParameterFunctional('s', 1)\n",
    "\n",
    "    # Define bilinear form a(v, w; s) = w*(sI - A)v\n",
    "    a_op_1 = LincombOperator([I_op, A_op], [s_param, -1])\n",
    "\n",
    "    # Define bilinear form a(v, w; s) = w*(sI - A)*v -> Note: (sI - A)* = s*I - A*\n",
    "    a_op_2 = LincombOperator([I_op, A_op.H], [ConjugateParameterFunctional(s_param), -1])\n",
    "    \n",
    "    # Define linear functional l(w) = w^*B\n",
    "    l_op_1 = B_op\n",
    "\n",
    "    # Define linear functional l(w) = w^*C^{T}\n",
    "    l_op_2 = C_op\n",
    "\n",
    "    # Define the StationaryModels\n",
    "    model_V = StationaryModel(operator=a_op_1, rhs=l_op_1)\n",
    "    model_W = StationaryModel(operator=a_op_2, rhs=l_op_2)\n",
    "\n",
    "    return [model_V, model_W] \n"
   ]
  },
  {
   "cell_type": "code",
   "execution_count": 30,
   "id": "a4d7535e-173e-4fc5-931b-6a6a93d75eae",
   "metadata": {},
   "outputs": [],
   "source": [
    "def MatrixReductor(model_V, model_W, training_set, reduced_order_V: int, reduced_order_W: int):\n",
    "    \n",
    "    '''\n",
    "    Inputs:\n",
    "    ------------------------------------------------\n",
    "    model_V - Stationary Model of linear coercive model w*(sI_n - A)v = w*B -> StationaryModel\n",
    "    model_W - Stationary Model of linear coercive model w*(sI_n - A)*v -> StationaryModel\n",
    "    training_set - an array containing parameters used to construct the snapshot matrix -> type(training_set[i]) = pymor.parameters.base.Mu (list of Mu objects)\n",
    "    ------------------------------------------------\n",
    "    Outputs:\n",
    "    ------------------------------------------------\n",
    "    pod_rom_V\n",
    "    pod_rom_W\n",
    "    '''\n",
    "\n",
    "    # Compute FOM solutions for the parameters in the training set\n",
    "    solution_snapshots_V = model_V.solution_space.empty()\n",
    "    solution_snapshots_W = model_W.solution_space.empty()\n",
    "    for s in training_set:\n",
    "        solution_snapshots_V.append(model_V.solve(s))\n",
    "        solution_snapshots_W.append(model_W.solve(s))\n",
    "        \n",
    "    # Snapshot matrices\n",
    "    snapshot_matrix_V = solution_snapshots_V.to_numpy().T # Note: One may also use solution_snapshots_V.impl._array.T to get np.ndarray type needed for computation\n",
    "    snapshot_matrix_W = solution_snapshots_W.to_numpy().T\n",
    "\n",
    "    # Finding the Singular Value Decomposition (SVD) of snapshot matrices -> S = UΣV^T\n",
    "    U_V, D_V, Vt_V = np.linalg.svd(snapshot_matrix_V, full_matrices = True)\n",
    "    U_W, D_W, Vt_W = np.linalg.svd(snapshot_matrix_W, full_matrices = True)\n",
    "\n",
    "    if reduced_order_V > min(snapshot_matrix_V.shape):\n",
    "        raise ValueError(\"'reduced_order_V' cannot exceed the rank of the snapshot matrix.\")\n",
    "    if reduced_order_W > min(snapshot_matrix_W.shape):\n",
    "        raise ValueError(\"'reduced_order_W' cannot exceed the rank of the snapshot matrix.\")\n",
    "\n",
    "    # The reduced bases (POD bases)\n",
    "    pod_basis_numpy_V = U_V[:,:reduced_order_V]\n",
    "    pod_basis_numpy_W = U_W[:,:reduced_order_W]\n",
    "\n",
    "    # Convert NumPy array into VectorArray \n",
    "    space_V = NumpyVectorSpace(model_V.order) #number of columns = model_V.order\n",
    "    space_W = NumpyVectorSpace(model_W.order)\n",
    "    pod_basis_V = space_V.make_array(pod_basis_numpy_V.T) #This is actually transpose of POD-RB basis\n",
    "    pod_basis_W = space_W.make_array(pod_basis_numpy_W.T) #This is actually transpose of POD-RB basis\n",
    "    \n",
    "    # POD-Galerkin RB method\n",
    "    pod_reductor_V = StationaryRBReductor(model_V, RB = pod_basis_V) \n",
    "    pod_reductor_W = StationaryRBReductor(model_W, RB = pod_basis_W) \n",
    "    pod_rom_V = pod_reductor_V.reduce()\n",
    "    pod_rom_W = pod_reductor_W.reduce()\n",
    "\n",
    "    return [pod_rom_V, pod_reductor_V, pod_rom_W, pod_reductor_W]"
   ]
  },
  {
   "cell_type": "markdown",
   "id": "9c389fa2-2708-4347-9626-5c032f607f25",
   "metadata": {},
   "source": [
    "Let $A\\in\\mathbb{R}^{n\\times n}$ $B\\in\\mathbb{R}^{n\\times 1}$ $C\\in\\mathbb{R}^{1\\times n}$ be given. The `ProjectionMatrices` function defined below includes `R_V = R^{V}_N(s)` and `R_W = R^{W}_M(s)`, which are given as:\n",
    "\\begin{equation*}\n",
    "R^{V}_N(s) = \n",
    "\\begin{bmatrix}\n",
    "\\hat{v}_{N}(s_{1}) & \\hat{v}_{N}(s_{2}) &  \\cdots  &\\hat{v}_{N}(s_{r})\n",
    "\\end{bmatrix}\n",
    "\\quad \\text{and} \\quad\n",
    "R^{W}_M(s) = \n",
    "\\begin{bmatrix}\n",
    "\\hat{w}_{M}(s_{1}) & \\hat{w}_{M}(s_{2}) & \\cdots & \\hat{w}_{M}(s_{r})\n",
    "\\end{bmatrix},\n",
    "\\end{equation*}\n",
    "where $\\hat{v}_{N}(s_{i})\\in\\mathbb{C}^{n\\times 1}$ and $\\hat{w}_{M}(s_{i})\\in\\mathbb{C}^{n\\times 1}$ are the reconstructed solutions of the reduced solutions $v_{N}(s_{i})\\in\\mathbb{C}^{N\\times 1}$ and $w_{M}(s_{i})\\in\\mathbb{C}^{M\\times 1}$ with reduction orders $N$ and $M$, respectively, for the following (parameter-separable) parameterized linear coercive models (FOM) evaluated at a given parameter $s_{i}$.\n",
    "\\begin{align*}\n",
    "    a_{1}(v, u; s) = l_{1}(u) \\quad v, u\\in \\mathbb{C}^{n\\times 1}\\\\\n",
    "    a_{2}(w, u; s) = l_{2}(u) \\quad w, u\\in \\mathbb{C}^{n\\times 1}\n",
    "\\end{align*}\n",
    "where $a_{1}(v, u; s) = u^{*}(sI_{n} - A)v\\in \\mathbb{C}$ and $l_{1}(u) = u^{*}B$, and $a_{2}(w, u; s) = u^{*}(sI_{n} - A)^{*}w\\in \\mathbb{C}$ and $l_{2}(u) = u^{*}C^{T}$, and solutions to these parametrized linear coercive models are\n",
    "\\begin{equation*}\n",
    "    v(s) = (sI_{n} - A)^{-1}B \\quad \\text{and} \\quad w(s) = (sI_{n} - A)^{-*}C^{T}.\n",
    "\\end{equation*}\n",
    "Consider some initial interpolation data $-\\mu_{i}, \\hat{c}_{i}, \\hat{b}_{i}\\in\\mathbb{C}$ for $0 < r \\leq n$. Therefore, the POD-projection matrices are given by\n",
    "\\begin{equation*}\n",
    "    V_{POD}= \n",
    "    \\begin{bmatrix}\n",
    "    \\hat{v}_{N}(-\\mu_{1})\\hat{b}_{1}&\\hat{v}_{N}(-\\mu_{2})\\hat{b}_{2}&\\cdots&\\hat{v}_{N}(-\\mu_{r})\\hat{b}_{r}\n",
    "    \\end{bmatrix} = R^{V}_N(\\mu)D_{\\hat{b}} \\quad \\text{and} \\quad\n",
    "    W_{POD} = \n",
    "    \\begin{bmatrix}\n",
    "    \\hat{w}_{N}(-\\mu_{1})\\hat{c}_{1}&\\hat{w}_{N}(-\\mu_{2})\\hat{c}_{2}&\\cdots&\\hat{w}_{N}(-\\mu_{r})\\hat{c}_{r}\n",
    "    \\end{bmatrix} = R^{W}_M(\\mu)D_{\\hat{c}},\n",
    "\\end{equation*}\n",
    "where $\\mu = (-\\mu_{1}, -\\mu_{2},\\ldots, -\\mu_{r})$ and \n",
    "\\begin{equation*}\n",
    "    D_{\\hat{b}} = diag(\\hat{b}_{1}, \\hat{b}_{2}, \\ldots, \\hat{b}_{r}) \\quad \\text{and} \\quad D_{\\hat{c}} = diag(\\hat{c}_{1}, \\hat{c}_{2}, \\ldots, \\hat{c}_{r}).\n",
    "\\end{equation*}   \n",
    "This observation provides us with a fairly good error estimate for the projection matrices.\n",
    "\\begin{align*}\n",
    "    \\lVert V - V_{POD}\\rVert &= \\lVert R^{V}(\\mu)D_{\\hat{b}} - R^{V}_N(\\mu)D_{\\hat{b}}\\rVert = \\lVert (R^{V}(\\mu) - R^{V}_N(\\mu))D_{\\hat{b}}\\rVert \\leq \\lVert D_{\\hat{b}}\\rVert \\cdot \\lVert R^{V}(\\mu) - R^{V}_N(\\mu)\\rVert,\\\\\n",
    "    \\lVert W - W_{POD}\\rVert &= \\lVert R^{W}(\\mu)D_{\\hat{c}} - R^{W}_M(\\mu)D_{\\hat{c}}\\rVert = \\lVert (R^{W}(\\mu) - R^{W}_M(\\mu))D_{\\hat{c}}\\rVert \\leq \\lVert D_{\\hat{c}}\\rVert \\cdot \\lVert R^{W}(\\mu) - R^{W}_M(\\mu)\\rVert.\n",
    "\\end{align*}  \n",
    "This demonstrates that if $\\lVert R^{V}(\\mu) - R^{V}_N(\\mu) \\rVert$ and $\\lVert R^{W}(\\mu) - R^{W}_M(\\mu) \\rVert \\to 0$ as $N, M \\to n$, then $\\lVert V - V_{POD} \\rVert$ and $\\lVert W - W_{POD} \\rVert\\to 0$."
   ]
  },
  {
   "cell_type": "code",
   "execution_count": 37,
   "id": "f0f03ef0-6a2c-4f3c-ac34-913126924c8f",
   "metadata": {},
   "outputs": [],
   "source": [
    "def ProjectionMatrices(pod_rom_V, pod_reductor_V, pod_rom_W, pod_reductor_W, mu, b, c, biorth = None, numpy = None):\n",
    "\n",
    "    '''\n",
    "    Inputs:\n",
    "    ------------------------------------------------\n",
    "    pod_rom_V\n",
    "    pod_rom_W\n",
    "    pod_reductor_V\n",
    "    pod_reductor_W\n",
    "    mu - list of -mu_i values -> type(mu[i]) = pymor.parameters.base.Mu (list of Mu objects)\n",
    "    b - NumPy array -> b.shape = (r,) where r = len(mu)\n",
    "    c - NumPy array -> c.shape = (r,) where r = len(mu)\n",
    "    validation_set - an array containing parameters used to evaluate the reduced model after its construction -> type(validation_set[i]) = pymor.parameters.base.Mu (list of Mu objects)\n",
    "    ------------------------------------------------\n",
    "    Outputs: Biorthonormal pair of projection matrices V, W using biorthonormal Gram-Schmidt process\n",
    "    ------------------------------------------------\n",
    "    V - projection matrix V -> NumpyVectorArray -> V.shape = (n, r)\n",
    "    W - projection matrix W -> NumpyVectorArray -> W.shape = (n, r)\n",
    "    '''\n",
    "    \n",
    "    # Solution arrays containing len(validation_set) many reduced samples\n",
    "    card_mu = len(mu)\n",
    "    reduced_solution_V = pod_rom_V.solution_space.empty()\n",
    "    reduced_solution_W = pod_rom_W.solution_space.empty()\n",
    "    for s in mu:\n",
    "        reduced_solution_V.append(pod_rom_V.solve(s))\n",
    "        reduced_solution_W.append(pod_rom_W.solve(s))\n",
    "        \n",
    "    # It would be better to get matrices where columns are the reconstructed reduced solutions as in theory we will use such matrix; however PyMor only has vstack option (appending as a row of a matrix)\n",
    "    reduced_solution_reconstruct_V_T = pod_reductor_V.reconstruct(reduced_solution_V) # a matrix with rows representing the reconstructed reduced solutions for different parameter values to first parametrized coercive model (row i will give us (s_{i}I - A)^{-1}B)\n",
    "    reduced_solution_reconstruct_W_T = pod_reductor_W.reconstruct(reduced_solution_W) # a matrix with rows representing the reconstructed reduced solutions for different parameter values to second parametrized coercive model (row i will give us (s_{i}I - A)^{-*}C^T)\n",
    "\n",
    "    # To align with the theory, we take the transpose of the result. Also, note that the transpose operation does not exist in PyMor for `NumpyVectorArray`, so we first take the transpose of the NumPy array and then convert it back\n",
    "    space_V_numpy = NumpyVectorSpace(card_mu)\n",
    "    space_W_numpy = NumpyVectorSpace(card_mu)\n",
    "    R_V = space_V_numpy.make_array(reduced_solution_reconstruct_V_T.to_numpy().T)\n",
    "    R_W = space_W_numpy.make_array(reduced_solution_reconstruct_W_T.to_numpy().T)\n",
    "\n",
    "    R_V, R_W = R_V.to_numpy(), R_W.to_numpy() # Note: One may also use R_V.impl._array to get np.ndarray type needed for computation\n",
    "    D_b, D_c = np.diag(b), np.diag(c)\n",
    "\n",
    "    V_numpy = np.matmul(R_V, D_b)\n",
    "    W_numpy = np.matmul(R_W, D_c)\n",
    "\n",
    "    if biorth is True:\n",
    "        space = NumpyVectorSpace(V_numpy.shape[0])\n",
    "        V = space.make_array(V_numpy.T)\n",
    "        W = space.make_array(W_numpy.T)\n",
    "        [V_bi, W_bi] = gram_schmidt_biorth(V, W, check_tol = 10**(-8)) # NumpyVectorArray\n",
    "        if numpy is True:\n",
    "            return [V_bi.to_numpy().T, W_bi.to_numpy().T]\n",
    "        else:\n",
    "            return [V_bi, W_bi]       \n",
    "    else:\n",
    "        if numpy is True:\n",
    "            return [V_numpy, W_numpy]\n",
    "        else:\n",
    "            space = NumpyVectorSpace(V_numpy.shape[1])\n",
    "            V = space.make_array(V_numpy)\n",
    "            W = space.make_array(W_numpy)\n",
    "            return [V, W]"
   ]
  },
  {
   "cell_type": "code",
   "execution_count": 35,
   "id": "8c1810a7-1903-40a4-9ba8-f5c9691c7712",
   "metadata": {},
   "outputs": [],
   "source": [
    "def error(A, B, C, mu, b, c, V_pod, W_pod, norm, biorth = None):\n",
    "    \n",
    "    '''\n",
    "    Inputs:\n",
    "    ------------------------------------------------\n",
    "    A - matrix -> NumPy array or NumpyMatrixOperator -> A.shape = (n, n)\n",
    "    B - (column) vector -> NumPy array or NumpyMatrixOperator -> B.shape = (n, 1)\n",
    "    C - (row) vector -> NumPy array or NumpyMatrixOperator -> C.shape = (1, n)\n",
    "    mu - list of -mu_i values -> type(mu[i]) = pymor.parameters.base.Mu (list of Mu objects)\n",
    "    b - NumPy array -> b.shape = (r,) where r = len(mu)\n",
    "    c - NumPy array -> c.shape = (r,) where r = len(mu)\n",
    "    V_pod - POD-projection matrix V -> NumpyVectorArray -> V.shape = (n, r)\n",
    "    W_pod - POD-projection matrix W -> NumpyVectorArray -> V.shape = (n, r)\n",
    "    norm - see 'https://numpy.org/doc/stable/reference/generated/numpy.linalg.norm.html' for eight different matrix norms\n",
    "    ------------------------------------------------\n",
    "    Output:\n",
    "    ------------------------------------------------\n",
    "    error - [||V_exact - V_POD||_{norm}, ||W_exact - W_POD||_{norm}] -> list of floats\n",
    "    '''\n",
    "    \n",
    "    dim = A.shape[0] if isinstance(A, np.ndarray) else to_matrix(A).shape[0]\n",
    "    \n",
    "    # NumPy convertions\n",
    "    A = A if isinstance(A, np.ndarray) else to_matrix(A).toarray()\n",
    "    B = B if isinstance(B, np.ndarray) else to_matrix(B)\n",
    "    C = C if isinstance(C, np.ndarray) else to_matrix(C)\n",
    "    mu_values = np.array([s['s'] for s in mu]) \n",
    "    \n",
    "    if isinstance(V_pod, np.ndarray) is False:\n",
    "        V_pod_numpy = V_pod.to_numpy()\n",
    "    else:\n",
    "        V_pod_numpy = V_pod\n",
    "    if isinstance(W_pod, np.ndarray) is False:\n",
    "        W_pod_numpy = W_pod.to_numpy()\n",
    "    else:\n",
    "        W_pod_numpy = W_pod\n",
    "    \n",
    "    # Exact projection matrices\n",
    "    identity = np.eye(dim)\n",
    "    D_b, D_c = np.diag(b), np.diag(c)\n",
    "    \n",
    "    V_exact = np.matmul(np.hstack([np.matmul(inv(s*identity - A), B) for s in mu_values]), D_b)\n",
    "    W_exact = np.matmul(np.hstack([(np.matmul(np.conjugate(inv(s*identity - A).T), C.T)) for s in mu_values]), D_c)\n",
    "\n",
    "    if biorth is True:\n",
    "        space = NumpyVectorSpace(V_exact.shape[0])\n",
    "        V = space.make_array(V_exact.T)\n",
    "        W = space.make_array(W_exact.T)\n",
    "        [V_bi, W_bi] = gram_schmidt_biorth(V, W, check_tol = 10**(-8))\n",
    "        V_exact = V_bi.to_numpy().T\n",
    "        W_exact = W_bi.to_numpy().T\n",
    "\n",
    "    # Computing error norms\n",
    "    error_V = np.linalg.norm(V_exact - V_pod_numpy, norm)\n",
    "    error_W = np.linalg.norm(W_exact - W_pod_numpy, norm)\n",
    "\n",
    "    return [error_V, error_W]   "
   ]
  },
  {
   "cell_type": "markdown",
   "id": "fb48852e-f3f3-418b-8473-d44c1828fcd6",
   "metadata": {},
   "source": [
    "## Caution!\n",
    "Note that for the MIMO case, an error arises when we construct the StationaryModel because `rhs.source.is_scalar` is False. This occurs because $v$ and $w$ are matrices, not vectors."
   ]
  },
  {
   "cell_type": "code",
   "execution_count": 261,
   "id": "39b9a5e2-801a-4c77-b107-ef8e4ce9204b",
   "metadata": {},
   "outputs": [],
   "source": [
    "# Defining matrices\n",
    "n = 150\n",
    "m = 3 # number of inputs\n",
    "p = 4 # number of outputs\n",
    "\n",
    "# A: n x n matrix with normal distribution\n",
    "np.random.seed(10)\n",
    "A = np.random.normal(size = (n,n)) \n",
    "\n",
    "# B: n x m matrix with normal distribution\n",
    "np.random.seed(25)\n",
    "B = np.random.normal(size = (n,m))\n",
    "\n",
    "# C: p x n matrix with normal distribution\n",
    "np.random.seed(45)\n",
    "C = np.random.normal(size = (p,n))"
   ]
  },
  {
   "cell_type": "code",
   "execution_count": 262,
   "id": "c67327f4-4071-487d-ac94-89b25fd27b8a",
   "metadata": {},
   "outputs": [
    {
     "ename": "AssertionError",
     "evalue": "",
     "output_type": "error",
     "traceback": [
      "\u001b[1;31m---------------------------------------------------------------------------\u001b[0m",
      "\u001b[1;31mAssertionError\u001b[0m                            Traceback (most recent call last)",
      "Cell \u001b[1;32mIn[262], line 1\u001b[0m\n\u001b[1;32m----> 1\u001b[0m \u001b[43mMatrixModel\u001b[49m\u001b[43m(\u001b[49m\u001b[43mA\u001b[49m\u001b[43m,\u001b[49m\u001b[43m \u001b[49m\u001b[43mB\u001b[49m\u001b[43m,\u001b[49m\u001b[43m \u001b[49m\u001b[43mC\u001b[49m\u001b[43m)\u001b[49m\n",
      "Cell \u001b[1;32mIn[256], line 56\u001b[0m, in \u001b[0;36mMatrixModel\u001b[1;34m(A, B, C)\u001b[0m\n\u001b[0;32m     53\u001b[0m l_op_2 \u001b[38;5;241m=\u001b[39m C_op\n\u001b[0;32m     55\u001b[0m \u001b[38;5;66;03m# Define the StationaryModels\u001b[39;00m\n\u001b[1;32m---> 56\u001b[0m model_V \u001b[38;5;241m=\u001b[39m \u001b[43mStationaryModel\u001b[49m\u001b[43m(\u001b[49m\u001b[43moperator\u001b[49m\u001b[38;5;241;43m=\u001b[39;49m\u001b[43ma_op_1\u001b[49m\u001b[43m,\u001b[49m\u001b[43m \u001b[49m\u001b[43mrhs\u001b[49m\u001b[38;5;241;43m=\u001b[39;49m\u001b[43ml_op_1\u001b[49m\u001b[43m)\u001b[49m\n\u001b[0;32m     57\u001b[0m model_W \u001b[38;5;241m=\u001b[39m StationaryModel(operator\u001b[38;5;241m=\u001b[39ma_op_2, rhs\u001b[38;5;241m=\u001b[39ml_op_2)\n\u001b[0;32m     59\u001b[0m \u001b[38;5;28;01mreturn\u001b[39;00m [model_V, model_W]\n",
      "File \u001b[1;32m~\\miniforge3\\envs\\mor_lecture\\Lib\\site-packages\\pymor\\core\\base.py:252\u001b[0m, in \u001b[0;36mImmutableMeta._call\u001b[1;34m(self, *args, **kwargs)\u001b[0m\n\u001b[0;32m    251\u001b[0m \u001b[38;5;28;01mdef\u001b[39;00m \u001b[38;5;21m_call\u001b[39m(\u001b[38;5;28mself\u001b[39m, \u001b[38;5;241m*\u001b[39margs, \u001b[38;5;241m*\u001b[39m\u001b[38;5;241m*\u001b[39mkwargs):\n\u001b[1;32m--> 252\u001b[0m     instance \u001b[38;5;241m=\u001b[39m \u001b[38;5;28;43msuper\u001b[39;49m\u001b[43m(\u001b[49m\u001b[43m)\u001b[49m\u001b[38;5;241;43m.\u001b[39;49m\u001b[38;5;21;43m__call__\u001b[39;49m\u001b[43m(\u001b[49m\u001b[38;5;241;43m*\u001b[39;49m\u001b[43margs\u001b[49m\u001b[43m,\u001b[49m\u001b[43m \u001b[49m\u001b[38;5;241;43m*\u001b[39;49m\u001b[38;5;241;43m*\u001b[39;49m\u001b[43mkwargs\u001b[49m\u001b[43m)\u001b[49m\n\u001b[0;32m    253\u001b[0m     \u001b[38;5;28;01massert\u001b[39;00m \u001b[38;5;28mall\u001b[39m(\u001b[38;5;28mhasattr\u001b[39m(instance, arg) \u001b[38;5;28;01mfor\u001b[39;00m arg \u001b[38;5;129;01min\u001b[39;00m instance\u001b[38;5;241m.\u001b[39m_init_arguments), \\\n\u001b[0;32m    254\u001b[0m         (\u001b[38;5;124mf\u001b[39m\u001b[38;5;124m'\u001b[39m\u001b[38;5;124m__init__ arguments \u001b[39m\u001b[38;5;132;01m{\u001b[39;00m[arg\u001b[38;5;250m \u001b[39m\u001b[38;5;28;01mfor\u001b[39;00m\u001b[38;5;250m \u001b[39marg\u001b[38;5;250m \u001b[39m\u001b[38;5;129;01min\u001b[39;00m\u001b[38;5;250m \u001b[39minstance\u001b[38;5;241m.\u001b[39m_init_arguments\u001b[38;5;250m \u001b[39m\u001b[38;5;28;01mif\u001b[39;00m\u001b[38;5;250m \u001b[39m\u001b[38;5;129;01mnot\u001b[39;00m\u001b[38;5;250m \u001b[39m\u001b[38;5;28mhasattr\u001b[39m(instance,arg)]\u001b[38;5;132;01m}\u001b[39;00m\u001b[38;5;124m \u001b[39m\u001b[38;5;124m'\u001b[39m\n\u001b[0;32m    255\u001b[0m          \u001b[38;5;124mf\u001b[39m\u001b[38;5;124m'\u001b[39m\u001b[38;5;124mof class \u001b[39m\u001b[38;5;132;01m{\u001b[39;00m\u001b[38;5;28mself\u001b[39m\u001b[38;5;241m.\u001b[39m\u001b[38;5;18m__name__\u001b[39m\u001b[38;5;132;01m}\u001b[39;00m\u001b[38;5;124m not available as instance attributes\u001b[39m\u001b[38;5;130;01m\\n\u001b[39;00m\u001b[38;5;124m'\u001b[39m\n\u001b[0;32m    256\u001b[0m          \u001b[38;5;124mf\u001b[39m\u001b[38;5;124m'\u001b[39m\u001b[38;5;124m(all __init__ args need to be attributes for with_ to work).\u001b[39m\u001b[38;5;124m'\u001b[39m)\n\u001b[0;32m    257\u001b[0m     instance\u001b[38;5;241m.\u001b[39m_locked \u001b[38;5;241m=\u001b[39m \u001b[38;5;28;01mTrue\u001b[39;00m\n",
      "File \u001b[1;32m~\\miniforge3\\envs\\mor_lecture\\Lib\\site-packages\\pymor\\models\\basic.py:74\u001b[0m, in \u001b[0;36mStationaryModel.__init__\u001b[1;34m(self, operator, rhs, output_functional, products, error_estimator, visualizer, output_d_mu_use_adjoint, name)\u001b[0m\n\u001b[0;32m     71\u001b[0m     output_d_mu_use_adjoint \u001b[38;5;241m=\u001b[39m output_functional\u001b[38;5;241m.\u001b[39mlinear \u001b[38;5;129;01mand\u001b[39;00m operator\u001b[38;5;241m.\u001b[39mlinear\n\u001b[0;32m     73\u001b[0m \u001b[38;5;28;01massert\u001b[39;00m rhs\u001b[38;5;241m.\u001b[39mrange \u001b[38;5;241m==\u001b[39m operator\u001b[38;5;241m.\u001b[39mrange\n\u001b[1;32m---> 74\u001b[0m \u001b[38;5;28;01massert\u001b[39;00m rhs\u001b[38;5;241m.\u001b[39msource\u001b[38;5;241m.\u001b[39mis_scalar\n\u001b[0;32m     75\u001b[0m \u001b[38;5;28;01massert\u001b[39;00m rhs\u001b[38;5;241m.\u001b[39mlinear\n\u001b[0;32m     76\u001b[0m \u001b[38;5;28;01massert\u001b[39;00m output_functional\u001b[38;5;241m.\u001b[39msource \u001b[38;5;241m==\u001b[39m operator\u001b[38;5;241m.\u001b[39msource\n",
      "\u001b[1;31mAssertionError\u001b[0m: "
     ]
    }
   ],
   "source": [
    "MatrixModel(A, B, C)"
   ]
  },
  {
   "cell_type": "markdown",
   "id": "0d4bad7a-47d8-4283-ad98-cc9da646fc49",
   "metadata": {},
   "source": [
    "#### Remedy\n",
    "The right question would be whether it is possible to split the model into submodels with `rhs.source.is_scalar = True`, or in other words, into models with \\( m = p = 1 \\). In this context, one would need to check if it is possible to partition the MIMO model into SISO models. It turns out that this is indeed possible, and several methodologies exist for doing so. One commonly used method to split a MIMO model into SISO models is Singular Value Decomposition (SVD). In this discussion, we will not focus on the MIMO case, as SVD can be employed to obtain several SISO models, and we can apply the method we proposed for each individual SISO."
   ]
  },
  {
   "cell_type": "markdown",
   "id": "14393ae3-7adf-4142-a166-1cedd121d89d",
   "metadata": {},
   "source": [
    "### Examples\n",
    "Here, we consider the case where $A \\in \\mathbb{R}^{n \\times n}$, $B \\in \\mathbb{R}^{n \\times 1}$, and $C \\in \\mathbb{R}^{1 \\times n}$. Additionally, the interpolation data $-\\mu_{i}, \\hat{c}_{i}, \\hat{b}_{i} \\in \\mathbb{C}$ for $i = 1,\\ldots,r$, applicable to both real and complex values, is presented below."
   ]
  },
  {
   "cell_type": "code",
   "execution_count": 40,
   "id": "8ae84a08-a8ef-4e7a-bd3c-b82f918de6ad",
   "metadata": {},
   "outputs": [
    {
     "data": {
      "application/vnd.jupyter.widget-view+json": {
       "model_id": "ee5000ac32d449a9815861160e8fd21d",
       "version_major": 2,
       "version_minor": 0
      },
      "text/plain": [
       "Accordion(children=(HTML(value='', layout=Layout(height='16em', width='100%')),), titles=('Log Output',))"
      ]
     },
     "metadata": {},
     "output_type": "display_data"
    }
   ],
   "source": [
    "from pymor.models.examples import penzl_example\n",
    "\n",
    "penzl = penzl_example()\n",
    "\n",
    "A = penzl.A\n",
    "B = penzl.B\n",
    "C = penzl.C\n",
    "\n",
    "# Create Matrix induced Stationary Models\n",
    "[model_penzl_V, model_penzl_W] = MatrixModel(penzl.A, penzl.B, penzl.C)\n",
    "\n",
    "# Define a parameter space\n",
    "parameter_space = model_penzl_V.parameters.space(0.01, 10.)\n",
    "\n",
    "# Create POD-Galerkin RB reductors\n",
    "training_set = parameter_space.sample_randomly(30)\n",
    "[pod_rom_V, pod_reductor_V, pod_rom_W, pod_reductor_W] = MatrixReductor(model_penzl_V, model_penzl_W, training_set, reduced_order_V = 20, reduced_order_W = 20)\n",
    "\n",
    "# Find projection matrices V, W\n",
    "b = np.random.rand(100)\n",
    "c = np.random.rand(100)\n",
    "mu = parameter_space.sample_randomly(100)\n",
    "[V, W] = ProjectionMatrices(pod_rom_V = pod_rom_V, pod_reductor_V = pod_reductor_V, pod_rom_W = pod_rom_W, pod_reductor_W = pod_reductor_W, mu = mu, b = b, c = c, numpy = True)\n",
    "[V_bi, W_bi] = ProjectionMatrices(pod_rom_V = pod_rom_V, pod_reductor_V = pod_reductor_V, pod_rom_W = pod_rom_W, pod_reductor_W = pod_reductor_W, mu = mu, b = b, c = c, numpy = True, biorth = True)"
   ]
  },
  {
   "cell_type": "code",
   "execution_count": 47,
   "id": "0a2911b6-04b4-4b37-b447-0f81c332d421",
   "metadata": {},
   "outputs": [
    {
     "name": "stdout",
     "output_type": "stream",
     "text": [
      "The diagonal entries of W^TV is \n",
      " [9.23470254e-02 6.28112559e-02 1.10299904e-02 7.52581124e-03\n",
      " 4.01144930e-02 3.89423858e-01 3.34260258e-02 5.83701346e-02\n",
      " 1.36613834e-01 7.15846512e-03 3.79914343e-02 2.36146564e-02\n",
      " 2.13683938e-02 7.18548194e-02 6.52538403e-02 3.04619415e-02\n",
      " 1.89108775e-02 7.71535639e-02 2.39512390e-02 2.85276838e-01\n",
      " 6.60976883e-02 1.60042537e-01 4.05342096e-02 4.36556327e-02\n",
      " 9.74950615e-02 4.05941771e-02 3.07216969e-02 1.45165680e-03\n",
      " 1.23852707e-03 3.44728861e-01 1.11490071e-01 5.07504485e-02\n",
      " 6.24778464e-02 7.16799665e-03 6.48082490e-02 5.09824487e-03\n",
      " 1.39671564e-01 3.38469727e-02 1.24264721e-01 2.65794720e-01\n",
      " 3.42707023e-02 2.51555623e-02 2.10700684e-02 1.86642628e-01\n",
      " 1.06551760e-01 1.40386803e-02 7.06982925e-02 3.09136477e-01\n",
      " 1.97572188e-03 5.25452655e-02 3.19746675e-01 1.13910079e-01\n",
      " 3.59800379e-02 9.11692857e-02 1.48226872e-01 3.10691461e-02\n",
      " 1.93407823e-04 1.21387170e-02 7.79655129e-03 8.60819229e-04\n",
      " 4.69726374e-01 6.90191259e-02 1.74806918e-02 9.75976447e-04\n",
      " 2.96722604e-05 5.39764372e-02 2.97057257e-01 4.76894159e-02\n",
      " 3.44426747e-02 1.77311067e-02 1.29262409e-02 9.85421189e-04\n",
      " 8.72084738e-02 4.32958244e-02 3.55759168e-01 8.57297590e-02\n",
      " 6.21962783e-02 7.66051466e-02 5.95202108e-04 1.06375511e-01\n",
      " 9.54994623e-02 8.19269858e-02 1.15062869e-02 4.21319342e-04\n",
      " 5.27968702e-02 7.26904642e-05 5.31630809e-03 1.68992363e-01\n",
      " 1.17899655e-02 6.67693371e-02 4.84618756e-03 3.45288100e-02\n",
      " 6.61747883e-02 1.08249596e-02 1.81967049e-01 4.51858188e-02\n",
      " 3.21753832e-02 9.63599816e-02 6.16974012e-02 2.21382293e-02] \n",
      " and diagonal entries of biorthonormalized W^TV is \n",
      " [1. 1. 1. 1. 1. 1. 1. 1. 1. 1. 1. 1. 1. 1. 1. 1. 1. 1. 1. 1. 1. 1. 1. 1.\n",
      " 1. 1. 1. 1. 1. 1. 1. 1. 1. 1. 1. 1. 1. 1. 1. 1. 1. 1. 1. 1. 1. 1. 1. 1.\n",
      " 1. 1. 1. 1. 1. 1. 1. 1. 1. 1. 1. 1. 1. 1. 1. 1. 1. 1. 1. 1. 1. 1. 1. 1.\n",
      " 1. 1. 1. 1. 1. 1. 1. 1. 1. 1. 1. 1. 1. 1. 1. 1. 1. 1. 1. 1. 1. 1. 1. 1.\n",
      " 1. 1. 1. 1.].\n"
     ]
    }
   ],
   "source": [
    "diag = np.diag(np.matmul(W.T, V))\n",
    "diag_bi = np.diag(np.matmul(W_bi.T, V_bi))\n",
    "print(f'The diagonal entries of W^TV is \\n {diag} \\n and diagonal entries of biorthonormalized W^TV is \\n {diag_bi}.')"
   ]
  },
  {
   "cell_type": "code",
   "execution_count": 48,
   "id": "e53a41e2-796e-425f-9911-4a70dd3332c2",
   "metadata": {},
   "outputs": [
    {
     "data": {
      "application/vnd.jupyter.widget-view+json": {
       "model_id": "acda7e3f53f04f66b947e9a3d5e5e554",
       "version_major": 2,
       "version_minor": 0
      },
      "text/plain": [
       "Accordion(children=(HTML(value='', layout=Layout(height='16em', width='100%')),), titles=('Log Output',))"
      ]
     },
     "metadata": {},
     "output_type": "display_data"
    },
    {
     "name": "stdout",
     "output_type": "stream",
     "text": [
      "The Linf norm of V - V_POD is 1.275027960545138e-11 and W - W_POD is 2.0835154402546602e-11.\n",
      "The L2 norm of V - V_POD is 1.8819146986316683e-11 and W - W_POD is 3.290666556001446e-11.\n",
      "The Linf norm of V^bi - V^bi_POD is 15032.956078844876 and W^bi - W^bi_POD is 13.029736575315667.\n",
      "The L2 norm of V^bi - V^bi_POD is 42713.532664054175 and W^bi - W^bi_POD is 4.15776896726588.\n"
     ]
    }
   ],
   "source": [
    "# Use error function defined above\n",
    "linf = error(A = A, B = B, C = C, mu = mu, b = b, c = c, V_pod = V, W_pod = W, norm = np.inf)\n",
    "l2 = error(A = A, B = B, C = C, mu = mu, b = b, c = c, V_pod = V, W_pod = W, norm = 2)\n",
    "linf_bi = error(A = A, B = B, C = C, mu = mu, b = b, c = c, V_pod = V_bi, W_pod = W_bi, norm = np.inf, biorth = True)\n",
    "l2_bi = error(A = A, B = B, C = C, mu = mu, b = b, c = c, V_pod = V_bi, W_pod = W_bi, norm = 2, biorth = True)\n",
    "print(f'The Linf norm of V - V_POD is {linf[0]} and W - W_POD is {linf[1]}.')\n",
    "print(f'The L2 norm of V - V_POD is {l2[0]} and W - W_POD is {l2[1]}.')\n",
    "print(f'The Linf norm of V^bi - V^bi_POD is {linf_bi[0]} and W^bi - W^bi_POD is {linf_bi[1]}.')\n",
    "print(f'The L2 norm of V^bi - V^bi_POD is {l2_bi[0]} and W^bi - W^bi_POD is {l2_bi[1]}.')"
   ]
  },
  {
   "cell_type": "code",
   "execution_count": 52,
   "id": "9afeffc2-0168-4310-80be-a330376b6c20",
   "metadata": {},
   "outputs": [
    {
     "data": {
      "application/vnd.jupyter.widget-view+json": {
       "model_id": "7e1b3caa6520412d87462b8dfc8a2fe8",
       "version_major": 2,
       "version_minor": 0
      },
      "text/plain": [
       "Accordion(children=(HTML(value='', layout=Layout(height='16em', width='100%')),), titles=('Log Output',))"
      ]
     },
     "metadata": {},
     "output_type": "display_data"
    }
   ],
   "source": [
    "from pymor.parameters.base import Mu\n",
    "from pymor.models.examples import penzl_example\n",
    "\n",
    "penzl = penzl_example()\n",
    "\n",
    "A = penzl.A\n",
    "B = penzl.B\n",
    "C = penzl.C\n",
    "\n",
    "# Create Matrix induced Stationary Models\n",
    "[model_penzl_V, model_penzl_W] = MatrixModel(penzl.A, penzl.B, penzl.C)\n",
    "\n",
    "# Create a complex-valued training set\n",
    "card_training_set = 30\n",
    "complex_parameters = -10*np.random.random_sample((card_training_set,)) + 10*1j*np.random.random_sample((card_training_set,))\n",
    "imaginary_training_set = []\n",
    "for i in range(card_training_set):\n",
    "    imaginary_training_set.append(Mu({'s': np.array(complex_parameters[i])}))\n",
    "\n",
    "# Create POD-Galerkin RB reductors\n",
    "[pod_rom_V, pod_reductor_V, pod_rom_W, pod_reductor_W] = MatrixReductor(model_penzl_V, model_penzl_W, training_set = imaginary_training_set, reduced_order_V = 20, reduced_order_W = 20)\n",
    "\n",
    "# Create a complex-valued mu set\n",
    "card_mu = 50\n",
    "complex_mu_nconj = 10*np.random.random_sample((card_mu,)) + 10*1j*np.random.random_sample((card_mu,))\n",
    "complex_mu_conj = np.conjugate(complex_mu_nconj)\n",
    "complex_mu = np.append(complex_mu_nconj, complex_mu_conj)\n",
    "mu = []\n",
    "for k in range(100):\n",
    "    mu.append(Mu({'s': np.array(complex_mu[k])}))\n",
    "\n",
    "# Find projection matrices V, W\n",
    "b_nconj = 7*np.random.random_sample((card_mu,)) + 10*1j*np.random.random_sample((card_mu,))\n",
    "b_conj = np.conjugate(b_nconj)\n",
    "c_nconj = 5*np.random.random_sample((card_mu,)) + 10*1j*np.random.random_sample((card_mu,))\n",
    "c_conj = np.conjugate(c_nconj)\n",
    "\n",
    "b = np.append(b_nconj, b_conj)\n",
    "c = np.append(c_nconj, c_conj)\n",
    "\n",
    "[V, W] = ProjectionMatrices(pod_rom_V = pod_rom_V, pod_reductor_V = pod_reductor_V, pod_rom_W = pod_rom_W, pod_reductor_W = pod_reductor_W, mu = mu, b = b, c = c, numpy = True)\n",
    "[V_bi, W_bi] = ProjectionMatrices(pod_rom_V = pod_rom_V, pod_reductor_V = pod_reductor_V, pod_rom_W = pod_rom_W, pod_reductor_W = pod_reductor_W, mu = mu, b = b, c = c, numpy = True, biorth = True)"
   ]
  },
  {
   "cell_type": "code",
   "execution_count": 53,
   "id": "a06b55d5-8359-4feb-97a7-fe140d32a374",
   "metadata": {},
   "outputs": [
    {
     "name": "stdout",
     "output_type": "stream",
     "text": [
      "The diagonal entries of W^TV is \n",
      " [17.70995935  7.18687529  1.34641387  1.31733814 -0.0557785   1.06032933\n",
      "  0.93679504  0.18214398  0.97667709  0.8662857   1.65743263  0.90787163\n",
      "  0.97712831  0.87248823  4.29199684  2.04077549  1.704074   -0.23007031\n",
      " 13.66287968  4.13560658 -0.5114052  -2.12096125  0.22209961  1.03211055\n",
      "  5.38013983  7.74045183  0.20007741  2.81390075  4.17105459 -2.40411146\n",
      "  2.29077086  1.24103594 -1.25483245  0.94929976  0.739743    3.86306902\n",
      " -1.38402778 -0.82301876  0.72947769 -0.79612977  4.99541839 -0.71887446\n",
      " -6.92893478  6.84783687  3.66648669  1.11581454 -0.36319565 -1.7906046\n",
      "  3.23445019  1.44192759 17.70995933  7.18687511  1.3464138   1.31733783\n",
      " -0.05577359  1.06033076  0.93679647  0.18215922  0.97667776  0.86628586\n",
      "  1.65743264  0.90786494  0.97712277  0.8724888   4.29199661  2.04078136\n",
      "  1.70407259 -0.23007441 13.66287874  4.13559851 -0.51141929 -2.12096064\n",
      "  0.22210065  1.03211041  5.38014178  7.74045183  0.20006168  2.81390028\n",
      "  4.17103308 -2.4041258   2.29077201  1.24103801 -1.25483264  0.94929891\n",
      "  0.73974015  3.86307245 -1.38401478 -0.82299179  0.7294776  -0.79614198\n",
      "  4.99542276 -0.71884711 -6.92892541  6.84783852  3.66648618  1.11582284\n",
      " -0.36322023 -1.79064029  3.23444851  1.44193949] \n",
      " and diagonal entries of biorthonormalized W^TV is \n",
      " [1. 1. 1. 1. 1. 1. 1. 1. 1. 1. 1. 1. 1. 1. 1. 1. 1. 1. 1. 1. 1. 1. 1. 1.\n",
      " 1. 1. 1. 1. 1. 1. 1. 1. 1. 1. 1. 1. 1. 1. 1. 1. 1. 1. 1. 1. 1. 1. 1. 1.\n",
      " 1. 1. 1. 1. 1. 1. 1. 1. 1. 1. 1. 1. 1. 1. 1. 1. 1. 1. 1. 1. 1. 1. 1. 1.\n",
      " 1. 1. 1. 1. 1. 1. 1. 1. 1. 1. 1. 1. 1. 1. 1. 1. 1. 1. 1. 1. 1. 1. 1. 1.\n",
      " 1. 1. 1. 1.].\n"
     ]
    }
   ],
   "source": [
    "# W^{*}V = I_r\n",
    "diag_penzl = np.diag(np.matmul(np.conj(W.T), V).real)\n",
    "diag_penzl_bi = np.diag(np.matmul(np.conj(W_bi.T), V_bi).real)\n",
    "print(f'The diagonal entries of W^TV is \\n {diag_penzl} \\n and diagonal entries of biorthonormalized W^TV is \\n {diag_penzl_bi}.')"
   ]
  },
  {
   "cell_type": "code",
   "execution_count": 54,
   "id": "40962dcf-821d-41c3-a895-20aae98b1c08",
   "metadata": {},
   "outputs": [
    {
     "data": {
      "application/vnd.jupyter.widget-view+json": {
       "model_id": "02fc52f721d04d25a7f995f578929705",
       "version_major": 2,
       "version_minor": 0
      },
      "text/plain": [
       "Accordion(children=(HTML(value='', layout=Layout(height='16em', width='100%')),), titles=('Log Output',))"
      ]
     },
     "metadata": {},
     "output_type": "display_data"
    },
    {
     "name": "stdout",
     "output_type": "stream",
     "text": [
      "The Linf norm of V - V_POD is 0.004277922113154519 and W - W_POD is 0.0042496817620066105.\n",
      "The L2 norm of V - V_POD is 0.0017606916753623659 and W - W_POD is 0.0019188648716258567.\n",
      "The Linf norm of V^bi - V^bi_POD is 1331.6071437636465 and W^bi - W^bi_POD is 12.452962973125857.\n",
      "The L2 norm of V^bi - V^bi_POD is 635.1218564527442 and W^bi - W^bi_POD is 4.309238669736741.\n"
     ]
    }
   ],
   "source": [
    "# Use error function defined above\n",
    "linf_penzl = error(A = A, B = B, C = C, mu = mu, b = b, c = c, V_pod = V, W_pod = W, norm = np.inf)\n",
    "l2_penzl = error(A = A, B = B, C = C, mu = mu, b = b, c = c, V_pod = V, W_pod = W, norm = 2)\n",
    "linf_penzl_bi = error(A = A, B = B, C = C, mu = mu, b = b, c = c, V_pod = V_bi, W_pod = W_bi, norm = np.inf, biorth = True)\n",
    "l2_penzl_bi = error(A = A, B = B, C = C, mu = mu, b = b, c = c, V_pod = V_bi, W_pod = W_bi, norm = 2, biorth = True)\n",
    "print(f'The Linf norm of V - V_POD is {linf_penzl[0]} and W - W_POD is {linf_penzl[1]}.')\n",
    "print(f'The L2 norm of V - V_POD is {l2_penzl[0]} and W - W_POD is {l2_penzl[1]}.')\n",
    "print(f'The Linf norm of V^bi - V^bi_POD is {linf_penzl_bi[0]} and W^bi - W^bi_POD is {linf_penzl_bi[1]}.')\n",
    "print(f'The L2 norm of V^bi - V^bi_POD is {l2_penzl_bi[0]} and W^bi - W^bi_POD is {l2_penzl_bi[1]}.')"
   ]
  },
  {
   "cell_type": "markdown",
   "id": "da5d3b17-7a39-4f88-a37b-c8d80bc75315",
   "metadata": {},
   "source": [
    "## Observation\n",
    "Notice that when we biorthonormalize the approximated projection matrices $V$ and $W$, the error becomes enormously large, as can be seen from examples above."
   ]
  },
  {
   "cell_type": "markdown",
   "id": "f6fcb43f-a83a-4353-9030-87a5ba2eaf3c",
   "metadata": {},
   "source": [
    "## Important note\n",
    "Let us recall **IRKA** to highlight an important point when implementing the **POD-based Matrix Reduction Method**:\n",
    "\n",
    "Let $\\Sigma$ be a stable system with a state-space dimension $n$, and let $0 < r < n$ be the desired order of the approximating reduced-order model (ROM) to compute. The *Iterative Rational Krylov Algorithm* (IRKA) consists of the following steps:\n",
    "\n",
    "1. Choose some initial interpolation data $-\\mu_{i}, \\hat{c}_{i}, \\hat{b}_{i} \\in \\mathbb{C}$ for $i = 1, \\ldots, r$.  \n",
    "\n",
    "2. While the interpolation data has not converged, perform the following steps:  \n",
    "\n",
    "   2.1 Compute the ROM $(\\hat{A}, \\hat{B}, \\hat{C}) = (W^{T} A V, W^{T} B, C V)$ using the given interpolation data by constructing the projection matrices $W, V \\in \\mathbb{C}^{n \\times r}$ with $W^{T} V = I_{r}$ and  \n",
    "   \\begin{equation}\n",
    "   V = \\begin{bmatrix}\n",
    "       (-\\mu_{1}I_{n} - A)^{-1}B\\hat{b}_{1} & (-\\mu_{2}I_{n} - A)^{-1}B\\hat{b}_{2} & \\cdots & (-\\mu_{r}I_{n} - A)^{-1}B\\hat{b}_{r}\n",
    "   \\end{bmatrix},\n",
    "   \\end{equation}  \n",
    "   \\begin{equation}\n",
    "   W = \\begin{bmatrix}\n",
    "       (-\\mu_{1}I_{n} - A)^{-*}C^{T}\\hat{c}_{1} & (-\\mu_{2}I_{n} - A)^{-*}C^{T}\\hat{c}_{2} & \\cdots & (-\\mu_{r}I_{n} - A)^{-*}C^{T}\\hat{c}_{r}\n",
    "   \\end{bmatrix}.\n",
    "   \\end{equation}\n",
    "\n",
    "   2.2 Update the interpolation data $(-\\mu_{i}, \\hat{c}_{i}, \\hat{b}_{i})$ by computing the pole-residue expansion of the updated ROM's transfer function. Use the following relations:  \n",
    "   \\begin{equation}\n",
    "   \\hat{A} = \\hat{V} \\hat{\\Lambda} \\hat{V}^{-1}, \\quad \\hat{\\Lambda} = \\operatorname{diag}(\\mu_{1}, \\ldots, \\mu_{r}), \\quad \\hat{c}_{j} = \\hat{C}\\hat{V}e_{j}, \\quad \\hat{b}_{j} = \\hat{B}^{T}\\hat{V}^{-*}e_{j},\n",
    "   \\end{equation}\n",
    "   or equivalently,\n",
    "   \\begin{equation}\n",
    "   c = \n",
    "   \\begin{bmatrix}\n",
    "       c_{1} & \\cdots & c_{r} \n",
    "   \\end{bmatrix} = \\hat{C}\\hat{V}\\quad \\text{and} \\quad\n",
    "   b = \n",
    "   \\begin{bmatrix}\n",
    "       b_{1} & \\cdots & b_{r} \n",
    "   \\end{bmatrix} = \\hat{B}^{T}\\hat{V}^{-*},\n",
    "   \\end{equation}\n",
    "    which will be used in coding.\n",
    "\n",
    "   \n",
    "In IRKA, the **POD-based Matrix Reduction Method** is used to construct the projection matrices $V$ and $W$. However, note that there is more than one way to use this method. Before proceeding, examine the method and observe that the interpolation data are updated iteratively. If we use the above construction, then in each iteration, the `MatrixReductor` will be evaluated only once for one `training_set`, and the `ProjectionMatrices` functions will be evaluated with different $\\mu$, $b$, and $c$ parameters. This approach may yield good results if we somehow know the parameter space for the $\\mu$ values, such as $\\mu_{\\text{min}}$ and $\\mu_{\\text{max}}$. However, if the behavior of $\\mu$ is unknown, the results may not be satisfactory. This is because $ \\mu $ values are iteratively updated, and training the model to generate a reduced model with a fixed parameter space for $\\mu$ that does not reflect its actual behavior can lead to significant errors.\n",
    "\n",
    "Therefore, we propose the **Adaptive POD-based Matrix Reduction Method for IRKA**, which iteratively initializes the `training_set` needed for Matrix Reduction. Specifically, in each iteration, the `training set` will consist of $r$ randomly chosen points that lie within the range $(\\mu_{\\text{min}}, \\mu_{\\text{max}})$, where $\\mu_{\\text{min}} = \\lambda_{\\text{min}}(\\hat{\\Lambda}_{i})$ and $\\mu_{\\text{max}} = \\lambda_{\\text{max}}(\\hat{\\Lambda}_{i})$, and $\\hat{\\Lambda}_{i}$ is a diagonal matrix defined as above for each iteration $i$. (will be elaborated in detail what do we mean here)"
   ]
  },
  {
   "cell_type": "code",
   "execution_count": 150,
   "id": "e6921f38-c513-4422-8063-da87b2e80a35",
   "metadata": {},
   "outputs": [],
   "source": [
    "from pymor.parameters.base import Mu\n",
    "from pymor.algorithms.to_matrix import to_matrix\n",
    "\n",
    "def POD_IRKA(A, B, C, mu, b, c, reduced_order_V, reduced_order_W, tol):\n",
    "\n",
    "    A = to_matrix(A).toarray()\n",
    "    B = to_matrix(B)\n",
    "    C = to_matrix(C)\n",
    "\n",
    "    k = 0\n",
    "    \n",
    "    while k < 4: #condition > tol\n",
    "               \n",
    "        # Get mu values as a NumPy array\n",
    "        mu_values = np.array([s['s'] for s in mu])\n",
    "\n",
    "        # Reduction order for IRKA\n",
    "        r = len(mu_values)\n",
    "\n",
    "        # Construct a trianing set considering mu_min and m_max (in each iteration, set changes)\n",
    "        card_training_set = max(reduced_order_V, reduced_order_W)\n",
    "        mu_values_real, mu_values_imaginary = mu_values.real, mu_values.imag\n",
    "        mu_min_real, mu_max_real = min(mu_values_real), max(mu_values_real)\n",
    "        mu_min_complex, mu_max_complex = min(mu_values_imaginary), max(mu_values_imaginary)\n",
    "        \n",
    "        random_real = np.random.uniform(low = mu_min_real, high = mu_max_real, size = card_training_set)\n",
    "        random_imaginary = 1j*np.random.uniform(low = mu_min_complex, high = mu_max_complex, size = card_training_set)\n",
    "        random_set = random_real + random_imaginary\n",
    "        training_set = []\n",
    "        for i in range(card_training_set):\n",
    "            training_set.append(Mu({'s': np.array(random_set[i])}))\n",
    "\n",
    "        # Define Matrix induced Stationary Model\n",
    "        [model_V, model_W] = MatrixModel(A, B, C)\n",
    "\n",
    "        # Find POD-Galerkin RB reductors\n",
    "        [pod_rom_V, pod_reductor_V, pod_rom_W, pod_reductor_W] = MatrixReductor(model_V, model_W, training_set = training_set, reduced_order_V = reduced_order_V, reduced_order_W = reduced_order_W)\n",
    "\n",
    "        # Find reconstructed reduced projection matrices (NumPy array) \n",
    "        [V, W] = ProjectionMatrices(pod_rom_V = pod_rom_V, pod_reductor_V = pod_reductor_V, pod_rom_W = pod_rom_W, pod_reductor_W = pod_reductor_W, mu = mu, b = b, c = c, numpy = True)\n",
    "        \n",
    "        # Find reduced matrices\n",
    "        A_reduced = np.conj(W.T) @ A @ V\n",
    "        B_reduced = np.conj(W.T) @ B\n",
    "        C_reduced = C @ V\n",
    "\n",
    "        # Decompose the reduced matrix A -> A = UDU^{-1}\n",
    "        eigval, U = np.linalg.eig(A_reduced)\n",
    "        U_inv = np.linalg.inv(U)\n",
    "\n",
    "        # Reset the loop condition\n",
    "        condition = np.linalg.norm(eigval + mu_values, np.inf)\n",
    "\n",
    "        # Update interpolation data\n",
    "        for j in range(r):\n",
    "            mu[j] = Mu({'s': -np.array(eigval[j])})\n",
    "\n",
    "        b = np.matmul(C_reduced, U).flatten()\n",
    "        c = np.matmul(B_reduced.T, np.conjugate((U_inv.T))).flatten()  \n",
    "\n",
    "        k += 1\n",
    "\n",
    "    return [V, W, A_reduced, B_reduced, C_reduced]    "
   ]
  },
  {
   "cell_type": "code",
   "execution_count": 145,
   "id": "974ee365-4df8-4362-9f6a-f4316e4db4bb",
   "metadata": {},
   "outputs": [],
   "source": [
    "from pymor.parameters.base import Mu\n",
    "from pymor.algorithms.to_matrix import to_matrix\n",
    "\n",
    "def IRKA(A, B, C, mu, b, c):\n",
    "\n",
    "    A = to_matrix(A).toarray()\n",
    "    B = to_matrix(B)\n",
    "    C = to_matrix(C)\n",
    "\n",
    "    k = 0\n",
    "    \n",
    "    while k < 4: #condition > tol\n",
    "               \n",
    "        # Get mu values as a NumPy array\n",
    "        mu_values = np.array([s['s'] for s in mu])\n",
    "\n",
    "        # Reduction order for IRKA\n",
    "        r = len(mu_values)\n",
    "\n",
    "        dim = A.shape[0] if isinstance(A, np.ndarray) else to_matrix(A).shape[0]\n",
    "        \n",
    "        # Exact projection matrices\n",
    "        identity = np.eye(dim)\n",
    "        D_b, D_c = np.diag(b), np.diag(c)\n",
    "        \n",
    "        V = np.matmul(np.hstack([np.matmul(inv(s*identity - A), B) for s in mu_values]), D_b)\n",
    "        W = np.matmul(np.hstack([(np.matmul(np.conjugate(inv(s*identity - A).T), C.T)) for s in mu_values]), D_c)   \n",
    "\n",
    "        space = NumpyVectorSpace(V.shape[0])\n",
    "        V = space.make_array(V.T)\n",
    "        W = space.make_array(W.T)\n",
    "        [V_bi, W_bi] = gram_schmidt_biorth(V, W, check_tol = 10**(-9))\n",
    "\n",
    "        V = V_bi.to_numpy().T\n",
    "        W = W_bi.to_numpy().T\n",
    "        \n",
    "        # Find reduced matrices\n",
    "        A_reduced = np.conj(W.T) @ A @ V\n",
    "        B_reduced = np.conj(W.T) @ B\n",
    "        C_reduced = C @ V\n",
    "\n",
    "        # Decompose the reduced matrix A -> A = UDU^{-1}\n",
    "        eigval, U = np.linalg.eig(A_reduced)\n",
    "        U_inv = np.linalg.inv(U)\n",
    "\n",
    "        # Reset the loop condition\n",
    "        #condition = np.linalg.norm(eigval + mu_values, np.inf)\n",
    "\n",
    "        # Update interpolation data\n",
    "        for j in range(r):\n",
    "            mu[j] = Mu({'s': -np.array(eigval[j])})\n",
    "\n",
    "        b = np.matmul(C_reduced, U).flatten()\n",
    "        c = np.matmul(B_reduced.T, np.conjugate((U_inv.T))).flatten()  \n",
    "\n",
    "        k += 1\n",
    "\n",
    "    return [V, W, A_reduced, B_reduced, C_reduced]    "
   ]
  },
  {
   "cell_type": "code",
   "execution_count": 165,
   "id": "7432c2e5-bca6-4e67-9b77-012e06ae7e3e",
   "metadata": {},
   "outputs": [
    {
     "data": {
      "application/vnd.jupyter.widget-view+json": {
       "model_id": "c40aad99f2654599ab7c611a12c0a936",
       "version_major": 2,
       "version_minor": 0
      },
      "text/plain": [
       "Accordion(children=(HTML(value='', layout=Layout(height='16em', width='100%')),), titles=('Log Output',))"
      ]
     },
     "metadata": {},
     "output_type": "display_data"
    }
   ],
   "source": [
    "from pymor.models.examples import penzl_example\n",
    "\n",
    "penzl = penzl_example()\n",
    "\n",
    "A = penzl.A\n",
    "B = penzl.B\n",
    "C = penzl.C\n",
    "\n",
    "np.set_printoptions(precision=2)\n",
    "\n",
    "# Create a complex-valued mu set\n",
    "card_mu = 100\n",
    "complex_mu_nconj = 10 * np.random.random_sample((card_mu,)) + 10 * 1j * np.random.random_sample((card_mu,))\n",
    "complex_mu_conj = np.conjugate(complex_mu_nconj)\n",
    "complex_mu = np.append(complex_mu_nconj, complex_mu_conj)\n",
    "\n",
    "# Round the real and imaginary parts to 2 decimal places\n",
    "rounded_complex_mu = np.around(complex_mu.real, 2) + 1j * np.around(complex_mu.imag, 2)\n",
    "mu = []\n",
    "for k in range(2*card_mu):\n",
    "    mu.append(Mu({'s': np.array(rounded_complex_mu[k])}))\n",
    "\n",
    "# Original complex arrays\n",
    "b_nconj = 7 * np.random.random_sample((card_mu,)) + 10 * 1j * np.random.random_sample((card_mu,))\n",
    "b_conj = np.conjugate(b_nconj)\n",
    "\n",
    "c_nconj = 5 * np.random.random_sample((card_mu,)) + 10 * 1j * np.random.random_sample((card_mu,))\n",
    "c_conj = np.conjugate(c_nconj)\n",
    "\n",
    "# Rounding to 2 decimal places\n",
    "b_nconj_rounded = np.around(b_nconj.real, 2) + 1j * np.around(b_nconj.imag, 2)\n",
    "b_conj_rounded = np.around(b_conj.real, 2) + 1j * np.around(b_conj.imag, 2)\n",
    "\n",
    "c_nconj_rounded = np.around(c_nconj.real, 2) + 1j * np.around(c_nconj.imag, 2)\n",
    "c_conj_rounded = np.around(c_conj.real, 2) + 1j * np.around(c_conj.imag, 2)\n",
    "\n",
    "b = np.append(b_nconj_rounded, b_conj_rounded)\n",
    "c = np.append(c_nconj_rounded, c_conj_rounded)\n",
    "\n",
    "[V_pod, W_pod, A_reduced_pod, B_reduced_pod, C_reduced_pod] = POD_IRKA(A = A, B = B, C = C, mu = mu, b = b, c = c, reduced_order_V = 80, reduced_order_W = 80, tol = 10**(-9))"
   ]
  },
  {
   "cell_type": "code",
   "execution_count": 167,
   "id": "c4928d9d-4c5f-4ebf-b2ba-6637e7de633e",
   "metadata": {},
   "outputs": [
    {
     "data": {
      "text/plain": [
       "array([1., 1., 1., 1., 1., 1., 1., 1., 1., 1., 1., 1., 1., 1., 1., 1., 1.,\n",
       "       1., 1., 1., 1., 1., 1., 1., 1., 1., 1., 1., 1., 1., 1., 1., 1., 1.,\n",
       "       1., 1., 1., 1., 1., 1., 1., 1., 1., 1., 1., 1., 1., 1., 1., 1., 1.,\n",
       "       1., 1., 1., 1., 1., 1., 1., 1., 1., 1., 1., 1., 1., 1., 1., 1., 1.,\n",
       "       1., 1., 1., 1., 1., 1., 1., 1., 1., 1., 1., 1., 1., 1., 1., 1., 1.,\n",
       "       1., 1., 1., 1., 1., 1., 1., 1., 1., 1., 1., 1., 1., 1., 1., 1., 1.,\n",
       "       1., 1., 1., 1., 1., 1., 1., 1., 1., 1., 1., 1., 1., 1., 1., 1., 1.,\n",
       "       1., 1., 1., 1., 1., 1., 1., 1., 1., 1., 1., 1., 1., 1., 1., 1., 1.,\n",
       "       1., 1., 1., 1., 1., 1., 1., 1., 1., 1., 1., 1., 1., 1., 1., 1., 1.,\n",
       "       1., 1., 1., 1., 1., 1., 1., 1., 1., 1., 1., 1., 1., 1., 1., 1., 1.,\n",
       "       1., 1., 1., 1., 1., 1., 1., 1., 1., 1., 1., 1., 1., 1., 1., 1., 1.,\n",
       "       1., 1., 1., 1., 1., 1., 1., 1., 1., 1., 1., 1., 1.])"
      ]
     },
     "execution_count": 167,
     "metadata": {},
     "output_type": "execute_result"
    }
   ],
   "source": [
    "np.diag(np.matmul(np.conj(W_pod.T), V_pod).real)"
   ]
  },
  {
   "cell_type": "code",
   "execution_count": 168,
   "id": "861c20cb-4b90-488d-b52b-c143e49e9645",
   "metadata": {},
   "outputs": [
    {
     "data": {
      "application/vnd.jupyter.widget-view+json": {
       "model_id": "c1b83e26c2f143e8a861ed8f370d2c0e",
       "version_major": 2,
       "version_minor": 0
      },
      "text/plain": [
       "Accordion(children=(HTML(value='', layout=Layout(height='16em', width='100%')),), titles=('Log Output',))"
      ]
     },
     "metadata": {},
     "output_type": "display_data"
    }
   ],
   "source": [
    "[V, W, A_reduced, B_reduced, C_reduced] = IRKA(A = A, B = B, C = C, mu = mu, b = b, c = c)"
   ]
  },
  {
   "cell_type": "code",
   "execution_count": 169,
   "id": "0da10adb-755f-47db-b6a8-f15d92dcb576",
   "metadata": {},
   "outputs": [
    {
     "data": {
      "text/plain": [
       "array([1., 1., 1., 1., 1., 1., 1., 1., 1., 1., 1., 1., 1., 1., 1., 1., 1.,\n",
       "       1., 1., 1., 1., 1., 1., 1., 1., 1., 1., 1., 1., 1., 1., 1., 1., 1.,\n",
       "       1., 1., 1., 1., 1., 1., 1., 1., 1., 1., 1., 1., 1., 1., 1., 1., 1.,\n",
       "       1., 1., 1., 1., 1., 1., 1., 1., 1., 1., 1., 1., 1., 1., 1., 1., 1.,\n",
       "       1., 1., 1., 1., 1., 1., 1., 1., 1., 1., 1., 1., 1., 1., 1., 1., 1.,\n",
       "       1., 1., 1., 1., 1., 1., 1., 1., 1., 1., 1., 1., 1., 1., 1., 1., 1.,\n",
       "       1., 1., 1., 1., 1., 1., 1., 1., 1., 1., 1., 1., 1., 1., 1., 1., 1.,\n",
       "       1., 1., 1., 1., 1., 1., 1., 1., 1., 1., 1., 1., 1., 1., 1., 1., 1.,\n",
       "       1., 1., 1., 1., 1., 1., 1., 1., 1., 1., 1., 1., 1., 1., 1., 1., 1.,\n",
       "       1., 1., 1., 1., 1., 1., 1., 1., 1., 1., 1., 1., 1., 1., 1., 1., 1.,\n",
       "       1., 1., 1., 1., 1., 1., 1., 1., 1., 1., 1., 1., 1., 1., 1., 1., 1.,\n",
       "       1., 1., 1., 1., 1., 1., 1., 1., 1., 1., 1., 1., 1.])"
      ]
     },
     "execution_count": 169,
     "metadata": {},
     "output_type": "execute_result"
    }
   ],
   "source": [
    "np.diag(np.matmul(np.conj(W.T), V).real)"
   ]
  },
  {
   "cell_type": "code",
   "execution_count": 175,
   "id": "463a14ff-9a01-4caf-aa69-8d2742ed26e7",
   "metadata": {},
   "outputs": [
    {
     "data": {
      "text/plain": [
       "np.float64(2850.919551758228)"
      ]
     },
     "execution_count": 175,
     "metadata": {},
     "output_type": "execute_result"
    }
   ],
   "source": [
    "np.linalg.norm((V_pod - V).real, np.inf)"
   ]
  },
  {
   "cell_type": "code",
   "execution_count": 177,
   "id": "623d7530-d1d4-4c13-8d3f-1ca3aa48aecc",
   "metadata": {},
   "outputs": [
    {
     "data": {
      "text/plain": [
       "array([[-2.64e+02,  5.57e+02, -9.39e+02, ..., -3.07e-08,  2.54e-08,\n",
       "         8.57e-08],\n",
       "       [-3.63e+01,  3.93e+03, -3.85e+03, ..., -1.37e-07,  7.60e-08,\n",
       "         4.35e-07],\n",
       "       [-6.88e+01,  4.09e+03, -4.71e+03, ..., -1.76e-07,  1.29e-07,\n",
       "         5.17e-07],\n",
       "       ...,\n",
       "       [ 1.13e-10, -9.83e-09,  7.78e-09, ..., -2.44e+03, -8.23e+02,\n",
       "         2.22e+03],\n",
       "       [-6.63e-11,  7.51e-09, -4.09e-09, ...,  4.77e+03,  2.34e+03,\n",
       "        -3.76e+03],\n",
       "       [-7.88e-11, -2.16e-09, -7.82e-09, ..., -6.32e+02, -1.35e+03,\n",
       "         2.52e+03]])"
      ]
     },
     "execution_count": 177,
     "metadata": {},
     "output_type": "execute_result"
    }
   ],
   "source": [
    "A_reduced.real"
   ]
  }
 ],
 "metadata": {
  "kernelspec": {
   "display_name": "Python 3 (ipykernel)",
   "language": "python",
   "name": "python3"
  },
  "language_info": {
   "codemirror_mode": {
    "name": "ipython",
    "version": 3
   },
   "file_extension": ".py",
   "mimetype": "text/x-python",
   "name": "python",
   "nbconvert_exporter": "python",
   "pygments_lexer": "ipython3",
   "version": "3.12.7"
  }
 },
 "nbformat": 4,
 "nbformat_minor": 5
}
