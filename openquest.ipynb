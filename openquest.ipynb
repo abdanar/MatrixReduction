{
 "cells": [
  {
   "cell_type": "code",
   "execution_count": 1,
   "metadata": {},
   "outputs": [],
   "source": [
    "import numpy as np\n",
    "from numpy.linalg import inv\n",
    "from pymor.basic import *\n",
    "from pymor.reductors.basic import StationaryRBReductor\n",
    "from pymor.algorithms.to_matrix import to_matrix\n",
    "from pymor.algorithms.gram_schmidt import gram_schmidt \n",
    "from pymor.models.basic import StationaryModel\n",
    "from pymor.operators.constructions import LincombOperator\n",
    "from pymor.operators.numpy import NumpyMatrixOperator\n",
    "from pymor.parameters.functionals import ProjectionParameterFunctional, ConjugateParameterFunctional\n",
    "from pymor.vectorarrays.numpy import NumpyVectorSpace"
   ]
  },
  {
   "cell_type": "code",
   "execution_count": 2,
   "metadata": {},
   "outputs": [],
   "source": [
    "def MatrixModel(A, B, C):\n",
    "    '''\n",
    "    This function creates stationary models for the following linear coercive models derived for the given three matrices A, B, and C:\n",
    "    \n",
    "        a_1(v, w; s) = w*(sI_n - A)v and l_1(w) = w*B\n",
    "        a_2(v, w; s) = w*(sI_n - A)*v and l_2(w) = w*C^T.\n",
    "\n",
    "    Inputs:\n",
    "    ------------------------------------------------\n",
    "    A - matrix -> NumPy array or NumpyMatrixOperator\n",
    "    B - vector -> NumPy array or NumpyMatrixOperator\n",
    "    C - vector -> NumPy array or NumpyMatrixOperator\n",
    "    ------------------------------------------------\n",
    "    Outputs:\n",
    "    ------------------------------------------------\n",
    "    model_V - Stationary Model of linear coercive model w*(sI_n - A)v = w*B -> StationaryModel\n",
    "    model_W - Stationary Model of linear coercive model w*(sI_n - A)*v -> StationaryModel\n",
    "    '''\n",
    "\n",
    "    # Define operators (and also a dimension of a model)\n",
    "    if isinstance(A, np.ndarray):\n",
    "        dim = A.shape[0]\n",
    "        A_op = NumpyMatrixOperator(A)\n",
    "    else:\n",
    "        dim = to_matrix(A).shape[0]\n",
    "        A_op = A\n",
    "\n",
    "    if isinstance(B, np.ndarray):\n",
    "        B_op = NumpyMatrixOperator(B) \n",
    "    else:\n",
    "        B_op = B  \n",
    "\n",
    "    if isinstance(C, np.ndarray):\n",
    "        C_op = NumpyMatrixOperator(C.T)  \n",
    "    else:\n",
    "        C_op = C.H  # C is real, so adjoint is transpose\n",
    "\n",
    "    I_op = NumpyMatrixOperator(np.eye(dim))\n",
    "    \n",
    "    # Define parameter functional for 's'\n",
    "    s_param = ProjectionParameterFunctional('s', 1)\n",
    "\n",
    "    # Define bilinear form a(v, w; s) = w*(sI - A)v\n",
    "    a_op_1 = LincombOperator([I_op, A_op], [s_param, -1])\n",
    "\n",
    "    # Define bilinear form a(v, w; s) = w*(sI - A)*v -> Note: (sI - A)* = s*I - A*\n",
    "    a_op_2 = LincombOperator([I_op, A_op.H], [ConjugateParameterFunctional(s_param), -1])\n",
    "    \n",
    "    # Define linear functional l(w) = w^*B\n",
    "    l_op_1 = B_op\n",
    "\n",
    "    # Define linear functional l(w) = w^*C^{T}\n",
    "    l_op_2 = C_op\n",
    "\n",
    "    # Define the StationaryModels\n",
    "    model_V = StationaryModel(operator=a_op_1, rhs=l_op_1)\n",
    "    model_W = StationaryModel(operator=a_op_2, rhs=l_op_2)\n",
    "\n",
    "    return [model_V, model_W] \n"
   ]
  },
  {
   "cell_type": "code",
   "execution_count": 3,
   "metadata": {},
   "outputs": [],
   "source": [
    "def MatrixReductor(model_V, model_W, training_set, reduced_order_V: int, reduced_order_W: int):\n",
    "    \n",
    "    '''\n",
    "    Inputs:\n",
    "    ------------------------------------------------\n",
    "    model_V - Stationary Model of linear coercive model w*(sI_n - A)v = w*B -> StationaryModel\n",
    "    model_W - Stationary Model of linear coercive model w*(sI_n - A)*v -> StationaryModel\n",
    "    training_set - an array containing parameters used to construct the snapshot matrix -> type(training_set[i]) = pymor.parameters.base.Mu (list of Mu objects)\n",
    "    ------------------------------------------------\n",
    "    Outputs:\n",
    "    ------------------------------------------------\n",
    "    pod_rom_V\n",
    "    pod_rom_W\n",
    "    '''\n",
    "\n",
    "    # Compute FOM solutions for the parameters in the training set\n",
    "    solution_snapshots_V = model_V.solution_space.empty()\n",
    "    solution_snapshots_W = model_W.solution_space.empty()\n",
    "    for s in training_set:\n",
    "        solution_snapshots_V.append(model_V.solve(s))\n",
    "        solution_snapshots_W.append(model_W.solve(s))\n",
    "        \n",
    "    # Snapshot matrices\n",
    "    snapshot_matrix_V = solution_snapshots_V.to_numpy().T # Note: One may also use solution_snapshots_V.impl._array.T to get np.ndarray type needed for computation\n",
    "    snapshot_matrix_W = solution_snapshots_W.to_numpy().T\n",
    "\n",
    "    # Finding the Singular Value Decomposition (SVD) of snapshot matrices -> S = UΣV^T\n",
    "    U_V, D_V, Vt_V = np.linalg.svd(snapshot_matrix_V, full_matrices = True)\n",
    "    U_W, D_W, Vt_W = np.linalg.svd(snapshot_matrix_W, full_matrices = True)\n",
    "\n",
    "    if reduced_order_V > min(snapshot_matrix_V.shape):\n",
    "        raise ValueError(\"'reduced_order_V' cannot exceed the rank of the snapshot matrix.\")\n",
    "    if reduced_order_W > min(snapshot_matrix_W.shape):\n",
    "        raise ValueError(\"'reduced_order_W' cannot exceed the rank of the snapshot matrix.\")\n",
    "\n",
    "    # The reduced bases (POD bases)\n",
    "    pod_basis_numpy_V = U_V[:,:reduced_order_V]\n",
    "    pod_basis_numpy_W = U_W[:,:reduced_order_W]\n",
    "\n",
    "    # Convert NumPy array into VectorArray \n",
    "    space_V = NumpyVectorSpace(model_V.order) #number of columns = model_V.order\n",
    "    space_W = NumpyVectorSpace(model_W.order)\n",
    "    pod_basis_V = space_V.make_array(pod_basis_numpy_V.T) #This is actually transpose of POD-RB basis\n",
    "    pod_basis_W = space_W.make_array(pod_basis_numpy_W.T) #This is actually transpose of POD-RB basis\n",
    "    \n",
    "    # POD-Galerkin RB method\n",
    "    pod_reductor_V = StationaryRBReductor(model_V, RB = pod_basis_V) \n",
    "    pod_reductor_W = StationaryRBReductor(model_W, RB = pod_basis_W) \n",
    "    pod_rom_V = pod_reductor_V.reduce()\n",
    "    pod_rom_W = pod_reductor_W.reduce()\n",
    "\n",
    "    return [pod_rom_V, pod_reductor_V, pod_rom_W, pod_reductor_W]\n"
   ]
  },
  {
   "cell_type": "code",
   "execution_count": 4,
   "metadata": {},
   "outputs": [],
   "source": [
    "def ProjectionMatrices(pod_rom_V, pod_reductor_V, pod_rom_W, pod_reductor_W, mu, b, c, numpy = False):\n",
    "\n",
    "    '''\n",
    "    Inputs:\n",
    "    ------------------------------------------------\n",
    "    pod_rom_V\n",
    "    pod_rom_W\n",
    "    pod_reductor_V\n",
    "    pod_reductor_W\n",
    "    mu - list of -mu_i values -> type(mu[i]) = pymor.parameters.base.Mu (list of Mu objects)\n",
    "    b - NumPy array -> b.shape = (r,) where r = len(mu)\n",
    "    c - NumPy array -> c.shape = (r,) where r = len(mu)\n",
    "    validation_set - an array containing parameters used to evaluate the reduced model after its construction -> type(validation_set[i]) = pymor.parameters.base.Mu (list of Mu objects)\n",
    "    ------------------------------------------------\n",
    "    Outputs: Biorthonormal pair of projection matrices V, W using biorthonormal Gram-Schmidt process\n",
    "    ------------------------------------------------\n",
    "    V - projection matrix V -> NumpyVectorArray -> V.shape = (n, r)\n",
    "    W - projection matrix W -> NumpyVectorArray -> W.shape = (n, r)\n",
    "    '''\n",
    "    \n",
    "    # Solution arrays containing len(validation_set) many reduced samples\n",
    "    card_mu = len(mu)\n",
    "    reduced_solution_V = pod_rom_V.solution_space.empty()\n",
    "    reduced_solution_W = pod_rom_W.solution_space.empty()\n",
    "    for s in mu:\n",
    "        reduced_solution_V.append(pod_rom_V.solve(s))\n",
    "        reduced_solution_W.append(pod_rom_W.solve(s))\n",
    "        \n",
    "    # It would be better to get matrices where columns are the reconstructed reduced solutions as in theory we will use such matrix; however PyMor only has vstack option (appending as a row of a matrix)\n",
    "    reduced_solution_reconstruct_V_T = pod_reductor_V.reconstruct(reduced_solution_V) # a matrix with rows representing the reconstructed reduced solutions for different parameter values to first parametrized coercive model (row i will give us (s_{i}I - A)^{-1}B)\n",
    "    reduced_solution_reconstruct_W_T = pod_reductor_W.reconstruct(reduced_solution_W) # a matrix with rows representing the reconstructed reduced solutions for different parameter values to second parametrized coercive model (row i will give us (s_{i}I - A)^{-*}C^T)\n",
    "\n",
    "    # To align with the theory, we take the transpose of the result. Also, note that the transpose operation does not exist in PyMor for `NumpyVectorArray`, so we first take the transpose of the NumPy array and then convert it back\n",
    "    space_V_numpy = NumpyVectorSpace(card_mu)\n",
    "    space_W_numpy = NumpyVectorSpace(card_mu)\n",
    "    R_V = space_V_numpy.make_array(reduced_solution_reconstruct_V_T.to_numpy().T)\n",
    "    R_W = space_W_numpy.make_array(reduced_solution_reconstruct_W_T.to_numpy().T)\n",
    "\n",
    "    R_V, R_W = R_V.to_numpy(), R_W.to_numpy() # Note: One may also use R_V.impl._array to get np.ndarray type needed for computation; also above convertion is unnnecessary one may remove it\n",
    "    D_b, D_c = np.diag(b), np.diag(c)\n",
    "\n",
    "    V_numpy = np.matmul(R_V, D_b)\n",
    "    W_numpy = np.matmul(R_W, D_c)\n",
    "\n",
    "    if numpy is True: # exact values\n",
    "        V = V_numpy\n",
    "        W = W_numpy\n",
    "    else: # to work in pymor everything is transposed\n",
    "        space = NumpyVectorSpace(V_numpy.shape[0])\n",
    "        V = space.make_array(V_numpy.T)\n",
    "        W = space.make_array(W_numpy.T)\n",
    "\n",
    "    return [V, W]"
   ]
  },
  {
   "cell_type": "code",
   "execution_count": 5,
   "metadata": {},
   "outputs": [],
   "source": [
    "def Gram(V, W, biort = False, numpy = False):\n",
    "\n",
    "    [Q_V, _] = gram_schmidt(V, return_R = True, atol = 0, rtol = 0, check_tol=1e-10)\n",
    "    [Q_W, _] = gram_schmidt(W, return_R = True, atol = 0, rtol = 0, check_tol=1e-10)\n",
    "    V_orth = Q_V.to_numpy().T\n",
    "    W_orth = Q_W.to_numpy().T\n",
    "\n",
    "    if biort is True:\n",
    "        M = np.linalg.inv(W_orth.T@V_orth)\n",
    "        V_orth = V_orth@M\n",
    "        if numpy is True:\n",
    "            V = V_orth\n",
    "            W = W_orth\n",
    "        else:\n",
    "            space = NumpyVectorSpace(V_orth.shape[0])\n",
    "            V = space.make_array(V_orth.T)\n",
    "            W = space.make_array(W_orth.T)\n",
    "    else:\n",
    "        if numpy is True:\n",
    "            V = V_orth\n",
    "            W = W_orth\n",
    "        else:\n",
    "            V = Q_V\n",
    "            W = Q_W\n",
    "    return [V, W]"
   ]
  },
  {
   "cell_type": "code",
   "execution_count": 6,
   "metadata": {},
   "outputs": [],
   "source": [
    "def exact(A, B, C, mu, b, c, numpy = False):\n",
    "\n",
    "    dim = A.shape[0] if isinstance(A, np.ndarray) else to_matrix(A).shape[0]\n",
    "    \n",
    "    # NumPy convertions\n",
    "    A = A if isinstance(A, np.ndarray) else to_matrix(A).toarray()\n",
    "    B = B if isinstance(B, np.ndarray) else to_matrix(B)\n",
    "    C = C if isinstance(C, np.ndarray) else to_matrix(C)\n",
    "    mu_values = np.array([s['s'] for s in mu]) \n",
    "    \n",
    "    # Exact projection matrices\n",
    "    identity = np.eye(dim)\n",
    "    D_b, D_c = np.diag(b), np.diag(c)\n",
    "    \n",
    "    V_exact = np.matmul(np.hstack([np.matmul(inv(s*identity - A), B) for s in mu_values]), D_b)\n",
    "    W_exact = np.matmul(np.hstack([(np.matmul(np.conjugate(inv(s*identity - A).T), C.T)) for s in mu_values]), D_c)\n",
    "\n",
    "    if numpy is True:\n",
    "        V = V_exact\n",
    "        W = W_exact\n",
    "    else: # transposed version needed for Gram process\n",
    "        space = NumpyVectorSpace(V_exact.shape[0])\n",
    "        V = space.make_array(V_exact.T)\n",
    "        W = space.make_array(W_exact.T)\n",
    "    return [V, W]"
   ]
  },
  {
   "cell_type": "code",
   "execution_count": 7,
   "metadata": {},
   "outputs": [],
   "source": [
    "def error(V_exact, W_exact, V, W, norm):\n",
    "\n",
    "    # NumPy convertions\n",
    "    V_exact = V_exact if isinstance(V_exact, np.ndarray) else V_exact.to_numpy()\n",
    "    W_exact = W_exact if isinstance(W_exact, np.ndarray) else W_exact.to_numpy()\n",
    "    V = V if isinstance(V, np.ndarray) else V.to_numpy()\n",
    "    W = W if isinstance(W, np.ndarray) else W.to_numpy()\n",
    "\n",
    "    error_V = np.linalg.norm(V_exact - V, norm)\n",
    "    error_W = np.linalg.norm(W_exact - W, norm)\n",
    "\n",
    "    print(f'V_exact - V is {error_V} and W_exact - W is {error_W}')"
   ]
  },
  {
   "cell_type": "code",
   "execution_count": 8,
   "metadata": {},
   "outputs": [],
   "source": [
    "# Example\n",
    "\n",
    "from pymor.models.examples import penzl_example\n",
    "\n",
    "penzl = penzl_example()\n",
    "\n",
    "A = penzl.A\n",
    "B = penzl.B\n",
    "C = penzl.C\n",
    "\n",
    "[model_V, model_W] = MatrixModel(A, B, C)\n",
    "\n",
    "# Define a parameter space\n",
    "parameter_space = model_V.parameters.space(0.01, 10.)\n",
    "\n",
    "# Define a training set\n",
    "training_set = parameter_space.sample_randomly(100)\n",
    "\n",
    "# Define interpolation data\n",
    "b = np.random.rand(100)\n",
    "c = np.random.rand(100)\n",
    "mu = parameter_space.sample_randomly(100)"
   ]
  },
  {
   "cell_type": "code",
   "execution_count": 9,
   "metadata": {},
   "outputs": [
    {
     "data": {
      "application/vnd.jupyter.widget-view+json": {
       "model_id": "c8b56bc579974220a03a8fc2e9c6e3da",
       "version_major": 2,
       "version_minor": 0
      },
      "text/plain": [
       "Accordion(children=(HTML(value='', layout=Layout(height='16em', width='100%')),), titles=('Log Output',))"
      ]
     },
     "metadata": {},
     "output_type": "display_data"
    }
   ],
   "source": [
    "# Create POD-Galerkin RB reductors\n",
    "[pod_rom_V, pod_reductor_V, pod_rom_W, pod_reductor_W] = MatrixReductor(model_V, model_W, training_set, reduced_order_V = 100, reduced_order_W = 100)"
   ]
  },
  {
   "cell_type": "code",
   "execution_count": 10,
   "metadata": {},
   "outputs": [],
   "source": [
    "# Get projection matrices before Gram process\n",
    "[V, W] = ProjectionMatrices(pod_rom_V, pod_reductor_V, pod_rom_W, pod_reductor_W, mu, b, c, numpy = False)"
   ]
  },
  {
   "cell_type": "code",
   "execution_count": 11,
   "metadata": {},
   "outputs": [],
   "source": [
    "# Get exact values for projection matrices before Gram process\n",
    "[V_exact, W_exact] = exact(A, B, C, mu, b, c, numpy = False)"
   ]
  },
  {
   "cell_type": "code",
   "execution_count": 12,
   "metadata": {},
   "outputs": [
    {
     "data": {
      "application/vnd.jupyter.widget-view+json": {
       "model_id": "2a9039602de6422e8a476640795e16eb",
       "version_major": 2,
       "version_minor": 0
      },
      "text/plain": [
       "Accordion(children=(HTML(value='', layout=Layout(height='16em', width='100%')),), titles=('Log Output',))"
      ]
     },
     "metadata": {},
     "output_type": "display_data"
    }
   ],
   "source": [
    "# Get projection matrices after Gram process\n",
    "[V_g, W_g] = Gram(V, W, biort = False, numpy = False)\n",
    "[V_gbi, W_gbi] = Gram(V, W, biort = True, numpy = False)"
   ]
  },
  {
   "cell_type": "code",
   "execution_count": 13,
   "metadata": {},
   "outputs": [
    {
     "data": {
      "application/vnd.jupyter.widget-view+json": {
       "model_id": "04fc6c411b394a30bcd442d23f6d4374",
       "version_major": 2,
       "version_minor": 0
      },
      "text/plain": [
       "Accordion(children=(HTML(value='', layout=Layout(height='16em', width='100%')),), titles=('Log Output',))"
      ]
     },
     "metadata": {},
     "output_type": "display_data"
    }
   ],
   "source": [
    "# Get exact projection matrices after Gram process\n",
    "[V_exact_g, W_exact_g] = Gram(V_exact, W_exact, biort = False, numpy = False)\n",
    "[V_exact_gbi, W_exact_gbi] = Gram(V_exact, W_exact, biort = True, numpy = False)"
   ]
  },
  {
   "cell_type": "code",
   "execution_count": 21,
   "metadata": {},
   "outputs": [
    {
     "name": "stdout",
     "output_type": "stream",
     "text": [
      "V_exact - V is 1.6655188513070573e-14 and W_exact - W is 2.319097604924769e-14\n",
      "V_exact - V is 30.83508408465606 and W_exact - W is 30.1557504081609\n",
      "V_exact - V is 23311.6444169422 and W_exact - W is 30.1557504081609\n"
     ]
    }
   ],
   "source": [
    "pod_error = error(V_exact, W_exact, V, W, np.inf)\n",
    "pod_error_g = error(V_exact_g, W_exact_g, V_g, W_g, np.inf)\n",
    "pod_error_gbi = error(V_exact_gbi, W_exact_gbi, V_gbi, W_gbi, np.inf)"
   ]
  },
  {
   "cell_type": "code",
   "execution_count": 34,
   "metadata": {},
   "outputs": [
    {
     "data": {
      "text/plain": [
       "np.int64(0)"
      ]
     },
     "execution_count": 34,
     "metadata": {},
     "output_type": "execute_result"
    }
   ],
   "source": [
    "np.sum((V_exact_gbi.to_numpy().T - V_gbi.to_numpy().T) >=240)"
   ]
  }
 ],
 "metadata": {
  "kernelspec": {
   "display_name": "mor_lecture",
   "language": "python",
   "name": "python3"
  },
  "language_info": {
   "codemirror_mode": {
    "name": "ipython",
    "version": 3
   },
   "file_extension": ".py",
   "mimetype": "text/x-python",
   "name": "python",
   "nbconvert_exporter": "python",
   "pygments_lexer": "ipython3",
   "version": "3.12.7"
  }
 },
 "nbformat": 4,
 "nbformat_minor": 2
}
