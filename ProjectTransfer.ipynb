{
 "cells": [
  {
   "cell_type": "markdown",
   "metadata": {},
   "source": [
    "The transfer function of the causal LTI system with a realization $(A, B, C, D)$ is given by\n",
    "\\begin{equation*}\n",
    "    H(s) = C(sI_{n} - A)^{-1}B.\n",
    "\\end{equation*}\n",
    "Notice that $H(s) = Cv(s)$, where $v(s)$ is the solution of a parametrized linear coercive model\n",
    "\\begin{equation}\n",
    "    a(v, w; s) = l(w),\n",
    "\\end{equation}\n",
    "where $a(v, w; s) = w^{*}(sI_{n} - A)v$ and $l(w) = w^{*}B$. \n",
    "\n",
    "We replace the matrix computation of $(sI_{n} - A)^{-1}B$ with a parametrized model (1), and the transfer function $H(s)$ is the output of the model, with $C$ serving as the output operator."
   ]
  },
  {
   "cell_type": "code",
   "execution_count": 1,
   "metadata": {},
   "outputs": [],
   "source": [
    "import numpy as np\n",
    "import matplotlib.pyplot as plt\n",
    "\n",
    "from pymor.basic import *\n",
    "from pymor.algorithms.to_matrix import to_matrix\n",
    "from pymor.vectorarrays.numpy import NumpyVectorSpace\n",
    "from pymor.operators.numpy import NumpyMatrixOperator\n",
    "from pymor.operators.constructions import LincombOperator\n",
    "from pymor.parameters.functionals import ProjectionParameterFunctional"
   ]
  },
  {
   "cell_type": "code",
   "execution_count": 2,
   "metadata": {},
   "outputs": [],
   "source": [
    "def TF_exact(A,B,C,s):\n",
    "\n",
    "    # NumPy convertions\n",
    "    A = A if isinstance(A, np.ndarray) else to_matrix(A).toarray()\n",
    "    B = B if isinstance(B, np.ndarray) else to_matrix(B)\n",
    "    C = C if isinstance(C, np.ndarray) else to_matrix(C)\n",
    "    \n",
    "    tf = (C@np.linalg.inv(s*np.eye(A.shape[0]) - A)@B)\n",
    "\n",
    "    return tf"
   ]
  },
  {
   "cell_type": "code",
   "execution_count": 3,
   "metadata": {},
   "outputs": [],
   "source": [
    "def MatrixModel(A, B, C):\n",
    "\n",
    "    '''\n",
    "    Description\n",
    "    -----------\n",
    "    This function creates a StationaryModel for the following linear coercive model derived from the given three matrices A, B, and C:\n",
    "    \n",
    "        a(v, w; s) = w*(sI_n - A)v and l(w) = w*B.\n",
    "\n",
    "    Parameters\n",
    "    ----------\n",
    "    A: NumpyMatrixOperator or numpy.ndarray\n",
    "        A.shape = (n, n) or to_matrix(A).shape = (n, n)\n",
    "    B: NumpyMatrixOperator or numpy.ndarray\n",
    "        A.shape = (n, 1) or to_matrix(B).shape = (n, 1)\n",
    "    C: NumpyMatrixOperator or numpy.ndarray\n",
    "        A.shape = (1, n) or to_matrix(C).shape = (1, n)\n",
    "\n",
    "    Return\n",
    "    ------\n",
    "    model_TF: StationaryModel\n",
    "    '''\n",
    "\n",
    "    # Define operators (and also a dimension of a model)\n",
    "    if isinstance(A, np.ndarray):\n",
    "        dim = A.shape[0]\n",
    "        A_op = NumpyMatrixOperator(A)\n",
    "    else:\n",
    "        dim = to_matrix(A).shape[0]\n",
    "        A_op = A\n",
    "\n",
    "    if isinstance(B, np.ndarray):\n",
    "        B_op = NumpyMatrixOperator(B) \n",
    "    else:\n",
    "        B_op = B  \n",
    "\n",
    "    if isinstance(C, np.ndarray):\n",
    "        C_op = NumpyMatrixOperator(C)  \n",
    "    else:\n",
    "        C_op = C\n",
    "\n",
    "    I_op = NumpyMatrixOperator(np.eye(dim))\n",
    "    \n",
    "    # Define parameter functional for 's'\n",
    "    s_param = ProjectionParameterFunctional('s', 1)\n",
    "\n",
    "    # Define bilinear form a(v, w; s) = w*(sI - A)v\n",
    "    a_op_1 = LincombOperator([I_op, A_op], [s_param, -1])\n",
    "\n",
    "    # Define linear functional l(w) = w^*B\n",
    "    l_op_1 = B_op\n",
    "\n",
    "    # Define the StationaryModels\n",
    "    model_TF = StationaryModel(operator=a_op_1, rhs=l_op_1, output_functional = C_op)\n",
    "\n",
    "    return model_TF\n"
   ]
  },
  {
   "cell_type": "code",
   "execution_count": 60,
   "metadata": {},
   "outputs": [
    {
     "data": {
      "text/plain": [
       "StationaryModel(\n",
       "    LincombOperator(\n",
       "        (NumpyMatrixOperator(<20x20 dense>), NumpyMatrixOperator(<20x20 dense>)),\n",
       "        (ProjectionParameterFunctional('s', index=0), -1)),\n",
       "    NumpyMatrixOperator(<20x1 dense>),\n",
       "    output_functional=NumpyMatrixOperator(<1x20 dense>),\n",
       "    products={},\n",
       "    output_d_mu_use_adjoint=True)"
      ]
     },
     "execution_count": 60,
     "metadata": {},
     "output_type": "execute_result"
    }
   ],
   "source": [
    "# StationaryModel constructed using random numpy arrays\n",
    "matrixA = np.random.rand(20, 20)\n",
    "matrixB = np.random.rand(20).reshape(20,1)\n",
    "matrixC = np.random.rand(20).reshape(1,20)\n",
    "\n",
    "# StationaryModel\n",
    "model_TF = MatrixModel(A = matrixA, B = matrixB, C = matrixC)\n",
    "model_TF"
   ]
  },
  {
   "cell_type": "code",
   "execution_count": null,
   "metadata": {},
   "outputs": [
    {
     "data": {
      "application/vnd.jupyter.widget-view+json": {
       "model_id": "0d8ca952d5f84d6e967f286a3b9f1808",
       "version_major": 2,
       "version_minor": 0
      },
      "text/plain": [
       "Accordion(children=(HTML(value='', layout=Layout(height='16em', width='100%')),), titles=('Log Output',))"
      ]
     },
     "metadata": {},
     "output_type": "display_data"
    },
    {
     "name": "stdout",
     "output_type": "stream",
     "text": [
      "The output of the model is (-0.31345947757878984-0.1010464452723012j).\n",
      "The exact value of a transfer function H(1.4+2j) is (-0.31345947757879-0.10104644527230121j).\n",
      "|H(s) - H_m(s)| is 1.6711069443220836e-16.\n"
     ]
    }
   ],
   "source": [
    "# Set a value for evaluation\n",
    "parameter = 1.4 + 2*1j  # s = 1.4 + 2i\n",
    "\n",
    "# Solve the model - (sI_n - A)^{-1}B\n",
    "solution = model_TF.solve(parameter).to_numpy()\n",
    "\n",
    "# Get the output - C(sI_n - A)^{-1}B\n",
    "output = model_TF.output(parameter)\n",
    "\n",
    "# Exact transfer function\n",
    "exact = TF_exact(matrixA, matrixB, matrixC, parameter)\n",
    "\n",
    "# A comparison between the model's result and the exact computation\n",
    "print(f'The output of the model is {output[0,0]}.')\n",
    "print(f'The exact value of a transfer function H{parameter} is {exact[0,0]}.')\n",
    "print(f'|H(s) - H_m(s)| is {abs(exact - output)[0,0]}.')"
   ]
  },
  {
   "cell_type": "code",
   "execution_count": 33,
   "metadata": {},
   "outputs": [
    {
     "data": {
      "text/plain": [
       "StationaryModel(\n",
       "    LincombOperator(\n",
       "        (NumpyMatrixOperator(<1006x1006 dense>), NumpyMatrixOperator(<1006x1006 sparse, 1012 nnz>)),\n",
       "        (ProjectionParameterFunctional('s', index=0), -1)),\n",
       "    NumpyMatrixOperator(<1006x1 dense>),\n",
       "    output_functional=NumpyMatrixOperator(<1x1006 dense>),\n",
       "    products={},\n",
       "    output_d_mu_use_adjoint=True)"
      ]
     },
     "execution_count": 33,
     "metadata": {},
     "output_type": "execute_result"
    }
   ],
   "source": [
    "# StationaryModel constructed using matrices obtained from penzl example\n",
    "from pymor.models.examples import penzl_example\n",
    "\n",
    "penzl = penzl_example()\n",
    "\n",
    "model_penzl = MatrixModel(penzl.A, penzl.B, penzl.C)\n",
    "model_penzl"
   ]
  },
  {
   "cell_type": "code",
   "execution_count": null,
   "metadata": {},
   "outputs": [
    {
     "data": {
      "application/vnd.jupyter.widget-view+json": {
       "model_id": "128bbb6f39fa44bbae8eb9ec51aef516",
       "version_major": 2,
       "version_minor": 0
      },
      "text/plain": [
       "Accordion(children=(HTML(value='', layout=Layout(height='16em', width='100%')),), titles=('Log Output',))"
      ]
     },
     "metadata": {},
     "output_type": "display_data"
    },
    {
     "name": "stdout",
     "output_type": "stream",
     "text": [
      "The output of the model is (4.959665384975282-1.4507365255117162j).\n",
      "The exact value of a transfer function H(-1+7j) is (4.959665384975283-1.4507365255117162j).\n",
      "|H(s) - H_m(s)| is 8.881784197001252e-16.\n"
     ]
    }
   ],
   "source": [
    "# Set a value for evaluation\n",
    "parameter = -1 + 7*1j  # s = - 1 + 7i\n",
    "\n",
    "# Solve the model - (sI_n - A)^{-1}B\n",
    "solution = model_penzl.solve(parameter).to_numpy()\n",
    "\n",
    "# Get the output - C(sI_n - A)^{-1}B\n",
    "output = model_penzl.output(parameter)\n",
    "\n",
    "# Exact transfer function\n",
    "exact = TF_exact(penzl.A, penzl.B, penzl.C, parameter)\n",
    "\n",
    "# A comparison between the model's result and the exact computation\n",
    "print(f'The output of the model is {output[0,0]}.')\n",
    "print(f'The exact value of a transfer function H{parameter} is {exact[0,0]}.')\n",
    "print(f'|H(s) - H_m(s)| is {abs(exact - output)[0,0]}.')"
   ]
  },
  {
   "cell_type": "markdown",
   "metadata": {},
   "source": [
    "## POD-Galerkin RB method\n",
    "\n",
    "Let $A \\in \\mathbb{R}^{n \\times n}$, $B \\in \\mathbb{R}^{n \\times 1}$, and $C \\in \\mathbb{R}^{1 \\times n}$, and let $\\mathcal{P}$ be the set of admissible parameters for the linear coercive FOM described above. The proposed approach is to approximate the transfer function over the parameter space $\\mathcal{P}$ using ROM evaluations instead of exact matrix computations. For model reduction, we employ the POD-Galerkin RB method. It is important to note that this approximation is effective if the parameter space $\\mathcal{P}$ is known, as the snapshot matrix $S$, whose column entries are snapshot solutions ($S[:,i] = (s_{i}I - A)^{-1}B$), is constructed based on parameters within the given parameter space $\\mathcal{P}$. \n",
    "\n",
    "To demonstrate the proposed method, we will use `penzl_example` from `pymor.models.examples`."
   ]
  },
  {
   "cell_type": "code",
   "execution_count": 36,
   "metadata": {},
   "outputs": [],
   "source": [
    "from pymor.models.examples import penzl_example\n",
    "\n",
    "penzl = penzl_example()\n",
    "model_penzl = MatrixModel(penzl.A, penzl.B, penzl.C)"
   ]
  },
  {
   "cell_type": "code",
   "execution_count": 37,
   "metadata": {},
   "outputs": [
    {
     "data": {
      "application/vnd.jupyter.widget-view+json": {
       "model_id": "50fb37dab69f4ff1b8f28df523e2ebd9",
       "version_major": 2,
       "version_minor": 0
      },
      "text/plain": [
       "Accordion(children=(HTML(value='', layout=Layout(height='16em', width='100%')),), titles=('Log Output',))"
      ]
     },
     "metadata": {},
     "output_type": "display_data"
    },
    {
     "name": "stdout",
     "output_type": "stream",
     "text": [
      "An 50 by 1006 matrix (obtained through pyMOR) is \n",
      " [[ 0.10791712 -0.09056608  0.05208595 ...  0.00099429  0.0009933\n",
      "   0.00099232]\n",
      " [ 0.10508859 -0.09433111  0.05131127 ...  0.00099761  0.00099662\n",
      "   0.00099562]\n",
      " [ 0.10858926 -0.08958912  0.05227672 ...  0.00099346  0.00099247\n",
      "   0.00099149]\n",
      " ...\n",
      " [ 0.1037334  -0.09596436  0.05095332 ...  0.00099911  0.00099811\n",
      "   0.00099712]\n",
      " [ 0.10717139 -0.09161048  0.05187756 ...  0.0009952   0.00099421\n",
      "   0.00099322]\n",
      " [ 0.10234687 -0.0975374   0.05059421 ...  0.00100059  0.00099959\n",
      "   0.0009986 ]]\n",
      "An 1006 by 50 snapshot matrix is \n",
      " [[ 0.10791712  0.10508859  0.10858926 ...  0.1037334   0.10717139\n",
      "   0.10234687]\n",
      " [-0.09056608 -0.09433111 -0.08958912 ... -0.09596436 -0.09161048\n",
      "  -0.0975374 ]\n",
      " [ 0.05208595  0.05131127  0.05227672 ...  0.05095332  0.05187756\n",
      "   0.05059421]\n",
      " ...\n",
      " [ 0.00099429  0.00099761  0.00099346 ...  0.00099911  0.0009952\n",
      "   0.00100059]\n",
      " [ 0.0009933   0.00099662  0.00099247 ...  0.00099811  0.00099421\n",
      "   0.00099959]\n",
      " [ 0.00099232  0.00099562  0.00099149 ...  0.00099712  0.00099322\n",
      "   0.0009986 ]]\n"
     ]
    }
   ],
   "source": [
    "# Define a parameter space - P\n",
    "parameter_space = model_penzl.parameters.space(0.01, 10.)\n",
    "\n",
    "# Define a training set - snapshot parameters\n",
    "training_set = parameter_space.sample_randomly(50)\n",
    "\n",
    "# Compute FOM solutions for the parameters in the training set\n",
    "solution_snapshots = model_penzl.solution_space.empty()\n",
    "for s in training_set:\n",
    "    solution_snapshots.append(model_penzl.solve(s))\n",
    "\n",
    "# Snapshot matrix S - pyMOR framework\n",
    "print(f'An {solution_snapshots.impl._array.shape[0]} by {solution_snapshots.impl._array.shape[1]} matrix (obtained through pyMOR) is \\n {solution_snapshots}')\n",
    "\n",
    "# Snapshot matrix S\n",
    "snapshot_matrix = solution_snapshots.to_numpy().T\n",
    "print(f'An {snapshot_matrix.shape[0]} by {snapshot_matrix.shape[1]} snapshot matrix is \\n {snapshot_matrix}')"
   ]
  },
  {
   "cell_type": "code",
   "execution_count": 40,
   "metadata": {},
   "outputs": [
    {
     "data": {
      "application/vnd.jupyter.widget-view+json": {
       "model_id": "ada2296fbf2e45b08b66f2d326177528",
       "version_major": 2,
       "version_minor": 0
      },
      "text/plain": [
       "Accordion(children=(HTML(value='', layout=Layout(height='16em', width='100%')),), titles=('Log Output',))"
      ]
     },
     "metadata": {},
     "output_type": "display_data"
    },
    {
     "name": "stdout",
     "output_type": "stream",
     "text": [
      "The reduced basis (containing the first 30 left singular vectors (POD modes) of the snapshot matrix as its rows) is \n",
      " [[-1.96960958e-01  1.76303271e-01 -9.61792257e-02 ... -1.86879987e-03\n",
      "  -1.86693764e-03 -1.86507912e-03]\n",
      " [-3.13403480e-01  2.35894057e-01 -1.48455244e-01 ... -2.75276641e-03\n",
      "  -2.75004675e-03 -2.74733246e-03]\n",
      " [-3.61989879e-01  1.64982722e-01 -1.61815898e-01 ... -2.68189754e-03\n",
      "  -2.67930825e-03 -2.67672395e-03]\n",
      " ...\n",
      " [-6.99421942e-02  1.31328439e-01 -1.09249505e-01 ... -1.68718819e-03\n",
      "  -1.67719213e-03 -1.68667427e-03]\n",
      " [ 1.20546689e-01 -6.45382791e-02 -9.14894407e-02 ...  1.16475010e-03\n",
      "   6.88382861e-04  1.38576790e-03]\n",
      " [ 2.48807940e-02 -1.61818000e-02  6.01124686e-02 ...  1.34870324e-03\n",
      "  -7.81436634e-05 -4.48269249e-03]]\n"
     ]
    }
   ],
   "source": [
    "# Construction of the reduced basis V_N using the pyMOR framework\n",
    "\n",
    "# Define the total number of modes\n",
    "modes = 30\n",
    "\n",
    "# Find POD basis\n",
    "pod_basis, pod_singular_values = pod(solution_snapshots, atol = 0, rtol = 0, modes = modes)\n",
    "\n",
    "print(f'The reduced basis (containing the first {modes} left singular vectors (POD modes) of the snapshot matrix as its rows) is \\n {pod_basis}') # Caution: POD modes are represented by its rows, not columns."
   ]
  },
  {
   "cell_type": "code",
   "execution_count": 41,
   "metadata": {},
   "outputs": [
    {
     "name": "stdout",
     "output_type": "stream",
     "text": [
      "The reduced basis (containing the first 20 left singular vectors (POD modes) of the snapshot matrix as its columns) is \n",
      " [[-0.19696096 -0.31340348  0.36198988 ... -0.00431519 -0.00049817\n",
      "   0.00223207]\n",
      " [ 0.17630327  0.23589406 -0.16498272 ... -0.0379153  -0.02853059\n",
      "   0.00898774]\n",
      " [-0.09617923 -0.14845524  0.1618159  ...  0.36862449  0.29847176\n",
      "  -0.06855028]\n",
      " ...\n",
      " [-0.0018688  -0.00275277  0.0026819  ... -0.0157844   0.00189082\n",
      "  -0.00276168]\n",
      " [-0.00186694 -0.00275005  0.00267931 ... -0.00445315 -0.0062538\n",
      "  -0.00233055]\n",
      " [-0.00186508 -0.00274733  0.00267672 ...  0.00197302 -0.00953304\n",
      "   0.00471574]]\n"
     ]
    }
   ],
   "source": [
    "# Construction of the reduced basis V_N using the NumPy framework\n",
    "\n",
    "# Find the Singular Value Decomposition (SVD) of the snapshot matrix -> S = UΣV^H\n",
    "U, D, Vt = np.linalg.svd(snapshot_matrix, full_matrices = True) \n",
    "\n",
    "# Define the total number of modes\n",
    "modes_numpy = 20 \n",
    "\n",
    "if modes_numpy > min(snapshot_matrix.shape):\n",
    "    raise ValueError(\"modes cannot exceed the rank of the snapshot matrix.\")\n",
    "\n",
    "# Find POD basis (reduced basis)\n",
    "pod_basis_numpy = U[:,:modes_numpy]\n",
    "\n",
    "print(f'The reduced basis (containing the first {modes_numpy} left singular vectors (POD modes) of the snapshot matrix as its columns) is \\n {pod_basis_numpy}') # basis of the reduced space == reduced basis"
   ]
  },
  {
   "cell_type": "code",
   "execution_count": 42,
   "metadata": {},
   "outputs": [
    {
     "name": "stdout",
     "output_type": "stream",
     "text": [
      "The number of modes required to capture at least 99% of the energy is 2.\n"
     ]
    }
   ],
   "source": [
    "# Remark: Select the number of modes according to the energy criterion : NumPy framework\n",
    "\n",
    "'''\n",
    "The number of modes m should be chosen based on the energy criterion, which ensures that a sufficient \n",
    "portion of the system's total energy (or variance) is captured by the first m modes.\n",
    "'''\n",
    "\n",
    "cumulative_energy = np.cumsum(D**2) / np.sum(D**2)\n",
    "\n",
    "# Select the number of modes m to capture at least 99% of the energy\n",
    "threshold = 0.99  # 99% of the total energy\n",
    "m = np.argmax(cumulative_energy >= threshold) + 1\n",
    "\n",
    "print(f'The number of modes required to capture at least 99% of the energy is {m}.') "
   ]
  },
  {
   "cell_type": "code",
   "execution_count": 43,
   "metadata": {},
   "outputs": [
    {
     "data": {
      "application/vnd.jupyter.widget-view+json": {
       "model_id": "ea9100de6861457385537327c3252b31",
       "version_major": 2,
       "version_minor": 0
      },
      "text/plain": [
       "Accordion(children=(HTML(value='', layout=Layout(height='16em', width='100%')),), titles=('Log Output',))"
      ]
     },
     "metadata": {},
     "output_type": "display_data"
    },
    {
     "data": {
      "text/plain": [
       "StationaryModel(\n",
       "    LincombOperator(\n",
       "        (NumpyMatrixOperator(<16x16 dense>), NumpyMatrixOperator(<16x16 dense>)),\n",
       "        (ProjectionParameterFunctional('s', index=0), -1)),\n",
       "    NumpyMatrixOperator(<16x1 dense>),\n",
       "    output_functional=NumpyMatrixOperator(<1x16 dense>),\n",
       "    products={},\n",
       "    output_d_mu_use_adjoint=True,\n",
       "    name='StationaryModel_reduced')"
      ]
     },
     "execution_count": 43,
     "metadata": {},
     "output_type": "execute_result"
    }
   ],
   "source": [
    "from pymor.reductors.basic import StationaryRBReductor\n",
    "\n",
    "# Galerkin projection of a StationaryModel\n",
    "pod_reductor = StationaryRBReductor(model_penzl, RB = pod_basis) \n",
    "pod_rom = pod_reductor.reduce()\n",
    "\n",
    "# ROM constructed using the POD-Galerkin reduced basis method\n",
    "pod_rom"
   ]
  },
  {
   "cell_type": "code",
   "execution_count": null,
   "metadata": {},
   "outputs": [
    {
     "name": "stdout",
     "output_type": "stream",
     "text": [
      "The approximate value of the transfer function at (-1+7j) is (4.959665993246187-1.4507343978768104j).\n",
      "The exact value of a transfer function H(-1+7j) is (4.959665384975283-1.4507365255117162j).\n",
      "|H(s) - H_ROM(s)| is 2.2128768119636324e-06.\n"
     ]
    }
   ],
   "source": [
    "## Example\n",
    "\n",
    "# Set a value for evaluation\n",
    "eval_parameter = -1 + 7*1j  # s = -1 + 7j\n",
    "\n",
    "# Solve the reduced order model (ROM)\n",
    "ROM_solution = pod_rom.solve(eval_parameter)\n",
    "\n",
    "# Get the output of the reduced order model (ROM)\n",
    "ROM_output = pod_rom.output(eval_parameter)\n",
    "\n",
    "# Exact transfer function evaluated at a given value\n",
    "exact_TF = TF_exact(penzl.A, penzl.B, penzl.C, eval_parameter)\n",
    "\n",
    "# A comparison between the reduced model's result and the exact computation\n",
    "print(f'The approximate value of the transfer function at {eval_parameter} is {ROM_output[0,0]}.')\n",
    "print(f'The exact value of a transfer function H{eval_parameter} is {exact_TF[0,0]}.')\n",
    "print(f'|H(s) - H_ROM(s)| is {abs(exact_TF - ROM_output)[0,0]}.')"
   ]
  },
  {
   "cell_type": "markdown",
   "metadata": {},
   "source": [
    "### Offline-online decomposition for evaluating the transfer function\n",
    "\n",
    "We will summarize the steps outlined above and analyze the computational cost to demonstrate the efficiency of the proposed method."
   ]
  },
  {
   "cell_type": "code",
   "execution_count": 7,
   "metadata": {},
   "outputs": [],
   "source": [
    "# Offline phase: Construct the reduced-order model (ROM)\n",
    "\n",
    "def TFROM(model, rng, snap, rorder: int = None, atol: float = 0, rtol:float = 0):\n",
    "\n",
    "    '''\n",
    "    Description\n",
    "    -----------\n",
    "    This function returns the ROM required to obtain the approximated transfer function of a given LTI model using the POD-Galerkin reduced basis method.\n",
    "\n",
    "    Parameters\n",
    "    ----------\n",
    "    model: LTIModel (SISO)\n",
    "    rng: tuple\n",
    "        The range of the parameter space for the linear coercive FOM\n",
    "            Real-valued parameter space -> recommended choice\n",
    "                rng = (.,.)\n",
    "            Complex-valued parameter space -> It is advisable to use this method if you want to obtain the transfer function at a complex-valued parameter.\n",
    "                The first two values represent the range for the real part of the parameters, while the last two represent the range for the imaginary part.\n",
    "                rng = (.,.,.,.)\n",
    "    snap: int\n",
    "        Number of snapshots\n",
    "    rorder: int\n",
    "        The order of the reduced-order model (ROM)\n",
    "    rtol: float\n",
    "        Singular values of snapshot matrix smaller than this value multiplied by the largest singular value are ignored\n",
    "    atol: float\n",
    "        Singular values of snapshot matrix smaller than this value are ignored\n",
    "\n",
    "    Return\n",
    "    ------\n",
    "    TFReductor: StationaryModel\n",
    "    '''\n",
    "\n",
    "    assert isinstance(rng, tuple)\n",
    "\n",
    "    # StationaryModel constructed using matrices obtained from model matrices\n",
    "    model_TF = MatrixModel(A = model.A, B = model.B, C = model.C)\n",
    "\n",
    "    # Define a training set - snapshot parameters\n",
    "    if len(rng) == 2: # real-valued parameter space\n",
    "        training_set = np.random.uniform(low = rng[0], high = rng[1], size=(snap,)) \n",
    "    elif len(rng) == 4: # complex-valued parameter space\n",
    "        training_set = np.random.uniform(low = rng[0], high = rng[1], size=(snap,)) + 1j*np.random.uniform(low = rng[2], high = rng[3], size=(snap,))\n",
    "\n",
    "    # Compute FOM solutions for the parameters in the training set\n",
    "    snapshot_matrix = model_TF.solution_space.empty()\n",
    "    for s in training_set:\n",
    "        snapshot_matrix.append(model_TF.solve(s))\n",
    "    \n",
    "    # Find POD basis\n",
    "    pod_basis, _ = pod(snapshot_matrix, modes = rorder, atol = atol, rtol = rtol)\n",
    "\n",
    "    # Galerkin projection of a StationaryModel\n",
    "    pod_reductor = StationaryRBReductor(model_TF, RB = pod_basis) \n",
    "    TF_ROM = pod_reductor.reduce()\n",
    "\n",
    "    return TF_ROM"
   ]
  },
  {
   "cell_type": "code",
   "execution_count": 75,
   "metadata": {},
   "outputs": [
    {
     "data": {
      "application/vnd.jupyter.widget-view+json": {
       "model_id": "9d734f04bad44d8c8d37b3ebc7e8a149",
       "version_major": 2,
       "version_minor": 0
      },
      "text/plain": [
       "Accordion(children=(HTML(value='', layout=Layout(height='16em', width='100%')),), titles=('Log Output',))"
      ]
     },
     "metadata": {},
     "output_type": "display_data"
    }
   ],
   "source": [
    "## Offline phase: Construct the reduced-order model (ROM)\n",
    "\n",
    "import time\n",
    "from pymor.models.examples import penzl_example\n",
    "\n",
    "# Start timing\n",
    "start_time_offline = time.time()\n",
    "\n",
    "# Define the LTI model\n",
    "model = penzl_example()\n",
    "\n",
    "# Define the range for the parameter space\n",
    "rng = (0.1, 100.)\n",
    "\n",
    "# Define the number of snapshots to be used for the reduced order mode\n",
    "snap = 50\n",
    "\n",
    "# Get the reduced-order model (ROM)\n",
    "TF_ROM = TFROM(model, rng, snap)\n",
    "\n",
    "# End timing\n",
    "end_time_offline = time.time()\n",
    "\n",
    "# Compute the elapsed time\n",
    "elapsed_time_offline = end_time_offline - start_time_offline"
   ]
  },
  {
   "cell_type": "code",
   "execution_count": 83,
   "metadata": {},
   "outputs": [],
   "source": [
    "## Online phase: Evaluate the transfer function at a set of points using the reduced-order solution\n",
    "\n",
    "# Start timing\n",
    "start_time_online = time.time()\n",
    "\n",
    "# Define an evaluation set\n",
    "card_set = 200\n",
    "eval_set = np.random.uniform(low = 1, high = 70, size=(card_set,)) + 1j*np.random.uniform(low = 1, high = 70, size=(card_set,))\n",
    "\n",
    "# Evaluate the approximate transfer function at a set of evaluation points\n",
    "H_app = np.array([TF_ROM.output(s)[0, 0] for s in eval_set])\n",
    "\n",
    "# Start timing\n",
    "end_time_online = time.time()\n",
    "\n",
    "# Compute the elapsed time\n",
    "elapsed_time_online = end_time_online - start_time_online"
   ]
  },
  {
   "cell_type": "code",
   "execution_count": 84,
   "metadata": {},
   "outputs": [],
   "source": [
    "## Exact computation\n",
    "\n",
    "# Start timing\n",
    "start_time_exact = time.time()\n",
    "\n",
    "# Find the exact value of the transfer function at a set of evaluation points\n",
    "H_exact = np.array([TF_exact(model.A, model.B, model.C, i)[0, 0] for i in eval_set])\n",
    "\n",
    "# Start timing\n",
    "end_time_exact = time.time()\n",
    "\n",
    "# Compute the elapsed time\n",
    "elapsed_time_exact = end_time_exact - start_time_exact"
   ]
  },
  {
   "cell_type": "code",
   "execution_count": 87,
   "metadata": {},
   "outputs": [
    {
     "name": "stdout",
     "output_type": "stream",
     "text": [
      "max|H(s) - H_m(s)| is 1.120881343232347e-06.\n",
      "Offline phase total computation time: 3.9300935268 seconds.\n",
      "Online phase total computation time: 0.0983605385 seconds.\n",
      "Exact computation total time: 93.2348783016 seconds.\n"
     ]
    }
   ],
   "source": [
    "## Computational error and execution time analysis\n",
    "\n",
    "# Error analysis\n",
    "error = max(np.abs(H_exact - H_app))\n",
    "print(f'max|H(s) - H_m(s)| is {error}.')\n",
    "\n",
    "# Computational time analysis (execution time analysis)\n",
    "print(f'Offline phase total computation time: {elapsed_time_offline:.10f} seconds.')\n",
    "print(f'Online phase total computation time: {elapsed_time_online:.10f} seconds.')\n",
    "print(f'Exact computation total time: {elapsed_time_exact:.10f} seconds.')\n"
   ]
  },
  {
   "cell_type": "markdown",
   "metadata": {},
   "source": [
    "### Visualization of approximate transfer function values at different reduced orders"
   ]
  },
  {
   "cell_type": "code",
   "execution_count": 42,
   "metadata": {},
   "outputs": [
    {
     "data": {
      "application/vnd.jupyter.widget-view+json": {
       "model_id": "79ed591b0b0643f981b6bfc3fe188226",
       "version_major": 2,
       "version_minor": 0
      },
      "text/plain": [
       "Accordion(children=(HTML(value='', layout=Layout(height='16em', width='100%')),), titles=('Log Output',))"
      ]
     },
     "metadata": {},
     "output_type": "display_data"
    }
   ],
   "source": [
    "from pymor.models.examples import penzl_example\n",
    "\n",
    "# Define evaluation points\n",
    "s1 = 17.2 - 3.5*1j\n",
    "s2 = 6.1 + 49.85*1j\n",
    "\n",
    "# Define the LTI model\n",
    "model_penzl = penzl_example()\n",
    "\n",
    "# Define the range for the parameter space\n",
    "rng = (1, 150.)\n",
    "\n",
    "# Define the number of snapshots to be used for the reduced order model\n",
    "snap = 40\n",
    "\n",
    "# Evaluate the exact transfer function at the given values\n",
    "H_penzl_1 = TF_exact(model_penzl.A, model_penzl.B, model_penzl.C, s1)[0, 0] \n",
    "H_penzl_2 = TF_exact(model_penzl.A, model_penzl.B, model_penzl.C, s2)[0, 0] \n",
    "\n",
    "# Define the range of reduced orders to test and evaluate the approximate transfer function for each order\n",
    "range_plot = 20\n",
    "H_app_1 = np.array([TFROM(model = model_penzl, rng = rng, snap = snap, rorder = order).output(s1)[0, 0] for order in range(1, range_plot + 1)])\n",
    "H_app_2 = np.array([TFROM(model = model_penzl, rng = rng, snap = snap, rorder = order).output(s2)[0, 0] for order in range(1, range_plot + 1)])\n",
    "\n",
    "# Compute the absolute error between the exact transfer function and the approximate values\n",
    "error1 = np.abs(H_penzl_1 - H_app_1)\n",
    "error2 = np.abs(H_penzl_2 - H_app_2)"
   ]
  },
  {
   "cell_type": "code",
   "execution_count": 43,
   "metadata": {},
   "outputs": [
    {
     "data": {
      "image/png": "[encoded data removed]",
      "text/plain": [
       "<Figure size 1600x700 with 1 Axes>"
      ]
     },
     "metadata": {},
     "output_type": "display_data"
    }
   ],
   "source": [
    "# Error norm plot\n",
    "fig, ax = plt.subplots(figsize=(16, 7), dpi=100)\n",
    "ax.semilogy(np.arange(1, range_plot + 1), error1, color='red', lw = 0.8, marker = 'x', label = s1)\n",
    "ax.semilogy(np.arange(1, range_plot + 1), error2, color='blue', lw = 0.8, marker = 'x', label = s2)\n",
    "ax.set_title(\"Error norms\")\n",
    "ax.set_xlabel(\"Reduced order\")\n",
    "ax.set_ylabel(\"Absolute error norm (log scale)\")\n",
    "ax.legend()\n",
    "\n",
    "# Show the plot\n",
    "plt.show()"
   ]
  }
 ],
 "metadata": {
  "kernelspec": {
   "display_name": "mor_lecture",
   "language": "python",
   "name": "python3"
  },
  "language_info": {
   "codemirror_mode": {
    "name": "ipython",
    "version": 3
   },
   "file_extension": ".py",
   "mimetype": "text/x-python",
   "name": "python",
   "nbconvert_exporter": "python",
   "pygments_lexer": "ipython3",
   "version": "3.12.7"
  }
 },
 "nbformat": 4,
 "nbformat_minor": 2
}
