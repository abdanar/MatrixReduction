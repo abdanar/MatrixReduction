{
 "cells": [
  {
   "cell_type": "markdown",
   "metadata": {},
   "source": [
    "The transfer function of the causal LTI system with a realization $(A, B, C, D)$ is given by\n",
    "\\begin{equation*}\n",
    "    H(s) = C(sI_{n} - A)^{-1}B.\n",
    "\\end{equation*}\n",
    "Notice that $H(s) = Cv(s)$, where $v(s)$ is the solution of a parametrized linear coercive model\n",
    "\\begin{equation}\n",
    "    a(v, w; s) = l(w),\n",
    "\\end{equation}\n",
    "where $a(v, w; s) = w^{*}(sI_{n} - A)v$ and $l(w) = w^{*}B$. \n",
    "\n",
    "We replace the matrix computation of $(sI_{n} - A)^{-1}B$ with a parametrized model (1), and the transfer function $H(s)$ is the output of the model, with $C$ serving as the output operator."
   ]
  },
  {
   "cell_type": "code",
   "execution_count": 1,
   "metadata": {},
   "outputs": [],
   "source": [
    "import numpy as np\n",
    "import matplotlib.pyplot as plt\n",
    "\n",
    "from pymor.basic import *\n",
    "from pymor.algorithms.to_matrix import to_matrix\n",
    "from pymor.vectorarrays.numpy import NumpyVectorSpace\n",
    "from pymor.operators.numpy import NumpyMatrixOperator\n",
    "from pymor.operators.constructions import LincombOperator\n",
    "from pymor.parameters.functionals import ProjectionParameterFunctional"
   ]
  },
  {
   "cell_type": "code",
   "execution_count": 12,
   "metadata": {},
   "outputs": [],
   "source": [
    "def MatrixModel(A, B, C):\n",
    "\n",
    "    '''\n",
    "    Description\n",
    "    -----------\n",
    "    This function creates a StationaryModel for the following linear coercive model derived from the given three matrices A, B, and C:\n",
    "    \n",
    "        a(v, w; s) = w*(sI_n - A)v and l(w) = w*B.\n",
    "\n",
    "    Parameters\n",
    "    ----------\n",
    "    A: NumpyMatrixOperator or numpy.ndarray\n",
    "        A.shape = (n, n) or to_matrix(A).shape = (n, n)\n",
    "    B: NumpyMatrixOperator or numpy.ndarray\n",
    "        A.shape = (n, 1) or to_matrix(B).shape = (n, 1)\n",
    "    C: NumpyMatrixOperator or numpy.ndarray\n",
    "        A.shape = (1, n) or to_matrix(C).shape = (1, n)\n",
    "\n",
    "    Output\n",
    "    ------\n",
    "    model_TF: StationaryModel\n",
    "    '''\n",
    "\n",
    "    # Define operators (and also a dimension of a model)\n",
    "    if isinstance(A, np.ndarray):\n",
    "        dim = A.shape[0]\n",
    "        A_op = NumpyMatrixOperator(A)\n",
    "    else:\n",
    "        dim = to_matrix(A).shape[0]\n",
    "        A_op = A\n",
    "\n",
    "    if isinstance(B, np.ndarray):\n",
    "        B_op = NumpyMatrixOperator(B) \n",
    "    else:\n",
    "        B_op = B  \n",
    "\n",
    "    if isinstance(C, np.ndarray):\n",
    "        C_op = NumpyMatrixOperator(C)  \n",
    "    else:\n",
    "        C_op = C\n",
    "\n",
    "    I_op = NumpyMatrixOperator(np.eye(dim))\n",
    "    \n",
    "    # Define parameter functional for 's'\n",
    "    s_param = ProjectionParameterFunctional('s', 1)\n",
    "\n",
    "    # Define bilinear form a(v, w; s) = w*(sI - A)v\n",
    "    a_op_1 = LincombOperator([I_op, A_op], [s_param, -1])\n",
    "\n",
    "    # Define linear functional l(w) = w^*B\n",
    "    l_op_1 = B_op\n",
    "\n",
    "    # Define the StationaryModels\n",
    "    model_TF = StationaryModel(operator=a_op_1, rhs=l_op_1, output_functional = C_op)\n",
    "\n",
    "    return model_TF\n"
   ]
  },
  {
   "cell_type": "code",
   "execution_count": 32,
   "metadata": {},
   "outputs": [
    {
     "data": {
      "text/plain": [
       "StationaryModel(\n",
       "    LincombOperator(\n",
       "        (NumpyMatrixOperator(<20x20 dense>), NumpyMatrixOperator(<20x20 dense>)),\n",
       "        (ProjectionParameterFunctional('s', index=0), -1)),\n",
       "    NumpyMatrixOperator(<20x1 dense>),\n",
       "    output_functional=NumpyMatrixOperator(<1x20 dense>),\n",
       "    products={},\n",
       "    output_d_mu_use_adjoint=True)"
      ]
     },
     "execution_count": 32,
     "metadata": {},
     "output_type": "execute_result"
    }
   ],
   "source": [
    "# StationaryModel constructed using random numpy arrays\n",
    "np.random.seed(127)\n",
    "matrixA = np.random.rand(20, 20)\n",
    "matrixB = np.random.rand(20).reshape(20,1)\n",
    "matrixC = np.random.rand(20).reshape(1,20)\n",
    "\n",
    "# StationaryModel\n",
    "model_TF = MatrixModel(A = matrixA, B = matrixB, C = matrixC)\n",
    "model_TF"
   ]
  },
  {
   "cell_type": "code",
   "execution_count": 37,
   "metadata": {},
   "outputs": [
    {
     "data": {
      "application/vnd.jupyter.widget-view+json": {
       "model_id": "3062670734364ac1b3b9b7d1a9e31e50",
       "version_major": 2,
       "version_minor": 0
      },
      "text/plain": [
       "Accordion(children=(HTML(value='', layout=Layout(height='16em', width='100%')),), titles=('Log Output',))"
      ]
     },
     "metadata": {},
     "output_type": "display_data"
    },
    {
     "name": "stdout",
     "output_type": "stream",
     "text": [
      "The output of the model is (-0.5691965467381752-0.13555671118980517j).\n",
      "The exact value of a transfer function H(1.4+2j) is (-0.5691965467381752-0.135556711189805j).\n",
      "|H(s) - H_m(s)| is 1.6653345369377348e-16.\n"
     ]
    }
   ],
   "source": [
    "# Set parameter for evaluation\n",
    "parameter = {'s': 1.4 + 2*1j}  # s = 1.4 + 2i\n",
    "\n",
    "# Solve the model - (sI_n - A)^{-1}B\n",
    "solution = model_TF.solve(parameter).to_numpy()\n",
    "\n",
    "# Get the output - C(sI_n - A)^{-1}B\n",
    "output = model_TF.output(parameter)\n",
    "\n",
    "# Exact transfer function\n",
    "exact = (matrixC@np.linalg.inv(parameter['s']*np.eye(20) - matrixA)@matrixB)\n",
    "\n",
    "# A comparison between the model's result and the exact computation\n",
    "print(f'The output of the model is {output[0,0]}.')\n",
    "print(f'The exact value of a transfer function H{parameter[\"s\"]} is {exact[0,0]}.')\n",
    "print(f'|H(s) - H_m(s)| is {abs(exact - output)[0,0]}.')"
   ]
  },
  {
   "cell_type": "code",
   "execution_count": 38,
   "metadata": {},
   "outputs": [
    {
     "data": {
      "text/plain": [
       "StationaryModel(\n",
       "    LincombOperator(\n",
       "        (NumpyMatrixOperator(<1006x1006 dense>), NumpyMatrixOperator(<1006x1006 sparse, 1012 nnz>)),\n",
       "        (ProjectionParameterFunctional('s', index=0), -1)),\n",
       "    NumpyMatrixOperator(<1006x1 dense>),\n",
       "    output_functional=NumpyMatrixOperator(<1x1006 dense>),\n",
       "    products={},\n",
       "    output_d_mu_use_adjoint=True)"
      ]
     },
     "execution_count": 38,
     "metadata": {},
     "output_type": "execute_result"
    }
   ],
   "source": [
    "# StationaryModel constructed using matrices obtained from penzl example\n",
    "from pymor.models.examples import penzl_example\n",
    "\n",
    "penzl = penzl_example()\n",
    "\n",
    "model_penzl = MatrixModel(penzl.A, penzl.B, penzl.C)\n",
    "model_penzl"
   ]
  },
  {
   "cell_type": "code",
   "execution_count": 45,
   "metadata": {},
   "outputs": [
    {
     "data": {
      "application/vnd.jupyter.widget-view+json": {
       "model_id": "2f99d506864a48db95dbeba677e0d36c",
       "version_major": 2,
       "version_minor": 0
      },
      "text/plain": [
       "Accordion(children=(HTML(value='', layout=Layout(height='16em', width='100%')),), titles=('Log Output',))"
      ]
     },
     "metadata": {},
     "output_type": "display_data"
    },
    {
     "name": "stdout",
     "output_type": "stream",
     "text": [
      "The output of the model is (6.192665682271828-1.7662892159754267j).\n",
      "The exact value of a transfer function H(-1+2j) is (6.1926656822718265-1.7662892159754267j).\n",
      "|H(s) - H_m(s)| is 1.7763568394002505e-15.\n"
     ]
    }
   ],
   "source": [
    "# Set parameter for evaluation\n",
    "parameter = {'s': -1 + 2*1j}  # s = - 1 + 2i\n",
    "\n",
    "# Solve the model - (sI_n - A)^{-1}B\n",
    "solution = model_penzl.solve(parameter).to_numpy()\n",
    "\n",
    "# Get the output - C(sI_n - A)^{-1}B\n",
    "output = model_penzl.output(parameter)\n",
    "\n",
    "# Exact transfer function\n",
    "A = to_matrix(penzl.A).toarray()\n",
    "B = to_matrix(penzl.B)\n",
    "C = to_matrix(penzl.C)\n",
    "\n",
    "exact = (C@np.linalg.inv(parameter['s']*np.eye(penzl.order) - A)@B)\n",
    "\n",
    "# A comparison between the model's result and the exact computation\n",
    "print(f'The output of the model is {output[0,0]}.')\n",
    "print(f'The exact value of a transfer function H{parameter[\"s\"]} is {exact[0,0]}.')\n",
    "print(f'|H(s) - H_m(s)| is {abs(exact - output)[0,0]}.')"
   ]
  },
  {
   "cell_type": "markdown",
   "metadata": {},
   "source": [
    "### POD-Galerkin RB method\n",
    "\n",
    "As an example, we will use `penzl_example` from `pymor.models.examples` to construct a reduced basis."
   ]
  },
  {
   "cell_type": "code",
   "execution_count": 46,
   "metadata": {},
   "outputs": [],
   "source": [
    "from pymor.models.examples import penzl_example\n",
    "\n",
    "penzl = penzl_example()\n",
    "model_penzl = MatrixModel(penzl.A, penzl.B, penzl.C)"
   ]
  },
  {
   "cell_type": "code",
   "execution_count": 47,
   "metadata": {},
   "outputs": [
    {
     "data": {
      "application/vnd.jupyter.widget-view+json": {
       "model_id": "ef7252a210044545bf9cb5a99b1bcf32",
       "version_major": 2,
       "version_minor": 0
      },
      "text/plain": [
       "Accordion(children=(HTML(value='', layout=Layout(height='16em', width='100%')),), titles=('Log Output',))"
      ]
     },
     "metadata": {},
     "output_type": "display_data"
    },
    {
     "name": "stdout",
     "output_type": "stream",
     "text": [
      "An 1006 by 50 snapshot matrix is \n",
      " [[ 0.10791712  0.10508859  0.10858926 ...  0.1037334   0.10717139\n",
      "   0.10234687]\n",
      " [-0.09056608 -0.09433111 -0.08958912 ... -0.09596436 -0.09161048\n",
      "  -0.0975374 ]\n",
      " [ 0.05208595  0.05131127  0.05227672 ...  0.05095332  0.05187756\n",
      "   0.05059421]\n",
      " ...\n",
      " [ 0.00099429  0.00099761  0.00099346 ...  0.00099911  0.0009952\n",
      "   0.00100059]\n",
      " [ 0.0009933   0.00099662  0.00099247 ...  0.00099811  0.00099421\n",
      "   0.00099959]\n",
      " [ 0.00099232  0.00099562  0.00099149 ...  0.00099712  0.00099322\n",
      "   0.0009986 ]]\n"
     ]
    }
   ],
   "source": [
    "# Define a parameter space\n",
    "parameter_space = model_penzl.parameters.space(0.01, 10.)\n",
    "\n",
    "# Define a training set\n",
    "training_set = parameter_space.sample_randomly(50)\n",
    "\n",
    "# Compute FOM solutions for the parameters in the training set\n",
    "solution_snapshots = model_penzl.solution_space.empty()\n",
    "for s in training_set:\n",
    "    solution_snapshots.append(model_penzl.solve(s))\n",
    "\n",
    "# Snapshot matrix S\n",
    "snapshot_matrix = solution_snapshots.to_numpy().T\n",
    "print(f'An {snapshot_matrix.shape[0]} by {snapshot_matrix.shape[1]} snapshot matrix is \\n {snapshot_matrix}')"
   ]
  },
  {
   "cell_type": "code",
   "execution_count": 56,
   "metadata": {},
   "outputs": [
    {
     "name": "stdout",
     "output_type": "stream",
     "text": [
      "The reduced basis (containing the first 20 left singular vectors (POD modes) of the snapshot matrix as its columns) is \n",
      " [[-0.19696096 -0.31340348  0.36198988 ... -0.00431519 -0.00049817\n",
      "   0.00223207]\n",
      " [ 0.17630327  0.23589406 -0.16498272 ... -0.0379153  -0.02853059\n",
      "   0.00898774]\n",
      " [-0.09617923 -0.14845524  0.1618159  ...  0.36862449  0.29847176\n",
      "  -0.06855028]\n",
      " ...\n",
      " [-0.0018688  -0.00275277  0.0026819  ... -0.0157844   0.00189082\n",
      "  -0.00276168]\n",
      " [-0.00186694 -0.00275005  0.00267931 ... -0.00445315 -0.0062538\n",
      "  -0.00233055]\n",
      " [-0.00186508 -0.00274733  0.00267672 ...  0.00197302 -0.00953304\n",
      "   0.00471574]]\n"
     ]
    }
   ],
   "source": [
    "# Finding the Singular Value Decomposition (SVD) of the snapshot matrix -> S = UΣV^T\n",
    "U, D, Vt = np.linalg.svd(snapshot_matrix, full_matrices = True) \n",
    "# using 'pod_basis, pod_singular_values = pod(solution_snapshots)' gives incomplete result; that's why we don't use it here. \n",
    "\n",
    "# Activate below to automatically select the number of modes based on the energy criterion\n",
    "'''\n",
    "The number of modes m should be chosen based on the energy criterion, which ensures that a sufficient \n",
    "portion of the system's total energy (or variance) is captured by the first m modes.\n",
    "'''\n",
    "#cumulative_energy = np.cumsum(D**2) / np.sum(D**2)\n",
    "\n",
    "#Select the number of modes m to capture at least 95% of the energy\n",
    "#threshold = 0.95  # 95% of the total energy\n",
    "#m = np.argmax(cumulative_energy >= threshold) + 1\n",
    "\n",
    "m = 20 # this is also a reduction order\n",
    "\n",
    "if m > min(snapshot_matrix.shape):\n",
    "    raise ValueError(\"m cannot exceed the rank of the snapshot matrix.\")\n",
    "\n",
    "# The reduced basis (POD basis)\n",
    "pod_basis_numpy = U[:,:m]\n",
    "\n",
    "# Convert NumPy array into VectorArray \n",
    "space = NumpyVectorSpace(model_penzl.order)\n",
    "pod_basis = space.make_array(pod_basis_numpy.T) #This is actually transpose of POD-RB basis\n",
    "\n",
    "print(f'The reduced basis (containing the first {m} left singular vectors (POD modes) of the snapshot matrix as its columns) is \\n {pod_basis_numpy}')"
   ]
  },
  {
   "cell_type": "code",
   "execution_count": 57,
   "metadata": {},
   "outputs": [
    {
     "data": {
      "application/vnd.jupyter.widget-view+json": {
       "model_id": "76a8372652c645d48f7a6cb84d389111",
       "version_major": 2,
       "version_minor": 0
      },
      "text/plain": [
       "Accordion(children=(HTML(value='', layout=Layout(height='16em', width='100%')),), titles=('Log Output',))"
      ]
     },
     "metadata": {},
     "output_type": "display_data"
    },
    {
     "data": {
      "text/plain": [
       "StationaryModel(\n",
       "    LincombOperator(\n",
       "        (NumpyMatrixOperator(<20x20 dense>), NumpyMatrixOperator(<20x20 dense>)),\n",
       "        (ProjectionParameterFunctional('s', index=0), -1)),\n",
       "    NumpyMatrixOperator(<20x1 dense>),\n",
       "    output_functional=NumpyMatrixOperator(<1x20 dense>),\n",
       "    products={},\n",
       "    output_d_mu_use_adjoint=True,\n",
       "    name='StationaryModel_reduced')"
      ]
     },
     "execution_count": 57,
     "metadata": {},
     "output_type": "execute_result"
    }
   ],
   "source": [
    "from pymor.reductors.basic import StationaryRBReductor\n",
    "\n",
    "# POD-Galerkin RB method\n",
    "pod_reductor = StationaryRBReductor(model_penzl, RB = pod_basis) \n",
    "pod_rom = pod_reductor.reduce()\n",
    "pod_rom"
   ]
  }
 ],
 "metadata": {
  "kernelspec": {
   "display_name": "mor_lecture",
   "language": "python",
   "name": "python3"
  },
  "language_info": {
   "codemirror_mode": {
    "name": "ipython",
    "version": 3
   },
   "file_extension": ".py",
   "mimetype": "text/x-python",
   "name": "python",
   "nbconvert_exporter": "python",
   "pygments_lexer": "ipython3",
   "version": "3.12.7"
  }
 },
 "nbformat": 4,
 "nbformat_minor": 2
}
