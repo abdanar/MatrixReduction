{
 "cells": [
  {
   "cell_type": "markdown",
   "id": "f243fb99-810c-46f2-8d1c-419c8cecf606",
   "metadata": {},
   "source": [
    "The transfer function for the causal LTI system with a realization $(A, B, C, D)$ is given by\n",
    "\\begin{equation*}\n",
    "    H(s) = C(sI_{n} - A)^{-1}B.\n",
    "\\end{equation*}\n",
    "Notice that $H(s) = Cv(s)$, where $v(s)$ is the solution of a parametrized linear coercive model\n",
    "\\begin{equation}\n",
    "    a(v, w; s) = l(w),\n",
    "\\end{equation}\n",
    "where $a(v, w; s) = w^{*}(sI_{n} - A)v$ and $l(w) = w^{*}B$. In other words, we replace the matrix computation of $(sI_{n} - A)^{-1}B$ with a parametrized model (1). However, if one wants to apply this to the Iterative rational Krylov algorithm (IRKA), then the following matrix computations must be done to construct the projection matrices $V$ and $W$:\n",
    "\\begin{equation*}\n",
    "    (-\\mu_{i}I_{n} - A)^{-1}B\\hat{b}_{i}, \\quad \\text{and} \\quad (-\\mu_{i}I_{n} - A)^{-*}C^{T}\\hat{c}_{i} \\quad \\text{for } i = 1,\\ldots,r,\n",
    "\\end{equation*}\n",
    "where $-\\mu_{i}, \\hat{c}_{i}, \\hat{b}_{i}$ are some initial interpolation data and $0 < r \\leq n$ is the desired order of approximating ROM. So, we have decided to solve two parametrized linear coercive models to construct projection matrices $V$ and $W$:\n",
    "\\begin{equation}\n",
    "    a_{1}(v_{1}, w; s) = l_{1}(w) \\quad \\text{and} \\quad a_{2}(v_{2}, w; s) = l_{2}(w),\n",
    "\\end{equation}\n",
    "where $a_{1}(v_{1}, w; s) = w^{*}(sI_{n} - A)v_{1}$ and $l_{1}(w) = w^{*}B$, and $a_{2}(v_{2}, w; s) = w^{*}(sI_{n} - A)^{*}v_{2}$ and $l_{2}(w) = w^{*}C^{T}$, and solutions to these parametrized linear coercive models are\n",
    "\\begin{equation*}\n",
    "    v_{1}(s) = (sI_{n} - A)^{-1}B \\quad \\text{and} \\quad v_{2}(s) = (sI_{n} - A)^{-*}C^{T}.\n",
    "\\end{equation*}\n",
    "Therefore, knowing $v_{1}(\\mu_{i})$ and $v_{2}(\\mu_{i})$ for $i = 1, \\ldots, r$ will suffice for constructing the projection matrices $V$ and $W$. Also, note that these two FOMs are parameter-separable, i.e.,\n",
    "\\begin{equation*}\n",
    "    a_{1}(v_{1},w;s) = w^{*}(sI_{n} - A)v_{1} = sw^{*}I_{n}v_{1} - w^{*}Av_{1}  \\quad  a_{2}(v_{2},w;s) = w^{*}(sI_{n} - A)^{*}v_{2} = \\overline{s}w^{*}I_{n}v_{2} - w^{*}A^{*}v_{2}.\n",
    "\\end{equation*}"
   ]
  },
  {
   "cell_type": "code",
   "execution_count": 1,
   "id": "b2d1bcb5-cc0e-4fea-857a-a99f7cb1031c",
   "metadata": {},
   "outputs": [],
   "source": [
    "import numpy as np\n",
    "import matplotlib.pyplot as plt\n",
    "from numpy.linalg import inv\n",
    "from pymor.basic import *\n",
    "from pymor.models.basic import StationaryModel\n",
    "from pymor.operators.constructions import LincombOperator\n",
    "from pymor.operators.numpy import NumpyMatrixOperator\n",
    "from pymor.parameters.functionals import ProjectionParameterFunctional\n",
    "from pymor.vectorarrays.numpy import NumpyVectorSpace"
   ]
  },
  {
   "cell_type": "markdown",
   "id": "6592df60-f621-4eb5-a723-c180b2ba1879",
   "metadata": {},
   "source": [
    "### Constructing a stationary model\n",
    "Let us construct a stationary model of the following parametrized linear coercive model using `pyMOR`:\n",
    "\\begin{equation}\n",
    "    a(v, w; s) = l(w),\n",
    "\\end{equation}\n",
    "where $a(v, w; s) = w^{*}(sI_{n} - A)v$ and $l(w) = w^{*}B$."
   ]
  },
  {
   "cell_type": "code",
   "execution_count": 16,
   "id": "6e5a5d02-f4fb-4418-9e71-25a089a3ec0d",
   "metadata": {},
   "outputs": [],
   "source": [
    "def MatrixModel(A, B, dim: int):\n",
    "\n",
    "    '''\n",
    "    This function create a stationary model of the following linear coercive model derived for the given two matrices A and B:\n",
    "    \n",
    "        a(v, w; s) =w^{*}(sI_{n} - A)v and l(w) = w^{*}B.\n",
    "    '''\n",
    "    \n",
    "    # Define NumpyMatrixOperators\n",
    "    I_op = NumpyMatrixOperator(np.eye(dim), source_id='STATE', range_id='STATE')\n",
    "\n",
    "    if isinstance(A, np.ndarray) and isinstance(B, np.ndarray):\n",
    "        A_op = NumpyMatrixOperator(A)\n",
    "        B_op = NumpyMatrixOperator(B.reshape(-1, 1))\n",
    "    else:\n",
    "        A_op = A\n",
    "        B_op = B       \n",
    "\n",
    "    # Define parameter functional for 's'\n",
    "    s_param = ProjectionParameterFunctional('s', 1)\n",
    "\n",
    "    # Define bilinear form a(v, w; s) = w^* (sI - A)v\n",
    "    a_op = LincombOperator([I_op, A_op], [s_param, -1])\n",
    "\n",
    "    # Define linear functional l(w) = w^*B\n",
    "    l_op = B_op\n",
    "\n",
    "    # Define the StationaryModel\n",
    "    model = StationaryModel(operator = a_op, rhs = l_op)\n",
    "\n",
    "    return model"
   ]
  },
  {
   "cell_type": "markdown",
   "id": "b2815a64-3885-48f9-ba8c-ac4d582a96b2",
   "metadata": {},
   "source": [
    "### Examples\n",
    "Notice that to make this process more convenient, we provide two options for input matrices. If one has the matrices as `NumPy` arrays, they can import them directly without changing their type to work with `pyMOR`. Additionally, if one wants to input matrices from existing `pyMOR` models, this can also be done directly. To demonstrate this, we provide two examples: one with random matrices that we construct ourselves, and the other with matrices imported from the `penzl_example` in `pymor.models.examples`.\n"
   ]
  },
  {
   "cell_type": "code",
   "execution_count": 7,
   "id": "9a187f88-ab03-4c8b-af30-2cb5e9400190",
   "metadata": {},
   "outputs": [
    {
     "data": {
      "text/plain": [
       "StationaryModel(\n",
       "    LincombOperator(\n",
       "        (NumpyMatrixOperator(<20x20 dense>), NumpyMatrixOperator(<20x20 dense>)),\n",
       "        (ProjectionParameterFunctional('s', index=0), -1)),\n",
       "    NumpyMatrixOperator(<20x1 dense>),\n",
       "    output_functional=ZeroOperator(NumpyVectorSpace(0), NumpyVectorSpace(20)),\n",
       "    products={},\n",
       "    output_d_mu_use_adjoint=True)"
      ]
     },
     "execution_count": 7,
     "metadata": {},
     "output_type": "execute_result"
    }
   ],
   "source": [
    "# Stationary model constructed using random numpy arrays\n",
    "test_dim_random_model = 20\n",
    "\n",
    "# Randomly generated arrays\n",
    "np.random.seed(127)\n",
    "matrixA = np.random.rand(test_dim_random_model, test_dim_random_model)\n",
    "matrixB = B = np.random.rand(test_dim_random_model)\n",
    "\n",
    "model_numpy = MatrixModel(A = matrixA, B = matrixB, dim = test_dim_random_model)\n",
    "model_numpy"
   ]
  },
  {
   "cell_type": "markdown",
   "id": "e68220d7",
   "metadata": {},
   "source": [
    "The model setup in this way is equivalent to solving the matrices directly:"
   ]
  },
  {
   "cell_type": "code",
   "execution_count": 8,
   "id": "b936a0a6-c7ce-481f-acb3-2ab87e82799a",
   "metadata": {},
   "outputs": [
    {
     "data": {
      "application/vnd.jupyter.widget-view+json": {
       "model_id": "bdc64fbe61274dfca9ffc16f24a740fe",
       "version_major": 2,
       "version_minor": 0
      },
      "text/plain": [
       "Accordion(children=(HTML(value='', layout=Layout(height='16em', width='100%')),), titles=('Log Output',))"
      ]
     },
     "metadata": {},
     "output_type": "display_data"
    },
    {
     "name": "stdout",
     "output_type": "stream",
     "text": [
      "The solution to the linear coercive model is \n",
      " [[ 1.10896524  1.96032033  0.02339715  0.52739001 -0.35238441 -1.85189312\n",
      "  -0.11570617 -0.4575037   0.55493919 -0.96350068  1.01490125  0.05632634\n",
      "   0.23435721 -0.72291187  0.47195613 -1.1582535  -0.48791287  0.20426283\n",
      "  -0.56944887 -0.30429143]].\n",
      "The exact value of the matrix computation (1.4I - A)^{-1}B is \n",
      " [[ 1.10896524  1.96032033  0.02339715  0.52739001 -0.35238441 -1.85189312\n",
      "  -0.11570617 -0.4575037   0.55493919 -0.96350068  1.01490125  0.05632634\n",
      "   0.23435721 -0.72291187  0.47195613 -1.1582535  -0.48791287  0.20426283\n",
      "  -0.56944887 -0.30429143]].\n",
      "The L-infinity error is 2.6645352591003757e-15.\n"
     ]
    }
   ],
   "source": [
    "# Set parameter for evaluation\n",
    "parameter = {'s': 1.4}  # s = 1.4\n",
    "\n",
    "# Solve the model\n",
    "solution = model_numpy.solve(parameter).to_numpy()\n",
    "\n",
    "# Exact matrix computation\n",
    "exact = (inv(parameter['s']*np.eye(test_dim_random_model) - matrixA)@matrixB).reshape(1, test_dim_random_model)\n",
    "\n",
    "# A comparison between the model's result and the exact matrix computation\n",
    "print(f'The solution to the linear coercive model is \\n {solution}.')\n",
    "print(f'The exact value of the matrix computation ({parameter[\"s\"]}I - A)^{{-1}}B is \\n {exact}.')\n",
    "print(f'The L-infinity error is {np.max(abs(exact - solution))}.')"
   ]
  },
  {
   "cell_type": "markdown",
   "id": "e68f7bb3",
   "metadata": {},
   "source": [
    "From now on, we will work with the `penzl_example`, which is implemented in `pymor.model.examples`\n"
   ]
  },
  {
   "cell_type": "code",
   "execution_count": 17,
   "id": "6fedee36-5de9-41a0-b802-5df69b135ab7",
   "metadata": {
    "scrolled": true
   },
   "outputs": [
    {
     "data": {
      "text/plain": [
       "StationaryModel(\n",
       "    LincombOperator(\n",
       "        (NumpyMatrixOperator(<1006x1006 dense>, source_id='STATE', range_id='STATE'),\n",
       "         NumpyMatrixOperator(<1006x1006 sparse, 1012 nnz>, source_id='STATE', range_id='STATE')),\n",
       "        (ProjectionParameterFunctional('s', index=0), -1)),\n",
       "    NumpyMatrixOperator(<1006x1 dense>, range_id='STATE'),\n",
       "    output_functional=ZeroOperator(NumpyVectorSpace(0), NumpyVectorSpace(1006, id='STATE')),\n",
       "    products={},\n",
       "    output_d_mu_use_adjoint=True)"
      ]
     },
     "execution_count": 17,
     "metadata": {},
     "output_type": "execute_result"
    }
   ],
   "source": [
    "# Stationary model constructed using matrices obtained from penzl example\n",
    "from pymor.models.examples import penzl_example\n",
    "\n",
    "penzl = penzl_example()\n",
    "\n",
    "model_penzl = MatrixModel(penzl.A, penzl.B, dim = penzl.order)\n",
    "model_penzl"
   ]
  },
  {
   "cell_type": "markdown",
   "id": "defc3397",
   "metadata": {},
   "source": [
    "As we will be interested in complex values inputs, the following computations shows that the computations above are also possible using a complex valued parameter space\n"
   ]
  },
  {
   "cell_type": "code",
   "execution_count": 18,
   "id": "e89aa89f-bc33-474a-8676-0c8f844e48a6",
   "metadata": {},
   "outputs": [
    {
     "data": {
      "application/vnd.jupyter.widget-view+json": {
       "model_id": "6fb9eb21bb7a4f57bfcda5e6882e3d73",
       "version_major": 2,
       "version_minor": 0
      },
      "text/plain": [
       "Accordion(children=(HTML(value='', layout=Layout(height='16em', width='100%')),), titles=('Log Output',))"
      ]
     },
     "metadata": {},
     "output_type": "display_data"
    },
    {
     "name": "stdout",
     "output_type": "stream",
     "text": [
      "The solution to the linear coercive model is \n",
      " [[ 0.10004002+2.00080032e-03j -0.10004002+2.00080032e-03j\n",
      "   0.050005  +5.00050005e-04j ...  0.001003  -2.01204612e-06j\n",
      "   0.001002  -2.00801600e-06j  0.001001  -2.00399798e-06j]].\n",
      "The exact value of the matrix computation ((-1+2j)I - A)^{-1}B is \n",
      " [[ 0.10004002+2.00080032e-03j -0.10004002+2.00080032e-03j\n",
      "   0.050005  +5.00050005e-04j ...  0.001003  -2.01204612e-06j\n",
      "   0.001002  -2.00801600e-06j  0.001001  -2.00399798e-06j]].\n",
      "The L-infinity error is 1.3877787807814457e-17.\n"
     ]
    }
   ],
   "source": [
    "from pymor.algorithms.to_matrix import to_matrix\n",
    "\n",
    "# Set parameter for evaluation\n",
    "parameter = {'s': -1 + 2*1j}  # s = - 1 + 2i\n",
    "\n",
    "# Solve the model\n",
    "solution = model_penzl.solve(parameter).to_numpy()\n",
    "\n",
    "# Exact matrix computation\n",
    "matrixA = to_matrix(penzl.A).toarray()\n",
    "matrixB = to_matrix(penzl.B)\n",
    "\n",
    "exact = (inv(parameter['s']*np.eye(penzl.order) - matrixA)@matrixB).reshape(1, penzl.order)\n",
    "\n",
    "# A comparison between the model's result and the exact matrix computation\n",
    "print(f'The solution to the linear coercive model is \\n {solution}.')\n",
    "print(f'The exact value of the matrix computation ({parameter[\"s\"]}I - A)^{{-1}}B is \\n {exact}.')\n",
    "print(f'The L-infinity error is {np.max(abs(exact - solution))}.')"
   ]
  },
  {
   "cell_type": "markdown",
   "id": "6c4524c1-8f04-477e-ae98-8d0833a2d987",
   "metadata": {},
   "source": [
    "## Reduced Basis Methods\n",
    "\n",
    "As an example, we will use `penzl_example` from `pymor.models.examples` to construct a reduced basis using the reduced basis methods available in `pyMOR`."
   ]
  },
  {
   "cell_type": "markdown",
   "id": "698bffee-4de6-4e31-8a3f-52807cd936a1",
   "metadata": {},
   "source": [
    "### POD-Galerkin Method\n",
    "\n",
    "As a first test, we restrict ourselves to the parameter space $\\mathcal{P} = [0.01, 10] \\subset \\mathbb{R}$"
   ]
  },
  {
   "cell_type": "code",
   "execution_count": 25,
   "id": "d1790e6b-5614-4256-b6dc-af50775d4d3d",
   "metadata": {},
   "outputs": [
    {
     "data": {
      "application/vnd.jupyter.widget-view+json": {
       "model_id": "ff4161bd46744cd0b0967353aa8d861e",
       "version_major": 2,
       "version_minor": 0
      },
      "text/plain": [
       "Accordion(children=(HTML(value='', layout=Layout(height='16em', width='100%')),), titles=('Log Output',))"
      ]
     },
     "metadata": {},
     "output_type": "display_data"
    },
    {
     "data": {
      "text/plain": [
       "StationaryModel(\n",
       "    LincombOperator(\n",
       "        (NumpyMatrixOperator(<14x14 dense>), NumpyMatrixOperator(<14x14 dense>)),\n",
       "        (ProjectionParameterFunctional('s', index=0), -1)),\n",
       "    NumpyMatrixOperator(<14x1 dense>),\n",
       "    output_functional=ZeroOperator(NumpyVectorSpace(0), NumpyVectorSpace(14)),\n",
       "    products={},\n",
       "    output_d_mu_use_adjoint=True,\n",
       "    name='StationaryModel_reduced')"
      ]
     },
     "execution_count": 25,
     "metadata": {},
     "output_type": "execute_result"
    }
   ],
   "source": [
    "from pymor.algorithms.pod import pod\n",
    "from pymor.reductors.basic import StationaryRBReductor\n",
    "\n",
    "# Define a parameter space\n",
    "parameter_space = model_penzl.parameters.space(0.01, 10.)\n",
    "\n",
    "# Define a training set\n",
    "training_size = 50\n",
    "training_set = parameter_space.sample_randomly(training_size)\n",
    "\n",
    "# Compute FOM solutions for the parameters in the training set\n",
    "solution_snapshots = model_penzl.solution_space.empty()\n",
    "for s in training_set:\n",
    "    solution_snapshots.append(model_penzl.solve(s))\n",
    "\n",
    "#Compute POD #TODO are the default tolerances of pymor okay for us?\n",
    "pod_basis, singular_values = pod(solution_snapshots, rtol=0, atol=0)\n",
    "\n",
    "# POD-Galerkin RB method\n",
    "pod_reductor = StationaryRBReductor(model_penzl, RB = pod_basis) \n",
    "pod_rom = pod_reductor.reduce()\n",
    "pod_rom\n"
   ]
  },
  {
   "cell_type": "code",
   "execution_count": 28,
   "id": "9eaeba71-9b3d-4120-a2c2-719e91897e16",
   "metadata": {},
   "outputs": [
    {
     "data": {
      "application/vnd.jupyter.widget-view+json": {
       "model_id": "67ad42121ad44b32949ea762358a384c",
       "version_major": 2,
       "version_minor": 0
      },
      "text/plain": [
       "Accordion(children=(HTML(value='', layout=Layout(height='16em', width='100%')),), titles=('Log Output',))"
      ]
     },
     "metadata": {},
     "output_type": "display_data"
    }
   ],
   "source": [
    "import time\n",
    "\n",
    "# Start timing\n",
    "start_time_reduce = time.time()\n",
    "\n",
    "# Define a validation set\n",
    "validation_size = 10\n",
    "validation_set = parameter_space.sample_randomly(validation_size)\n",
    "\n",
    "# Solution array containing r many reduced samples\n",
    "reduced_solution = pod_rom.solution_space.empty()\n",
    "for s in validation_set:\n",
    "    reduced_solution.append(pod_rom.solve(s))\n",
    "\n",
    "# Compute and print the elapsed time\n",
    "elapsed_time_reduce = time.time() - start_time_reduce\n",
    "\n",
    "# Reconstruct high-dimensional vector from reduced vector (necessary for error analysis)\n",
    "reduced_solution_reconstruct = pod_reductor.reconstruct(reduced_solution)\n",
    "\n",
    "##############################################################################################\n",
    "\n",
    "# Start timing\n",
    "start_time_full = time.time()\n",
    "\n",
    "# FOM solution\n",
    "full_solution = model_penzl.solution_space.empty()\n",
    "for s in validation_set:\n",
    "    full_solution.append(model_penzl.solve(s))\n",
    "    \n",
    "# End timing\n",
    "end_time_full = time.time()\n",
    "\n",
    "# Compute and print the elapsed time\n",
    "elapsed_time_full = end_time_full - start_time_full\n",
    "\n",
    "# Convert FOM solution into NumPy array\n",
    "#TODO we can do all of this in pyMOR language\n",
    "full_solution_numpy = full_solution.to_numpy()\n",
    "\n",
    "# ROM solution\n",
    "reduced_solution_reconstruct_numpy = reduced_solution_reconstruct.to_numpy()\n",
    "\n"
   ]
  },
  {
   "cell_type": "markdown",
   "id": "789a5580",
   "metadata": {},
   "source": [
    "Now we can compare the error of FOM and ROM as well as the computational times."
   ]
  },
  {
   "cell_type": "code",
   "execution_count": 32,
   "id": "bee71931-6949-45a9-83b5-95518bea1b09",
   "metadata": {},
   "outputs": [
    {
     "name": "stdout",
     "output_type": "stream",
     "text": [
      "-------------------- Look below to check if things are going well ------------------------------\n",
      "-------------------- Linf and L2 norms (array) of error vectors ------------------------------\n",
      "The L-infinity norm of (FOM solution - ROM solution) is [1.31283873e-14 9.27036226e-15 8.28503932e-15 4.91690022e-14\n",
      " 6.25888230e-15 2.60763633e-14 3.84314802e-12 6.31439345e-15\n",
      " 1.52655666e-15 2.04558592e-14].\n",
      "The L-2 norm of (FOM solution - ROM solution) is [2.04540795e-14 1.41743598e-14 1.33405998e-14 7.92082768e-14\n",
      " 1.02734539e-14 4.22085860e-14 5.73439901e-12 1.00775338e-14\n",
      " 2.52394155e-15 3.12994588e-14]. \n",
      "\n",
      "Total computation time of POD-Galerkin ROM: 0.0059940815 seconds.\n",
      "Total computation time of FOM: 0.5253000259 seconds.\n"
     ]
    }
   ],
   "source": [
    "\n",
    "error_fom = full_solution_numpy - reduced_solution_reconstruct_numpy\n",
    "num_rows = error_fom.shape[0]\n",
    "linfnorm_fom = np.zeros(num_rows)\n",
    "l2norm_fom = np.zeros(num_rows)\n",
    "\n",
    "for row_number in range(num_rows):\n",
    "    linfnorm_fom[row_number] = np.linalg.norm(error_fom[row_number], np.inf)\n",
    "    l2norm_fom[row_number] = np.linalg.norm(error_fom[row_number])  \n",
    "\n",
    "# Printing error results\n",
    "print('-'*20 + ' Linf and L2 norms (array) of error vectors '+'-'*30)\n",
    "print(f'The L-infinity norm of (FOM solution - ROM solution) is {linfnorm_fom}.')\n",
    "print(f'The L-2 norm of (FOM solution - ROM solution) is {l2norm_fom}. \\n')\n",
    "\n",
    "# Computational time analysis (execution time analysis)\n",
    "print(f'Total computation time of POD-Galerkin ROM: {elapsed_time_reduce:.10f} seconds.')\n",
    "print(f'Total computation time of FOM: {elapsed_time_full:.10f} seconds.')"
   ]
  },
  {
   "cell_type": "markdown",
   "id": "62eb7e70-10ec-4dfc-a4ec-d2b1e2cfb632",
   "metadata": {},
   "source": [
    "## Summary of POD-Galerkin Method"
   ]
  },
  {
   "cell_type": "code",
   "execution_count": 49,
   "id": "6ca0f94f-36b2-4ca5-9061-415655e4e449",
   "metadata": {},
   "outputs": [],
   "source": [
    "#TODO if dim and reducded order are restricted to int, the also A,B,.. should be somehow constrained id say\n",
    "def MatrixPODReductor(A, B, dim: int, training_set, validation_set, reduced_order: int):\n",
    "\n",
    "    #TODO some asserts for A, B, also regarding the dimension\n",
    "\n",
    "    # Construct Matrix induced StationaryModel\n",
    "    model_penzl = MatrixModel(A, B, dim = dim)\n",
    "\n",
    "    # Compute FOM solutions for the parameters in the training set\n",
    "    solution_snapshots = model_penzl.solution_space.empty()\n",
    "    for s in training_set:\n",
    "        solution_snapshots.append(model_penzl.solve(s))\n",
    "\n",
    "    #TODO i comment out all of this stuff and deleted it already above, as it is not required anymore when we fully work within the pyMOR framework\n",
    "    # Snapshot matrix S\n",
    "    #snapshot_matrix = solution_snapshots.to_numpy().T\n",
    "\n",
    "    # Finding the Singular Value Decomposition (SVD) of the snapshot matrix -> S = UΣV^T\n",
    "    # U, D, Vt = np.linalg.svd(snapshot_matrix, full_matrices = True)\n",
    "\n",
    "    # # The reduced basis (POD basis)\n",
    "    # pod_basis_numpy = U[:,:reduced_order]\n",
    "\n",
    "    # # Convert NumPy array into VectorArray \n",
    "    # space = NumpyVectorSpace(model_penzl.order)\n",
    "    # pod_basis = space.make_array(pod_basis_numpy.T) #This is actually transpose of POD-RB basis\n",
    "\n",
    "    pod_basis, sv = pod(solution_snapshots, modes=reduced_order, rtol=0, atol=0)\n",
    "\n",
    "    #TODO maybe a warning would be better\n",
    "    if reduced_order > len(sv):\n",
    "         raise ValueError(\"'reduced_order' cannot exceed the rank of the snapshot matrix.\")\n",
    "    \n",
    "\n",
    "    # POD-Galerkin RB method\n",
    "    pod_reductor = StationaryRBReductor(model_penzl, RB = pod_basis) \n",
    "    pod_rom = pod_reductor.reduce()\n",
    "\n",
    "    # Solution array containing r many reduced samples\n",
    "    reduced_solution = pod_rom.solution_space.empty()\n",
    "    for s in validation_set:\n",
    "        reduced_solution.append(pod_rom.solve(s))\n",
    "\n",
    "    return [reduced_solution, pod_reductor]"
   ]
  },
  {
   "cell_type": "markdown",
   "id": "0673d8d6-cf7d-41b9-a8a4-3d8b3a5e5738",
   "metadata": {},
   "source": [
    "### Examples (with both real and complex parameters)"
   ]
  },
  {
   "cell_type": "code",
   "execution_count": 36,
   "id": "70a0e3ee-4712-4fac-9cac-8f5be76f54a0",
   "metadata": {},
   "outputs": [
    {
     "data": {
      "application/vnd.jupyter.widget-view+json": {
       "model_id": "08123437bdc9420591258d39f1da8f9d",
       "version_major": 2,
       "version_minor": 0
      },
      "text/plain": [
       "Accordion(children=(HTML(value='', layout=Layout(height='16em', width='100%')),), titles=('Log Output',))"
      ]
     },
     "metadata": {},
     "output_type": "display_data"
    },
    {
     "data": {
      "text/plain": [
       "array([[ 0.10384895, -0.09582893,  0.05098356, ...,  0.00099898,\n",
       "         0.00099799,  0.00099699],\n",
       "       [ 0.10552475, -0.09378358,  0.05142812, ...,  0.00099712,\n",
       "         0.00099612,  0.00099513],\n",
       "       [ 0.10700871, -0.09183308,  0.05183253, ...,  0.00099539,\n",
       "         0.0009944 ,  0.00099341],\n",
       "       ...,\n",
       "       [ 0.10610034, -0.09304361,  0.05158367, ...,  0.00099646,\n",
       "         0.00099546,  0.00099447],\n",
       "       [ 0.10676766, -0.09215961,  0.05176606, ...,  0.00099568,\n",
       "         0.00099468,  0.0009937 ],\n",
       "       [ 0.10202429, -0.09789022,  0.05051158, ...,  0.00100093,\n",
       "         0.00099993,  0.00099893]])"
      ]
     },
     "execution_count": 36,
     "metadata": {},
     "output_type": "execute_result"
    }
   ],
   "source": [
    "penzl = penzl_example()\n",
    "A = penzl.A\n",
    "B = penzl.B\n",
    "dim = penzl.order \n",
    "\n",
    "reduced_order = 10\n",
    "\n",
    "[reduced_solution, pod_reductor] = MatrixPODReductor(A, B, dim, training_set, validation_set, reduced_order = reduced_order) #NOTE reduced_order must be less than or equal to len(training_set) #TDOO could be an assert in the method i suppose\n",
    "\n",
    "# Reconstruct high-dimensional vector from reduced vector\n",
    "reduced_solution_reconstruct = pod_reductor.reconstruct(reduced_solution)"
   ]
  },
  {
   "cell_type": "markdown",
   "id": "9162071b",
   "metadata": {},
   "source": [
    "Okay this all works fine! Now we want to investigate the error decay when increasing the size of the reduced basis. "
   ]
  },
  {
   "cell_type": "code",
   "execution_count": 70,
   "id": "cf3c33fc-e9aa-40be-beb8-f2442f88c33e",
   "metadata": {},
   "outputs": [
    {
     "data": {
      "application/vnd.jupyter.widget-view+json": {
       "model_id": "700c4878713b49afb29cd4af3d436ae3",
       "version_major": 2,
       "version_minor": 0
      },
      "text/plain": [
       "Accordion(children=(HTML(value='', layout=Layout(height='16em', width='100%')),), titles=('Log Output',))"
      ]
     },
     "metadata": {},
     "output_type": "display_data"
    }
   ],
   "source": [
    "validation_solution_fom = model_penzl.solution_space.empty() \n",
    "for s in validation_set: \n",
    "    validation_solution_fom.append(model_penzl.solve(s))\n",
    "\n",
    "# Data for an error plot\n",
    "order_list = np.arange(1, reduced_order + 1)\n",
    "linf_list = np.zeros(reduced_order)\n",
    "l2_list = np.zeros(reduced_order)\n",
    "\n",
    "linf_list_mor = np.zeros(reduced_order)\n",
    "l2_list_mor = np.zeros(reduced_order)\n",
    "\n",
    "#TODO ask hendrik for correct error measures\n",
    "\n",
    "for i in range(reduced_order):\n",
    "    [reduced_solution, pod_reductor] = MatrixPODReductor(penzl.A, penzl.B, penzl.order, training_set, validation_set, reduced_order = i+1)\n",
    "    reduced_solution_reconstruct = pod_reductor.reconstruct(reduced_solution)\n",
    "    reduced_solution_reconstruct_numpy = reduced_solution_reconstruct.to_numpy()\n",
    "\n",
    "    linf_list[i] = np.linalg.norm(validation_solution_fom.to_numpy() - reduced_solution_reconstruct_numpy, np.inf)\n",
    "    l2_list[i] = np.linalg.norm(validation_solution_fom.to_numpy() - reduced_solution_reconstruct_numpy, 2)\n",
    "    l2_list[i] = np.mean(np.linalg.norm(validation_solution_fom.to_numpy() - reduced_solution_reconstruct_numpy, axis=1))\n",
    "\n",
    "    l2_list_mor[i] = np.mean((validation_solution_fom - reduced_solution_reconstruct).norm())\n",
    "\n"
   ]
  },
  {
   "cell_type": "code",
   "execution_count": 71,
   "id": "5b9c59c6-bdf9-40f8-b962-21b329d0d019",
   "metadata": {
    "scrolled": true
   },
   "outputs": [
    {
     "data": {
      "image/png": "[encoded data removed]",
      "text/plain": [
       "<Figure size 1200x800 with 1 Axes>"
      ]
     },
     "metadata": {},
     "output_type": "display_data"
    }
   ],
   "source": [
    "# Error norm plot\n",
    "fig, ax = plt.subplots(figsize=(12, 8), dpi=100)\n",
    "ax.semilogy(order_list, linf_list, label = r\"$L^\\infty$ Norm\", marker='x', color='red', lw = 0.8)\n",
    "ax.semilogy(order_list, l2_list, label = r\"$L^2$ Norm\", marker='x', color='blue', lw = 0.8)\n",
    "ax.set_title(\"Error norms\")\n",
    "ax.set_xlabel(\"Reduced order\")\n",
    "ax.legend()\n",
    "\n",
    "# Show the plot\n",
    "plt.show()"
   ]
  },
  {
   "cell_type": "markdown",
   "id": "56fc9c12-716b-47c0-9866-587966bd264f",
   "metadata": {},
   "source": [
    "### Complex-valued training and validation set (A Vital Step for IRKA)\n",
    "In this section, we will examine the Matrix Reduction method using a complex-valued training set and validation set for complex parameters. For the IRKA method, we need to compute matrices at complex-valued interpolation points, and we will check if it works for complex parameters as well. As an example, we will again use `penzl_example` from `pymor.models.examples`."
   ]
  },
  {
   "cell_type": "code",
   "execution_count": 47,
   "id": "bba4cdd3-1127-4191-bc96-ecb169a3109b",
   "metadata": {},
   "outputs": [
    {
     "name": "stdout",
     "output_type": "stream",
     "text": [
      "An imaginary training set is [Mu({'s': array(1.34558586+2.93659197j)}), Mu({'s': array(8.05844747+4.2056032j)}), Mu({'s': array(7.08296493+5.5145707j)}), Mu({'s': array(7.59050175+9.47098749j)}), Mu({'s': array(9.46135433+0.98438216j)}), Mu({'s': array(9.96258884+4.82191358j)}), Mu({'s': array(2.96664858+8.0922364j)}), Mu({'s': array(4.15193175+8.014677j)}), Mu({'s': array(0.8330084+5.84345011j)}), Mu({'s': array(2.56815041+6.54612153j)}), Mu({'s': array(8.42831016+7.3700454j)}), Mu({'s': array(0.71346068+3.96832021j)}), Mu({'s': array(8.46369378+4.70860856j)}), Mu({'s': array(5.40423529+4.45134269j)}), Mu({'s': array(7.24516959+7.4058801j)}), Mu({'s': array(3.31735267+4.42845169j)}), Mu({'s': array(8.63661868+3.09923175j)}), Mu({'s': array(5.21894437+5.0676271j)}), Mu({'s': array(4.3705362+6.72635339j)}), Mu({'s': array(1.16384177+8.61184988j)}), Mu({'s': array(7.75789752+8.52962149j)}), Mu({'s': array(7.67693591+2.3312145j)}), Mu({'s': array(7.01695444+8.53800049j)}), Mu({'s': array(3.08584056+8.06941697j)}), Mu({'s': array(3.99626533+0.76437884j)}), Mu({'s': array(7.06287066+8.11632326j)}), Mu({'s': array(6.91070482+9.95845885j)}), Mu({'s': array(3.1075529+5.1348375j)}), Mu({'s': array(5.12491975+1.78062538j)}), Mu({'s': array(5.64738222+1.36417066j)})].\n",
      "An imaginary validation set is [Mu({'s': array(7.05513777+4.87137008j)}), Mu({'s': array(7.21554861+0.57936254j)}), Mu({'s': array(3.98602928+8.35417964j)}), Mu({'s': array(3.37631607+11.13426094j)}), Mu({'s': array(1.18505174+1.62728737j)}), Mu({'s': array(4.00734952+12.64858766j)}), Mu({'s': array(14.51728409+2.29442939j)}), Mu({'s': array(13.6916716+11.87381209j)}), Mu({'s': array(1.12431859+8.51193509j)}), Mu({'s': array(2.45071439+2.63074401j)})].\n"
     ]
    }
   ],
   "source": [
    "from pymor.parameters.base import Mu\n",
    "\n",
    "# Create an imaginary training set\n",
    "card_training_set = 30\n",
    "complex_parameters_training = 10*np.random.random_sample((card_training_set,)) + 10*1j*np.random.random_sample((card_training_set,))\n",
    "imaginary_training_set = []\n",
    "\n",
    "for i in range(card_training_set):\n",
    "    imaginary_training_set.append(Mu({'s': np.array(complex_parameters_training[i])}))\n",
    "\n",
    "# Create a validation set\n",
    "card_validation_set = 10\n",
    "complex_parameters_validation = 15*np.random.random_sample((card_training_set,)) + 15*1j*np.random.random_sample((card_training_set,))\n",
    "imaginary_validation_set = []\n",
    "\n",
    "for i in range(card_validation_set):\n",
    "    imaginary_validation_set.append(Mu({'s': np.array(complex_parameters_validation[i])}))\n",
    "\n",
    "print(f'An imaginary training set is {imaginary_training_set}.')\n",
    "print(f'An imaginary validation set is {imaginary_validation_set}.')"
   ]
  },
  {
   "cell_type": "code",
   "execution_count": 50,
   "id": "82171b89-7d68-46b5-939a-8706b8fc0d9b",
   "metadata": {},
   "outputs": [
    {
     "data": {
      "application/vnd.jupyter.widget-view+json": {
       "model_id": "47d4b4bce8ae42fb926609eb50cb4c6e",
       "version_major": 2,
       "version_minor": 0
      },
      "text/plain": [
       "Accordion(children=(HTML(value='', layout=Layout(height='16em', width='100%')),), titles=('Log Output',))"
      ]
     },
     "metadata": {},
     "output_type": "display_data"
    }
   ],
   "source": [
    "from pymor.models.examples import penzl_example\n",
    "\n",
    "penzl = penzl_example()\n",
    "A = penzl.A\n",
    "B = penzl.B\n",
    "dim = penzl.order\n",
    "\n",
    "reduced_order_complex = 20\n",
    "\n",
    "# Reduced solution\n",
    "[reduced_solution, pod_reductor] = MatrixPODReductor(A, B, dim, imaginary_training_set, imaginary_validation_set, reduced_order = reduced_order_complex)\n",
    "\n",
    "# Reconstruct high-dimensional vector from reduced vector\n",
    "reduced_solution_reconstruct = pod_reductor.reconstruct(reduced_solution)"
   ]
  },
  {
   "cell_type": "markdown",
   "id": "cc4fa0b4",
   "metadata": {},
   "source": [
    "Nice! Also the construction using complex valued parameters works. Not lets examine the error we obtain: "
   ]
  },
  {
   "cell_type": "code",
   "execution_count": 68,
   "id": "93a2912e-f423-4da6-a51c-84e7f3c7fbe0",
   "metadata": {},
   "outputs": [
    {
     "data": {
      "application/vnd.jupyter.widget-view+json": {
       "model_id": "c11f973239d04eef8d60c2c40db80ed3",
       "version_major": 2,
       "version_minor": 0
      },
      "text/plain": [
       "Accordion(children=(HTML(value='', layout=Layout(height='16em', width='100%')),), titles=('Log Output',))"
      ]
     },
     "metadata": {},
     "output_type": "display_data"
    }
   ],
   "source": [
    "# # Converting matrices to numpy arrays\n",
    "# matrixA = to_matrix(penzl.A).toarray()\n",
    "# matrixB = to_matrix(penzl.B)\n",
    "\n",
    "# # Create a NumPy array containing parameters\n",
    "# s_values = np.array([s['s'] for s in imaginary_validation_set]) \n",
    "\n",
    "# # Identity matrix of appropriate size\n",
    "# identity = np.eye(penzl.order)\n",
    "\n",
    "# # Exact solution\n",
    "# exact_solution = np.vstack([(np.linalg.inv(s * identity - matrixA) @ matrixB).flatten() for s in s_values])\n",
    "\n",
    "fom_solution_complex_validation = model_penzl.solution_space.empty()\n",
    "for s in imaginary_validation_set: \n",
    "    fom_solution_complex_validation.append(model_penzl.solve(s))\n",
    "\n",
    "# Data\n",
    "order_list = np.arange(1, reduced_order_complex + 1)\n",
    "linf_list = np.zeros(reduced_order_complex)\n",
    "l2_list = np.zeros(reduced_order_complex)\n",
    "\n",
    "for i in range(reduced_order_complex):\n",
    "    [reduced_solution, pod_reductor] = MatrixPODReductor(A, B, dim, imaginary_training_set, imaginary_validation_set, reduced_order = i+1)\n",
    "    reduced_solution_reconstruct = pod_reductor.reconstruct(reduced_solution)\n",
    "    reduced_solution_reconstruct_numpy = reduced_solution_reconstruct.to_numpy()\n",
    "    linf_list[i] = np.linalg.norm(fom_solution_complex_validation.to_numpy() - reduced_solution_reconstruct_numpy, np.inf)\n",
    "    l2_list[i] = np.linalg.norm(fom_solution_complex_validation.to_numpy() - reduced_solution_reconstruct_numpy, 2)"
   ]
  },
  {
   "cell_type": "code",
   "execution_count": 69,
   "id": "89c47b8a-77ca-4ae2-b44a-ce5243cc652f",
   "metadata": {},
   "outputs": [
    {
     "data": {
      "image/png": "[encoded data removed]",
      "text/plain": [
       "<Figure size 1200x800 with 1 Axes>"
      ]
     },
     "metadata": {},
     "output_type": "display_data"
    }
   ],
   "source": [
    "# Error norm plot\n",
    "fig, ax = plt.subplots(figsize=(12, 8), dpi=100)\n",
    "ax.semilogy(order_list[7:], linf_list[7:], label = r\"$L^\\infty$ Norm\", marker='x', color='red', ms = 0.8)\n",
    "ax.semilogy(order_list[7:], l2_list[7:], label = r\"$L^2$ Norm\", marker='x', color='blue', ms = 0.9)\n",
    "ax.set_title(\"Error norms\")\n",
    "ax.set_xlabel(\"Reduced order\")\n",
    "ax.legend()\n",
    "\n",
    "# Show the plot\n",
    "plt.show()"
   ]
  },
  {
   "cell_type": "markdown",
   "id": "405bd744-844f-4ae9-9a57-0d4dcc71fc6d",
   "metadata": {},
   "source": [
    "### Hooray!🎉 It also seems to handle complex parameters\n",
    "Let us check the $L_{\\infty}$ and $L_{2}$ norms for complex parameters to explicitly see the error values."
   ]
  }
 ],
 "metadata": {
  "kernelspec": {
   "display_name": "Python 3",
   "language": "python",
   "name": "python3"
  },
  "language_info": {
   "codemirror_mode": {
    "name": "ipython",
    "version": 3
   },
   "file_extension": ".py",
   "mimetype": "text/x-python",
   "name": "python",
   "nbconvert_exporter": "python",
   "pygments_lexer": "ipython3",
   "version": "3.11.1"
  }
 },
 "nbformat": 4,
 "nbformat_minor": 5
}
